{
  "nbformat": 4,
  "nbformat_minor": 0,
  "metadata": {
    "colab": {
      "provenance": [],
      "authorship_tag": "ABX9TyOTjdWjG2S4vUngXiwPbT01"
    },
    "kernelspec": {
      "name": "python3",
      "display_name": "Python 3"
    },
    "language_info": {
      "name": "python"
    }
  },
  "cells": [
    {
      "cell_type": "markdown",
      "source": [
        "### Probabilidad\n",
        "* Espacio muestral: todo\n",
        "* Eventos o Sucesos: sub conjunto del espacio muestral\n",
        "  * Simples o compuestos\n",
        "  * Mutuamente excluyentes o independientes\n",
        "\n",
        "**Recursos**\n",
        "* https://relopezbriega.github.io/blog/2017/05/21/introduccion-a-la-inferencia-bayesiana-con-python/#:~:text=El%20Teorema%20de%20Bayes,-Thomas%20Bayes%20fue&text=P(D%7CH)%20es,m%C3%A1s%20peso%20en%20los%20resultados.\n",
        "\n",
        "* https://python.eugeniabahit.com/static/pdf/CienciaDeDatosConPython-Ed2018.pdf\n",
        "\n",
        "* https://blog.findemor.es/2017/12/machine-learning-introduccion-estadistica-basica-python/#sec06\n",
        "\n",
        "* https://www.youtube.com/watch?v=hXwUI9Q3GAU"
      ],
      "metadata": {
        "id": "e0MXou98qeTw"
      }
    },
    {
      "cell_type": "markdown",
      "source": [
        "SIMPLES Y MUTUAMENTE EXCLUYENTES\n",
        "1. Si son sucesos simples y mutuamente excluyentes entre si la **probabilidad es es la misma** para cada suceso"
      ],
      "metadata": {
        "id": "rB1kH5zi_Xxr"
      }
    },
    {
      "cell_type": "code",
      "execution_count": null,
      "metadata": {
        "colab": {
          "base_uri": "https://localhost:8080/"
        },
        "id": "bbeerQC0nx5J",
        "outputId": "4f55e8f9-de93-4522-b94a-1a965de51881"
      },
      "outputs": [
        {
          "output_type": "stream",
          "name": "stdout",
          "text": [
            "Probabilidad del evento:  0.17\n",
            "Prob que la suma de dos dados sea 6:  0.14\n"
          ]
        }
      ],
      "source": [
        "# Espacio muestral de un dado\n",
        "espacio = (1, 2, 3, 4, 5, 6)\n",
        "\n",
        "# Obtener 6 en el dado\n",
        "evento = [espacio[5]]\n",
        "\n",
        "# Probabilidad de 1/6\n",
        "prob = len(evento) / len(espacio)\n",
        "\n",
        "print('Probabilidad del evento: ', round(prob,2))"
      ]
    },
    {
      "cell_type": "markdown",
      "source": [
        "SUCESOS COMPUESTOS POR SUCESOS SIMPLE Y MUTUAMENTE EXCLUYENTES\n",
        "* La probabilidad del suceso esta dada por la suma de probabilidades"
      ],
      "metadata": {
        "id": "QqQnHoyNAvuw"
      }
    },
    {
      "cell_type": "code",
      "source": [
        "espacio = (1, 2, 3, 4, 5, 6)\n",
        "\n",
        "numeros_pares = [i for i in espacio if i % 2 is 0] # todos los pares del espacio\n",
        "h = len(numeros_pares)\n",
        "n = len(espacio)\n",
        "\n",
        "probabilidad = float(h) / n\n",
        "\n",
        "print('Probabilidad de numeros pares en un dado: ', probabilidad)\n",
        "\n",
        "# ES lo mismo que generar una suma de P(2) + P(4) + P(6)"
      ],
      "metadata": {
        "colab": {
          "base_uri": "https://localhost:8080/"
        },
        "id": "VFQLoUEnBlIF",
        "outputId": "fc629f58-9022-4195-c3e5-e2ab12c312ea"
      },
      "execution_count": null,
      "outputs": [
        {
          "output_type": "stream",
          "name": "stdout",
          "text": [
            "Probabilidad de numeros pares en un dado:  0.5\n"
          ]
        }
      ]
    },
    {
      "cell_type": "markdown",
      "source": [
        "#### Probabilidad Condicional\n",
        "* Es la probabilida de la intereseccion si los sucesos son independientes \n",
        "\n",
        "  P(A) * P(B)\n",
        "\n",
        "* Probabilidad de A dado que ocurrio B. Ahora que B ocurrio afecta la  probabilidad de ocurrencia de A. La probabilidad si los sucesos son dependientes\n",
        "\n",
        " P(B|A) = P(A,B) / P(A)\n",
        "\n",
        "\n",
        "###### Ejemplo\n",
        "Qué probabilidad existe de que al lanzar un dado resulte un número impar menor que 4?\n"
      ],
      "metadata": {
        "id": "4Y8Bf4vMqRpi"
      }
    },
    {
      "cell_type": "code",
      "source": [
        "# Espacio muestral\n",
        "espacio = (1,2,3,4,5,6)\n",
        "\n",
        "# Resultados impares\n",
        "impares = (1,3,5)\n",
        "\n",
        "# Resultados menores a 4\n",
        "menores = (1,2,3)\n",
        "\n",
        "# Interseccion impares y menores\n",
        "intersec = [i for i in impares if i in menores]\n",
        "print('interseccion: ', intersec)\n",
        "\n",
        "# Probabilidad de la interseccion\n",
        "# P(1) + P(3) = 1/6 + 1/6\n",
        "# P(impares) = 3/6\n",
        "prob_B_A = (1/6 + 1/6) / (3/6)\n",
        "\n",
        "print('probabilidad es: ', round(prob_B_A,2))"
      ],
      "metadata": {
        "colab": {
          "base_uri": "https://localhost:8080/"
        },
        "id": "LfhggeFXHcex",
        "outputId": "6eb0c95c-e3d1-4213-ef79-bd6411c92039"
      },
      "execution_count": null,
      "outputs": [
        {
          "output_type": "stream",
          "name": "stdout",
          "text": [
            "interseccion:  [1, 3]\n",
            "probabilidad es:  0.67\n"
          ]
        }
      ]
    },
    {
      "cell_type": "markdown",
      "source": [
        "#### Teorema de Bayes\n",
        "* Probabilidad de las causas\n",
        "*  ¿Cual es la probabilidad de que dado de que se observo un determinado efecto B, la causa haya sido A?\n",
        "\n",
        " P(A|B) = P(A)P(B|A) / P(B)\n",
        "\n",
        "* Tenemos dos medicamentos A y B, que se prueban en distintos pacientes. \n",
        "\n",
        "  * porcentaje de fracaso con el medicamento A es del 20%\n",
        "  * porcentaje de fracaso con el medicamento B es del 10%\n",
        "  * El medicamento B solo se aplica el 30% de las veces \n",
        "  * El medicamento A solo se aplica el 70% de pacientes \n",
        "  * Un paciente recibio tratamiento pero NO se curó\n",
        "  \n",
        "  ¿Cual es entonces la probabilidad de que se le haya tratado con el medicamento A?\n",
        "\n",
        "   Probabilidad de que haya tomado el medicamento A habiendo fracasado el tratamiento."
      ],
      "metadata": {
        "id": "JOnVdNVnLPfI"
      }
    },
    {
      "cell_type": "code",
      "source": [
        "# P(A|F)\n",
        "p_fracaso = (0.7*0.2)+(0.3*0.1) #evidencia\n",
        "p_apriori = 0.7\n",
        "p_likelihood = 0.2 # probabilidad que fracase el medicamento a\n",
        "(p_likelihood*p_apriori)/p_fracaso"
      ],
      "metadata": {
        "colab": {
          "base_uri": "https://localhost:8080/"
        },
        "id": "DIphVTeYLRdP",
        "outputId": "b03f439f-8234-42c0-ce15-4064bc3296c1"
      },
      "execution_count": null,
      "outputs": [
        {
          "output_type": "execute_result",
          "data": {
            "text/plain": [
              "0.8235294117647058"
            ]
          },
          "metadata": {},
          "execution_count": 4
        }
      ]
    },
    {
      "cell_type": "code",
      "source": [],
      "metadata": {
        "id": "5pHRvrhaVsTx"
      },
      "execution_count": null,
      "outputs": []
    }
  ]
}