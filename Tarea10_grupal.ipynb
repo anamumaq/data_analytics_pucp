{
  "cells": [
    {
      "cell_type": "markdown",
      "metadata": {
        "id": "asFiW1FPxdid"
      },
      "source": [
        "<img src=\"https://www.python.org/static/img/python-logo.png\" width=\"300\" alt=\"Python logo\"  />\n",
        "<font color='blue'>\n",
        "$\\Large\\text{Pontificia Universidad Católica del Perú}$</font>"
      ]
    },
    {
      "cell_type": "markdown",
      "metadata": {
        "id": "lPfUyzulvj_S"
      },
      "source": [
        "$$\\Large \\textit{Estadística Aplicada}$$\n",
        "\n",
        "$$\\large\\textbf{Trabajo Grupal Clase 10: Toma de decisiones estadísticas}$$\n",
        "\n",
        "_Integrantes:_\n",
        "\n",
        "*   Ana Muñoz\n",
        "*   Jordan Capa\n",
        "*   César Barreto\n",
        "___"
      ]
    },
    {
      "cell_type": "markdown",
      "metadata": {
        "id": "MgD8-Ki_dqld"
      },
      "source": [
        "# Actividad grupal"
      ]
    },
    {
      "cell_type": "markdown",
      "metadata": {
        "id": "5p06NvX1oPfG"
      },
      "source": [
        "Caso de estudio: **\"Base financiera\"**\n",
        "\n",
        "Haciendo uso de la base entregada desarrollar los siguientes items:\n",
        "\n",
        "\n",
        "Total de puntos (20 ptos)\n"
      ]
    },
    {
      "cell_type": "markdown",
      "metadata": {
        "id": "M3wJDaCryGsV"
      },
      "source": [
        "### **Paso 1**\n",
        "1. Carga y muestreo. **(2ptos)**\n",
        "  *   Cargar la base de datos para la actividad. \n",
        "  *   Hacer un muestreo aleatorio simple de 1000 clientes"
      ]
    },
    {
      "cell_type": "code",
      "execution_count": null,
      "metadata": {
        "id": "wQHp33zstaAj"
      },
      "outputs": [],
      "source": [
        "import pandas as pd\n",
        "#visualizacion dataframe\n",
        "pd.options.display.max_rows=500\n",
        "pd.options.display.max_columns=500"
      ]
    },
    {
      "cell_type": "code",
      "execution_count": null,
      "metadata": {
        "id": "iS3ysSY4XA7s"
      },
      "outputs": [],
      "source": [
        "# Lee el archivo\n",
        "df = pd.read_csv('Base_financiera_1.csv', sep= ';')"
      ]
    },
    {
      "cell_type": "code",
      "execution_count": null,
      "metadata": {
        "colab": {
          "base_uri": "https://localhost:8080/",
          "height": 224
        },
        "id": "BTyLmUy0ybZd",
        "outputId": "3d1fb5b6-7470-4b51-cf70-f0f546834038"
      },
      "outputs": [
        {
          "output_type": "execute_result",
          "data": {
            "text/plain": [
              "        ID  Edad Estado_civil    Genero Zona_geografica  Ingreso  \\\n",
              "5980  5981    40      Soltero  Femenino    LIMA MODERNA     6500   \n",
              "2638  2639    43      Soltero  Femenino           NORTE     2000   \n",
              "5555  5556    40       Casado  Femenino    LIMA MODERNA     7000   \n",
              "\n",
              "      Numero_entidades_sbs  Tenencia_Saldo_rcc  Tenencia_prestamos_rcc  \\\n",
              "5980                     7                   1                       0   \n",
              "2638                     4                   1                       1   \n",
              "5555                     5                   1                       0   \n",
              "\n",
              "      Tenencia_hipotecario_rcc  Saldo_tc_rcc  Saldo_prestamo_rcc  \\\n",
              "5980                         1             0                   0   \n",
              "2638                         1             0                   0   \n",
              "5555                         1             0                   0   \n",
              "\n",
              "      Saldo_hipotecario_rcc  deuda_rcc  Tenencia_TC_rcc  Nro_bancos_tc_saldo  \\\n",
              "5980                      0          0                1                    7   \n",
              "2638                      0          0                1                    4   \n",
              "5555                      0          0                1                    4   \n",
              "\n",
              "      Cantidad_productos_rcc  Nro_bancos_pld  Nro_productos_activo_E1  \\\n",
              "5980                       2               0                        1   \n",
              "2638                       3               1                        0   \n",
              "5555                       2               0                        1   \n",
              "\n",
              "      Nro_productos_activo_E2  Nro_productos_activo_E3  \\\n",
              "5980                        2                        1   \n",
              "2638                        0                        0   \n",
              "5555                        1                        0   \n",
              "\n",
              "      Nro_productos_activo_E4  Nro_productos_activo_rcc  Antiguedad_cliente  \\\n",
              "5980                        0                         2                 191   \n",
              "2638                        2                         3                 192   \n",
              "5555                        1                         2                 217   \n",
              "\n",
              "      Tenencia_ahorros  Tenencia_cts  Tenencia_depo_plazo  Tenencia_FFMM  \\\n",
              "5980                 0             0                    0              0   \n",
              "2638                 0             1                    0              0   \n",
              "5555                 1             0                    0              0   \n",
              "\n",
              "      Saldo_vehicular_prom  Saldo_hipot_prom  Flg_transacc_atm_3m  \\\n",
              "5980                     0                 0                    0   \n",
              "2638                     0                 0                    0   \n",
              "5555                     0                 0                    1   \n",
              "\n",
              "      Flg_transacc_ventanilla_3m  Flg_transacc_bca_internet_3m  \\\n",
              "5980                           0                             0   \n",
              "2638                           0                             0   \n",
              "5555                           1                             1   \n",
              "\n",
              "      Flg_transacc_bca_telef_3m  Flg_ph  Antiguedad_ph  Antiguedad_ahorros  \\\n",
              "5980                          0       0              0                  31   \n",
              "2638                          0       0              0                   0   \n",
              "5555                          0       0              0                  26   \n",
              "\n",
              "      Antiguedad_depo_plazo  Antiguedad_cts  Antiguedad_pasivos  \\\n",
              "5980                      0               0                  31   \n",
              "2638                      0             140                 140   \n",
              "5555                      0               0                  26   \n",
              "\n",
              "      Nro_productos_pasivos  Antiguedad_pld  Antiguedad_activos  \\\n",
              "5980                      1               0                   0   \n",
              "2638                      1               0                   0   \n",
              "5555                      1               0                   0   \n",
              "\n",
              "      Nro_meses_rcc  Tenencia_ahorros_6m  Tenencia_depo_plazo_6m  \\\n",
              "5980             97                    0                       0   \n",
              "2638             74                    0                       0   \n",
              "5555             97                    1                       0   \n",
              "\n",
              "      Tenencia_cts_6m  Tenencia_FFMM_6m  Nro_meses_visitaOficina_5M  \\\n",
              "5980                0                 0                           0   \n",
              "2638                1                 0                           0   \n",
              "5555                1                 0                           5   \n",
              "\n",
              "      cant_vecesvisitaoficina_5m Target_mora  \n",
              "5980                           0  CON ATRASO  \n",
              "2638                           0  SIN ATRASO  \n",
              "5555                           6  SIN ATRASO  "
            ],
            "text/html": [
              "\n",
              "  <div id=\"df-82799a99-af52-4928-a715-0d0bd28c7c7a\">\n",
              "    <div class=\"colab-df-container\">\n",
              "      <div>\n",
              "<style scoped>\n",
              "    .dataframe tbody tr th:only-of-type {\n",
              "        vertical-align: middle;\n",
              "    }\n",
              "\n",
              "    .dataframe tbody tr th {\n",
              "        vertical-align: top;\n",
              "    }\n",
              "\n",
              "    .dataframe thead th {\n",
              "        text-align: right;\n",
              "    }\n",
              "</style>\n",
              "<table border=\"1\" class=\"dataframe\">\n",
              "  <thead>\n",
              "    <tr style=\"text-align: right;\">\n",
              "      <th></th>\n",
              "      <th>ID</th>\n",
              "      <th>Edad</th>\n",
              "      <th>Estado_civil</th>\n",
              "      <th>Genero</th>\n",
              "      <th>Zona_geografica</th>\n",
              "      <th>Ingreso</th>\n",
              "      <th>Numero_entidades_sbs</th>\n",
              "      <th>Tenencia_Saldo_rcc</th>\n",
              "      <th>Tenencia_prestamos_rcc</th>\n",
              "      <th>Tenencia_hipotecario_rcc</th>\n",
              "      <th>Saldo_tc_rcc</th>\n",
              "      <th>Saldo_prestamo_rcc</th>\n",
              "      <th>Saldo_hipotecario_rcc</th>\n",
              "      <th>deuda_rcc</th>\n",
              "      <th>Tenencia_TC_rcc</th>\n",
              "      <th>Nro_bancos_tc_saldo</th>\n",
              "      <th>Cantidad_productos_rcc</th>\n",
              "      <th>Nro_bancos_pld</th>\n",
              "      <th>Nro_productos_activo_E1</th>\n",
              "      <th>Nro_productos_activo_E2</th>\n",
              "      <th>Nro_productos_activo_E3</th>\n",
              "      <th>Nro_productos_activo_E4</th>\n",
              "      <th>Nro_productos_activo_rcc</th>\n",
              "      <th>Antiguedad_cliente</th>\n",
              "      <th>Tenencia_ahorros</th>\n",
              "      <th>Tenencia_cts</th>\n",
              "      <th>Tenencia_depo_plazo</th>\n",
              "      <th>Tenencia_FFMM</th>\n",
              "      <th>Saldo_vehicular_prom</th>\n",
              "      <th>Saldo_hipot_prom</th>\n",
              "      <th>Flg_transacc_atm_3m</th>\n",
              "      <th>Flg_transacc_ventanilla_3m</th>\n",
              "      <th>Flg_transacc_bca_internet_3m</th>\n",
              "      <th>Flg_transacc_bca_telef_3m</th>\n",
              "      <th>Flg_ph</th>\n",
              "      <th>Antiguedad_ph</th>\n",
              "      <th>Antiguedad_ahorros</th>\n",
              "      <th>Antiguedad_depo_plazo</th>\n",
              "      <th>Antiguedad_cts</th>\n",
              "      <th>Antiguedad_pasivos</th>\n",
              "      <th>Nro_productos_pasivos</th>\n",
              "      <th>Antiguedad_pld</th>\n",
              "      <th>Antiguedad_activos</th>\n",
              "      <th>Nro_meses_rcc</th>\n",
              "      <th>Tenencia_ahorros_6m</th>\n",
              "      <th>Tenencia_depo_plazo_6m</th>\n",
              "      <th>Tenencia_cts_6m</th>\n",
              "      <th>Tenencia_FFMM_6m</th>\n",
              "      <th>Nro_meses_visitaOficina_5M</th>\n",
              "      <th>cant_vecesvisitaoficina_5m</th>\n",
              "      <th>Target_mora</th>\n",
              "    </tr>\n",
              "  </thead>\n",
              "  <tbody>\n",
              "    <tr>\n",
              "      <th>5980</th>\n",
              "      <td>5981</td>\n",
              "      <td>40</td>\n",
              "      <td>Soltero</td>\n",
              "      <td>Femenino</td>\n",
              "      <td>LIMA MODERNA</td>\n",
              "      <td>6500</td>\n",
              "      <td>7</td>\n",
              "      <td>1</td>\n",
              "      <td>0</td>\n",
              "      <td>1</td>\n",
              "      <td>0</td>\n",
              "      <td>0</td>\n",
              "      <td>0</td>\n",
              "      <td>0</td>\n",
              "      <td>1</td>\n",
              "      <td>7</td>\n",
              "      <td>2</td>\n",
              "      <td>0</td>\n",
              "      <td>1</td>\n",
              "      <td>2</td>\n",
              "      <td>1</td>\n",
              "      <td>0</td>\n",
              "      <td>2</td>\n",
              "      <td>191</td>\n",
              "      <td>0</td>\n",
              "      <td>0</td>\n",
              "      <td>0</td>\n",
              "      <td>0</td>\n",
              "      <td>0</td>\n",
              "      <td>0</td>\n",
              "      <td>0</td>\n",
              "      <td>0</td>\n",
              "      <td>0</td>\n",
              "      <td>0</td>\n",
              "      <td>0</td>\n",
              "      <td>0</td>\n",
              "      <td>31</td>\n",
              "      <td>0</td>\n",
              "      <td>0</td>\n",
              "      <td>31</td>\n",
              "      <td>1</td>\n",
              "      <td>0</td>\n",
              "      <td>0</td>\n",
              "      <td>97</td>\n",
              "      <td>0</td>\n",
              "      <td>0</td>\n",
              "      <td>0</td>\n",
              "      <td>0</td>\n",
              "      <td>0</td>\n",
              "      <td>0</td>\n",
              "      <td>CON ATRASO</td>\n",
              "    </tr>\n",
              "    <tr>\n",
              "      <th>2638</th>\n",
              "      <td>2639</td>\n",
              "      <td>43</td>\n",
              "      <td>Soltero</td>\n",
              "      <td>Femenino</td>\n",
              "      <td>NORTE</td>\n",
              "      <td>2000</td>\n",
              "      <td>4</td>\n",
              "      <td>1</td>\n",
              "      <td>1</td>\n",
              "      <td>1</td>\n",
              "      <td>0</td>\n",
              "      <td>0</td>\n",
              "      <td>0</td>\n",
              "      <td>0</td>\n",
              "      <td>1</td>\n",
              "      <td>4</td>\n",
              "      <td>3</td>\n",
              "      <td>1</td>\n",
              "      <td>0</td>\n",
              "      <td>0</td>\n",
              "      <td>0</td>\n",
              "      <td>2</td>\n",
              "      <td>3</td>\n",
              "      <td>192</td>\n",
              "      <td>0</td>\n",
              "      <td>1</td>\n",
              "      <td>0</td>\n",
              "      <td>0</td>\n",
              "      <td>0</td>\n",
              "      <td>0</td>\n",
              "      <td>0</td>\n",
              "      <td>0</td>\n",
              "      <td>0</td>\n",
              "      <td>0</td>\n",
              "      <td>0</td>\n",
              "      <td>0</td>\n",
              "      <td>0</td>\n",
              "      <td>0</td>\n",
              "      <td>140</td>\n",
              "      <td>140</td>\n",
              "      <td>1</td>\n",
              "      <td>0</td>\n",
              "      <td>0</td>\n",
              "      <td>74</td>\n",
              "      <td>0</td>\n",
              "      <td>0</td>\n",
              "      <td>1</td>\n",
              "      <td>0</td>\n",
              "      <td>0</td>\n",
              "      <td>0</td>\n",
              "      <td>SIN ATRASO</td>\n",
              "    </tr>\n",
              "    <tr>\n",
              "      <th>5555</th>\n",
              "      <td>5556</td>\n",
              "      <td>40</td>\n",
              "      <td>Casado</td>\n",
              "      <td>Femenino</td>\n",
              "      <td>LIMA MODERNA</td>\n",
              "      <td>7000</td>\n",
              "      <td>5</td>\n",
              "      <td>1</td>\n",
              "      <td>0</td>\n",
              "      <td>1</td>\n",
              "      <td>0</td>\n",
              "      <td>0</td>\n",
              "      <td>0</td>\n",
              "      <td>0</td>\n",
              "      <td>1</td>\n",
              "      <td>4</td>\n",
              "      <td>2</td>\n",
              "      <td>0</td>\n",
              "      <td>1</td>\n",
              "      <td>1</td>\n",
              "      <td>0</td>\n",
              "      <td>1</td>\n",
              "      <td>2</td>\n",
              "      <td>217</td>\n",
              "      <td>1</td>\n",
              "      <td>0</td>\n",
              "      <td>0</td>\n",
              "      <td>0</td>\n",
              "      <td>0</td>\n",
              "      <td>0</td>\n",
              "      <td>1</td>\n",
              "      <td>1</td>\n",
              "      <td>1</td>\n",
              "      <td>0</td>\n",
              "      <td>0</td>\n",
              "      <td>0</td>\n",
              "      <td>26</td>\n",
              "      <td>0</td>\n",
              "      <td>0</td>\n",
              "      <td>26</td>\n",
              "      <td>1</td>\n",
              "      <td>0</td>\n",
              "      <td>0</td>\n",
              "      <td>97</td>\n",
              "      <td>1</td>\n",
              "      <td>0</td>\n",
              "      <td>1</td>\n",
              "      <td>0</td>\n",
              "      <td>5</td>\n",
              "      <td>6</td>\n",
              "      <td>SIN ATRASO</td>\n",
              "    </tr>\n",
              "  </tbody>\n",
              "</table>\n",
              "</div>\n",
              "      <button class=\"colab-df-convert\" onclick=\"convertToInteractive('df-82799a99-af52-4928-a715-0d0bd28c7c7a')\"\n",
              "              title=\"Convert this dataframe to an interactive table.\"\n",
              "              style=\"display:none;\">\n",
              "        \n",
              "  <svg xmlns=\"http://www.w3.org/2000/svg\" height=\"24px\"viewBox=\"0 0 24 24\"\n",
              "       width=\"24px\">\n",
              "    <path d=\"M0 0h24v24H0V0z\" fill=\"none\"/>\n",
              "    <path d=\"M18.56 5.44l.94 2.06.94-2.06 2.06-.94-2.06-.94-.94-2.06-.94 2.06-2.06.94zm-11 1L8.5 8.5l.94-2.06 2.06-.94-2.06-.94L8.5 2.5l-.94 2.06-2.06.94zm10 10l.94 2.06.94-2.06 2.06-.94-2.06-.94-.94-2.06-.94 2.06-2.06.94z\"/><path d=\"M17.41 7.96l-1.37-1.37c-.4-.4-.92-.59-1.43-.59-.52 0-1.04.2-1.43.59L10.3 9.45l-7.72 7.72c-.78.78-.78 2.05 0 2.83L4 21.41c.39.39.9.59 1.41.59.51 0 1.02-.2 1.41-.59l7.78-7.78 2.81-2.81c.8-.78.8-2.07 0-2.86zM5.41 20L4 18.59l7.72-7.72 1.47 1.35L5.41 20z\"/>\n",
              "  </svg>\n",
              "      </button>\n",
              "      \n",
              "  <style>\n",
              "    .colab-df-container {\n",
              "      display:flex;\n",
              "      flex-wrap:wrap;\n",
              "      gap: 12px;\n",
              "    }\n",
              "\n",
              "    .colab-df-convert {\n",
              "      background-color: #E8F0FE;\n",
              "      border: none;\n",
              "      border-radius: 50%;\n",
              "      cursor: pointer;\n",
              "      display: none;\n",
              "      fill: #1967D2;\n",
              "      height: 32px;\n",
              "      padding: 0 0 0 0;\n",
              "      width: 32px;\n",
              "    }\n",
              "\n",
              "    .colab-df-convert:hover {\n",
              "      background-color: #E2EBFA;\n",
              "      box-shadow: 0px 1px 2px rgba(60, 64, 67, 0.3), 0px 1px 3px 1px rgba(60, 64, 67, 0.15);\n",
              "      fill: #174EA6;\n",
              "    }\n",
              "\n",
              "    [theme=dark] .colab-df-convert {\n",
              "      background-color: #3B4455;\n",
              "      fill: #D2E3FC;\n",
              "    }\n",
              "\n",
              "    [theme=dark] .colab-df-convert:hover {\n",
              "      background-color: #434B5C;\n",
              "      box-shadow: 0px 1px 3px 1px rgba(0, 0, 0, 0.15);\n",
              "      filter: drop-shadow(0px 1px 2px rgba(0, 0, 0, 0.3));\n",
              "      fill: #FFFFFF;\n",
              "    }\n",
              "  </style>\n",
              "\n",
              "      <script>\n",
              "        const buttonEl =\n",
              "          document.querySelector('#df-82799a99-af52-4928-a715-0d0bd28c7c7a button.colab-df-convert');\n",
              "        buttonEl.style.display =\n",
              "          google.colab.kernel.accessAllowed ? 'block' : 'none';\n",
              "\n",
              "        async function convertToInteractive(key) {\n",
              "          const element = document.querySelector('#df-82799a99-af52-4928-a715-0d0bd28c7c7a');\n",
              "          const dataTable =\n",
              "            await google.colab.kernel.invokeFunction('convertToInteractive',\n",
              "                                                     [key], {});\n",
              "          if (!dataTable) return;\n",
              "\n",
              "          const docLinkHtml = 'Like what you see? Visit the ' +\n",
              "            '<a target=\"_blank\" href=https://colab.research.google.com/notebooks/data_table.ipynb>data table notebook</a>'\n",
              "            + ' to learn more about interactive tables.';\n",
              "          element.innerHTML = '';\n",
              "          dataTable['output_type'] = 'display_data';\n",
              "          await google.colab.output.renderOutput(dataTable, element);\n",
              "          const docLink = document.createElement('div');\n",
              "          docLink.innerHTML = docLinkHtml;\n",
              "          element.appendChild(docLink);\n",
              "        }\n",
              "      </script>\n",
              "    </div>\n",
              "  </div>\n",
              "  "
            ]
          },
          "metadata": {},
          "execution_count": 5
        }
      ],
      "source": [
        "# Muestreo aleatorio  de 1000 clientes\n",
        "df_muestra = df.sample(1000, random_state=2023)\n",
        "df_muestra.head(3)"
      ]
    },
    {
      "cell_type": "markdown",
      "metadata": {
        "id": "1sD_yeUAtnAK"
      },
      "source": [
        "### **Paso 2**\n",
        "2. Identificar una variable cuantitativa y una variable cualitativa. La variable cualitativa debe tener 2 categorias desde su origen o creados por agrupación. En adelante estas 2 categorias serán llamados subgrupos **(4ptos)**\n",
        "  * Obtener la media, mediana y moda por subgrupo para los clientes en la muestra y para la población total. Interpretar los resultados. "
      ]
    },
    {
      "cell_type": "code",
      "execution_count": null,
      "metadata": {
        "colab": {
          "base_uri": "https://localhost:8080/"
        },
        "id": "ufiNdIaIxcyK",
        "outputId": "b9fb5f1a-6837-4c40-e1a5-99f246db41b8"
      },
      "outputs": [
        {
          "output_type": "execute_result",
          "data": {
            "text/plain": [
              "array(['Femenino', 'Masculino'], dtype=object)"
            ]
          },
          "metadata": {},
          "execution_count": 6
        }
      ],
      "source": [
        "# variable Cualitativa\n",
        "df.Ingreso.unique()\n",
        "\n",
        "# variables Cuantitativa\n",
        "df.Genero.unique()"
      ]
    },
    {
      "cell_type": "code",
      "execution_count": null,
      "metadata": {
        "colab": {
          "base_uri": "https://localhost:8080/"
        },
        "id": "TkRGmA8qEqw-",
        "outputId": "2f6798b7-0913-40d5-a139-3c18aa7faeed"
      },
      "outputs": [
        {
          "output_type": "stream",
          "name": "stdout",
          "text": [
            "Media de la muestra: \n",
            "  Genero\n",
            "Femenino     4602.722772\n",
            "Masculino    7489.093960\n",
            "Name: Ingreso, dtype: float64\n",
            "\n",
            "Media de la poblacion:  \n",
            "  Genero\n",
            "Femenino     5173.526423\n",
            "Masculino    7342.999851\n",
            "Name: Ingreso, dtype: float64\n"
          ]
        }
      ],
      "source": [
        "# Media de la muestra VS media de la poblacion\n",
        "\n",
        "print('Media de la muestra: \\n ', df_muestra.groupby('Genero')['Ingreso'].apply(pd.DataFrame.mean))\n",
        "print()\n",
        "print('Media de la poblacion:  \\n ', df.groupby('Genero')['Ingreso'].apply(pd.DataFrame.mean))"
      ]
    },
    {
      "cell_type": "code",
      "execution_count": null,
      "metadata": {
        "colab": {
          "base_uri": "https://localhost:8080/"
        },
        "id": "rqTHpJdkEqw_",
        "outputId": "454f7e18-a193-452b-d7bc-92102bc8b6e8"
      },
      "outputs": [
        {
          "output_type": "stream",
          "name": "stdout",
          "text": [
            "Mediana de la muestra: \n",
            "  Genero\n",
            "Femenino     2500.0\n",
            "Masculino    4500.0\n",
            "Name: Ingreso, dtype: float64\n",
            "\n",
            "Mediana de la poblacion:  \n",
            "  Genero\n",
            "Femenino     2500.0\n",
            "Masculino    4500.0\n",
            "Name: Ingreso, dtype: float64\n"
          ]
        }
      ],
      "source": [
        "# Mediana de la muestra VS mediana de la poblacion\n",
        "\n",
        "print('Mediana de la muestra: \\n ', df_muestra.groupby('Genero')['Ingreso'].apply(pd.DataFrame.median))\n",
        "print()\n",
        "print('Mediana de la poblacion:  \\n ', df.groupby('Genero')['Ingreso'].apply(pd.DataFrame.median))"
      ]
    },
    {
      "cell_type": "code",
      "execution_count": null,
      "metadata": {
        "colab": {
          "base_uri": "https://localhost:8080/"
        },
        "id": "wmksLqocEqxA",
        "outputId": "9de6d816-e404-4807-97c5-19738bf6aeec"
      },
      "outputs": [
        {
          "output_type": "stream",
          "name": "stdout",
          "text": [
            "Moda del Genero Femenino de la muestra: \n",
            "  500\n",
            "Moda del Genero Masculino de la muestra: \n",
            "  500\n",
            "\n",
            "Moda del Genero Femenino de la poblacion: \n",
            "  500\n",
            "Moda del Genero Masculino de la poblacion: \n",
            "  500\n"
          ]
        }
      ],
      "source": [
        "print('Moda del Genero Femenino de la muestra: \\n ', df_muestra.query('Genero == \"Femenino\"')['Ingreso'].mode()[0])\n",
        "print('Moda del Genero Masculino de la muestra: \\n ', df_muestra.query('Genero == \"Masculino\"')['Ingreso'].mode()[0])\n",
        "\n",
        "print()\n",
        "\n",
        "print('Moda del Genero Femenino de la poblacion: \\n ', df.query('Genero == \"Femenino\"')['Ingreso'].mode()[0])\n",
        "print('Moda del Genero Masculino de la poblacion: \\n ', df.query('Genero == \"Masculino\"')['Ingreso'].mode()[0])"
      ]
    },
    {
      "cell_type": "markdown",
      "metadata": {
        "id": "QCHHUUtTEqxA"
      },
      "source": [
        "#### Interpretacion\n",
        "* La media de la poblacion en el genero femenino es mayor en aprox 500 soles que la media de la muestra\n",
        "* En el caso del genero masculino la media de la poblacion es menor en aprox 100 soles que la media de la muestra\n",
        "* Respecto a la mediana, la muestra y la poblacion, tanto en genero femenino y masculino tienen el mismo valor\n",
        "* La moda tabien presenta el mismo valor tanto en la muestra y en la poblacion\n",
        "* **Podriamos decir que la muestra elegida es representativa para la poblacion seleccionada**"
      ]
    },
    {
      "cell_type": "markdown",
      "metadata": {
        "id": "pyfOt08Kd2GA"
      },
      "source": [
        "### **Paso 3**\n",
        "3. Haciendo uso de la muestra y las 2 variables identificadas. **(6ptos)**\n",
        "*   Hacer los gráficos de distribución de la variable continua por subgrupo, incluyendo la densidad de probabilidad normal. Interpretar los resultados.\n",
        "*   Hacer los gráficos de distribución qq-plot por subgrupo. Interpretar los resultados."
      ]
    },
    {
      "cell_type": "code",
      "execution_count": null,
      "metadata": {
        "id": "ELfqBJySch07"
      },
      "outputs": [],
      "source": [
        "pip install pingouin"
      ]
    },
    {
      "cell_type": "code",
      "execution_count": null,
      "metadata": {
        "id": "oNMtXQrxcTwT"
      },
      "outputs": [],
      "source": [
        "import numpy as np\n",
        "import matplotlib.pyplot as plt\n",
        "import seaborn as sns\n",
        "from scipy import stats\n",
        "import pingouin as pg\n"
      ]
    },
    {
      "cell_type": "code",
      "execution_count": null,
      "metadata": {
        "colab": {
          "base_uri": "https://localhost:8080/",
          "height": 513
        },
        "id": "S4MugzcKdT1T",
        "outputId": "bc923f06-33fa-47ee-bef6-6fddc27880b6"
      },
      "outputs": [
        {
          "output_type": "display_data",
          "data": {
            "text/plain": [
              "<Figure size 720x504 with 4 Axes>"
            ],
            "image/png": "[encoded data removed]"
          },
          "metadata": {
            "needs_background": "light"
          }
        }
      ],
      "source": [
        "# GRAFICOS DE DISTRIBUCION DE VARIABLES  Y QQPLOT \n",
        "\n",
        "fig, axs = plt.subplots(2, 2, figsize=(10, 7))\n",
        "\n",
        "ingreso_masculino = df_muestra.loc[df_muestra.Genero == 'Masculino', 'Ingreso']\n",
        "mu, sigma = stats.norm.fit(ingreso_masculino)\n",
        "x_hat = np.linspace(min(ingreso_masculino), max(ingreso_masculino), num=100)\n",
        "y_hat = stats.norm.pdf(x_hat, mu, sigma)\n",
        "\n",
        "# Gráfico distribución\n",
        "axs[0, 0].plot(x_hat, y_hat, linewidth=2, label='normal')\n",
        "axs[0, 0].hist(x=ingreso_masculino, density=True, bins=20, color=\"#3182bd\", alpha=0.5)\n",
        "axs[0, 0].plot(ingreso_masculino, np.full_like(ingreso_masculino, -0.01), '|k', markeredgewidth=1)\n",
        "axs[0, 0].set_title('Distribución ingreso (masculino)')\n",
        "axs[0, 0].set_xlabel('ingreso')\n",
        "axs[0, 0].set_ylabel('Densidad de probabilidad')\n",
        "axs[0, 0].legend()\n",
        "\n",
        "# Gráfico distribución qq-plot\n",
        "pg.qqplot(ingreso_masculino, dist='norm', ax=axs[0, 1])\n",
        "\n",
        "ingreso_femenino = df_muestra.loc[df_muestra.Genero == 'Femenino', 'Ingreso']\n",
        "mu, sigma = stats.norm.fit(ingreso_femenino)\n",
        "x_hat = np.linspace(min(ingreso_femenino), max(ingreso_femenino), num=100)\n",
        "y_hat = stats.norm.pdf(x_hat, mu, sigma)\n",
        "axs[1, 0].plot(x_hat, y_hat, linewidth=2, label='normal')\n",
        "axs[1, 0].hist(x=ingreso_femenino, density=True, bins=20, color=\"#3182bd\", alpha=0.5)\n",
        "axs[1, 0].plot(ingreso_femenino, np.full_like(ingreso_femenino, -0.01), '|k', markeredgewidth=1)\n",
        "axs[1, 0].set_title('Distribución ingreso (femenino)')\n",
        "axs[1, 0].set_xlabel('ingreso')\n",
        "axs[1, 0].set_ylabel('Densidad de probabilidad')\n",
        "axs[1, 0].legend()\n",
        "\n",
        "pg.qqplot(ingreso_femenino, dist='norm', ax=axs[1, 1])\n",
        "plt.tight_layout();\n"
      ]
    },
    {
      "cell_type": "markdown",
      "metadata": {
        "id": "kwU4gtxpEqxF"
      },
      "source": [
        "#### Interpretacion\n",
        "* En la muestra pra el ingreso de genero Femenino y Masculino segun el grafico no cumple con la normalidad\n",
        "* Esto tienen sentido ya que la varible ingreso suele ser una distribucion asimetrica orientada a la derecha o izquierda\n",
        "* En este caso la distibucion muestra que hay mas personas con ingresosos menores y solo algunas con ingresos muy altos"
      ]
    },
    {
      "cell_type": "markdown",
      "metadata": {
        "id": "LFR7mv9UzmXX"
      },
      "source": [
        "### **Paso 4**\n",
        "4. Realizar los test de normalidad y de homocedasticidad sobre la variable cuantitativa por subgrupo. Plantear la hipotesis nula y la hipotesis alternativa para ambas pruebas. Interpretar los resultados. **(4ptos)**"
      ]
    },
    {
      "cell_type": "markdown",
      "metadata": {
        "id": "FjqFL4sjYy8g"
      },
      "source": [
        "Hipótesis\n",
        "\n",
        "H0 : no hay diferencia entre las medias poblacionales:  μ(Masculino)−μ(Femenino)=0\n",
        " \n",
        "Ha : si hay diferencia entre las medias poblacionales:  μ(Masculino)−μ(Femenino)≠0"
      ]
    },
    {
      "cell_type": "code",
      "execution_count": null,
      "metadata": {
        "colab": {
          "base_uri": "https://localhost:8080/",
          "height": 143
        },
        "id": "U02XkqTTzoQ2",
        "outputId": "16705d24-7c31-4add-dd1e-2d4d27124309"
      },
      "outputs": [
        {
          "output_type": "execute_result",
          "data": {
            "text/plain": [
              "                  W          pval  normal\n",
              "Genero                                   \n",
              "Femenino   0.543885  4.875392e-31   False\n",
              "Masculino  0.201363  1.961818e-44   False"
            ],
            "text/html": [
              "\n",
              "  <div id=\"df-9c07ee4a-a8fa-4aba-ae0a-6b525af43d5d\">\n",
              "    <div class=\"colab-df-container\">\n",
              "      <div>\n",
              "<style scoped>\n",
              "    .dataframe tbody tr th:only-of-type {\n",
              "        vertical-align: middle;\n",
              "    }\n",
              "\n",
              "    .dataframe tbody tr th {\n",
              "        vertical-align: top;\n",
              "    }\n",
              "\n",
              "    .dataframe thead th {\n",
              "        text-align: right;\n",
              "    }\n",
              "</style>\n",
              "<table border=\"1\" class=\"dataframe\">\n",
              "  <thead>\n",
              "    <tr style=\"text-align: right;\">\n",
              "      <th></th>\n",
              "      <th>W</th>\n",
              "      <th>pval</th>\n",
              "      <th>normal</th>\n",
              "    </tr>\n",
              "    <tr>\n",
              "      <th>Genero</th>\n",
              "      <th></th>\n",
              "      <th></th>\n",
              "      <th></th>\n",
              "    </tr>\n",
              "  </thead>\n",
              "  <tbody>\n",
              "    <tr>\n",
              "      <th>Femenino</th>\n",
              "      <td>0.543885</td>\n",
              "      <td>4.875392e-31</td>\n",
              "      <td>False</td>\n",
              "    </tr>\n",
              "    <tr>\n",
              "      <th>Masculino</th>\n",
              "      <td>0.201363</td>\n",
              "      <td>1.961818e-44</td>\n",
              "      <td>False</td>\n",
              "    </tr>\n",
              "  </tbody>\n",
              "</table>\n",
              "</div>\n",
              "      <button class=\"colab-df-convert\" onclick=\"convertToInteractive('df-9c07ee4a-a8fa-4aba-ae0a-6b525af43d5d')\"\n",
              "              title=\"Convert this dataframe to an interactive table.\"\n",
              "              style=\"display:none;\">\n",
              "        \n",
              "  <svg xmlns=\"http://www.w3.org/2000/svg\" height=\"24px\"viewBox=\"0 0 24 24\"\n",
              "       width=\"24px\">\n",
              "    <path d=\"M0 0h24v24H0V0z\" fill=\"none\"/>\n",
              "    <path d=\"M18.56 5.44l.94 2.06.94-2.06 2.06-.94-2.06-.94-.94-2.06-.94 2.06-2.06.94zm-11 1L8.5 8.5l.94-2.06 2.06-.94-2.06-.94L8.5 2.5l-.94 2.06-2.06.94zm10 10l.94 2.06.94-2.06 2.06-.94-2.06-.94-.94-2.06-.94 2.06-2.06.94z\"/><path d=\"M17.41 7.96l-1.37-1.37c-.4-.4-.92-.59-1.43-.59-.52 0-1.04.2-1.43.59L10.3 9.45l-7.72 7.72c-.78.78-.78 2.05 0 2.83L4 21.41c.39.39.9.59 1.41.59.51 0 1.02-.2 1.41-.59l7.78-7.78 2.81-2.81c.8-.78.8-2.07 0-2.86zM5.41 20L4 18.59l7.72-7.72 1.47 1.35L5.41 20z\"/>\n",
              "  </svg>\n",
              "      </button>\n",
              "      \n",
              "  <style>\n",
              "    .colab-df-container {\n",
              "      display:flex;\n",
              "      flex-wrap:wrap;\n",
              "      gap: 12px;\n",
              "    }\n",
              "\n",
              "    .colab-df-convert {\n",
              "      background-color: #E8F0FE;\n",
              "      border: none;\n",
              "      border-radius: 50%;\n",
              "      cursor: pointer;\n",
              "      display: none;\n",
              "      fill: #1967D2;\n",
              "      height: 32px;\n",
              "      padding: 0 0 0 0;\n",
              "      width: 32px;\n",
              "    }\n",
              "\n",
              "    .colab-df-convert:hover {\n",
              "      background-color: #E2EBFA;\n",
              "      box-shadow: 0px 1px 2px rgba(60, 64, 67, 0.3), 0px 1px 3px 1px rgba(60, 64, 67, 0.15);\n",
              "      fill: #174EA6;\n",
              "    }\n",
              "\n",
              "    [theme=dark] .colab-df-convert {\n",
              "      background-color: #3B4455;\n",
              "      fill: #D2E3FC;\n",
              "    }\n",
              "\n",
              "    [theme=dark] .colab-df-convert:hover {\n",
              "      background-color: #434B5C;\n",
              "      box-shadow: 0px 1px 3px 1px rgba(0, 0, 0, 0.15);\n",
              "      filter: drop-shadow(0px 1px 2px rgba(0, 0, 0, 0.3));\n",
              "      fill: #FFFFFF;\n",
              "    }\n",
              "  </style>\n",
              "\n",
              "      <script>\n",
              "        const buttonEl =\n",
              "          document.querySelector('#df-9c07ee4a-a8fa-4aba-ae0a-6b525af43d5d button.colab-df-convert');\n",
              "        buttonEl.style.display =\n",
              "          google.colab.kernel.accessAllowed ? 'block' : 'none';\n",
              "\n",
              "        async function convertToInteractive(key) {\n",
              "          const element = document.querySelector('#df-9c07ee4a-a8fa-4aba-ae0a-6b525af43d5d');\n",
              "          const dataTable =\n",
              "            await google.colab.kernel.invokeFunction('convertToInteractive',\n",
              "                                                     [key], {});\n",
              "          if (!dataTable) return;\n",
              "\n",
              "          const docLinkHtml = 'Like what you see? Visit the ' +\n",
              "            '<a target=\"_blank\" href=https://colab.research.google.com/notebooks/data_table.ipynb>data table notebook</a>'\n",
              "            + ' to learn more about interactive tables.';\n",
              "          element.innerHTML = '';\n",
              "          dataTable['output_type'] = 'display_data';\n",
              "          await google.colab.output.renderOutput(dataTable, element);\n",
              "          const docLink = document.createElement('div');\n",
              "          docLink.innerHTML = docLinkHtml;\n",
              "          element.appendChild(docLink);\n",
              "        }\n",
              "      </script>\n",
              "    </div>\n",
              "  </div>\n",
              "  "
            ]
          },
          "metadata": {},
          "execution_count": 13
        }
      ],
      "source": [
        "# TEST DE NORMALIDAD SHAPIRO-WILK\n",
        "# ==============================================================================\n",
        "pg.normality(data=df_muestra, dv='Ingreso', group='Genero')"
      ]
    },
    {
      "cell_type": "code",
      "execution_count": null,
      "metadata": {
        "colab": {
          "base_uri": "https://localhost:8080/"
        },
        "id": "ukKTV8X_ZFGm",
        "outputId": "915378e0-aec3-44b9-871b-8719969caa41"
      },
      "outputs": [
        {
          "output_type": "execute_result",
          "data": {
            "text/plain": [
              "KstestResult(statistic=0.982, pvalue=0.0)"
            ]
          },
          "metadata": {},
          "execution_count": 14
        }
      ],
      "source": [
        "# Prueba de kolgomorov-smirnov\n",
        "# =============================================================================\n",
        "from scipy import stats\n",
        "stats.kstest(df_muestra['Ingreso'], 'norm')"
      ]
    },
    {
      "cell_type": "markdown",
      "source": [
        " Ho: La varianza es igual entre los grupos\n",
        " \n",
        " H1: La varianza NO es igual entre los grupos"
      ],
      "metadata": {
        "id": "Tz1TjEoNbZcK"
      }
    },
    {
      "cell_type": "code",
      "execution_count": null,
      "metadata": {
        "id": "ckXvHTHjZRzp",
        "colab": {
          "base_uri": "https://localhost:8080/",
          "height": 368
        },
        "outputId": "efdbc3b8-c612-43a4-d52d-93370a8b08a8"
      },
      "outputs": [
        {
          "output_type": "stream",
          "name": "stderr",
          "text": [
            "/usr/local/lib/python3.8/dist-packages/seaborn/categorical.py:1296: UserWarning: 83.2% of the points cannot be placed; you may want to decrease the size of the markers or use stripplot.\n",
            "  warnings.warn(msg, UserWarning)\n",
            "/usr/local/lib/python3.8/dist-packages/seaborn/categorical.py:1296: UserWarning: 84.4% of the points cannot be placed; you may want to decrease the size of the markers or use stripplot.\n",
            "  warnings.warn(msg, UserWarning)\n"
          ]
        },
        {
          "output_type": "display_data",
          "data": {
            "text/plain": [
              "<Figure size 576x288 with 1 Axes>"
            ],
            "image/png": "[encoded data removed]"
          },
          "metadata": {
            "needs_background": "light"
          }
        }
      ],
      "source": [
        "fig, ax = plt.subplots(1, 1, figsize=(8, 4))\n",
        "sns.boxplot(y=\"Genero\", x=\"Ingreso\", data=df_muestra, ax=ax)\n",
        "sns.swarmplot(y=\"Genero\", x=\"Ingreso\", data=df_muestra, color='black', alpha = 0.5, ax=ax);"
      ]
    },
    {
      "cell_type": "code",
      "execution_count": null,
      "metadata": {
        "id": "fbX-fMcozoTl",
        "colab": {
          "base_uri": "https://localhost:8080/",
          "height": 80
        },
        "outputId": "9f3b7941-8f3f-43ef-bda6-e09453bc3116"
      },
      "outputs": [
        {
          "output_type": "execute_result",
          "data": {
            "text/plain": [
              "               W      pval  equal_var\n",
              "levene  4.177611  0.041223      False"
            ],
            "text/html": [
              "\n",
              "  <div id=\"df-657cd29e-4820-453b-88a4-9f5a8ce6bce8\">\n",
              "    <div class=\"colab-df-container\">\n",
              "      <div>\n",
              "<style scoped>\n",
              "    .dataframe tbody tr th:only-of-type {\n",
              "        vertical-align: middle;\n",
              "    }\n",
              "\n",
              "    .dataframe tbody tr th {\n",
              "        vertical-align: top;\n",
              "    }\n",
              "\n",
              "    .dataframe thead th {\n",
              "        text-align: right;\n",
              "    }\n",
              "</style>\n",
              "<table border=\"1\" class=\"dataframe\">\n",
              "  <thead>\n",
              "    <tr style=\"text-align: right;\">\n",
              "      <th></th>\n",
              "      <th>W</th>\n",
              "      <th>pval</th>\n",
              "      <th>equal_var</th>\n",
              "    </tr>\n",
              "  </thead>\n",
              "  <tbody>\n",
              "    <tr>\n",
              "      <th>levene</th>\n",
              "      <td>4.177611</td>\n",
              "      <td>0.041223</td>\n",
              "      <td>False</td>\n",
              "    </tr>\n",
              "  </tbody>\n",
              "</table>\n",
              "</div>\n",
              "      <button class=\"colab-df-convert\" onclick=\"convertToInteractive('df-657cd29e-4820-453b-88a4-9f5a8ce6bce8')\"\n",
              "              title=\"Convert this dataframe to an interactive table.\"\n",
              "              style=\"display:none;\">\n",
              "        \n",
              "  <svg xmlns=\"http://www.w3.org/2000/svg\" height=\"24px\"viewBox=\"0 0 24 24\"\n",
              "       width=\"24px\">\n",
              "    <path d=\"M0 0h24v24H0V0z\" fill=\"none\"/>\n",
              "    <path d=\"M18.56 5.44l.94 2.06.94-2.06 2.06-.94-2.06-.94-.94-2.06-.94 2.06-2.06.94zm-11 1L8.5 8.5l.94-2.06 2.06-.94-2.06-.94L8.5 2.5l-.94 2.06-2.06.94zm10 10l.94 2.06.94-2.06 2.06-.94-2.06-.94-.94-2.06-.94 2.06-2.06.94z\"/><path d=\"M17.41 7.96l-1.37-1.37c-.4-.4-.92-.59-1.43-.59-.52 0-1.04.2-1.43.59L10.3 9.45l-7.72 7.72c-.78.78-.78 2.05 0 2.83L4 21.41c.39.39.9.59 1.41.59.51 0 1.02-.2 1.41-.59l7.78-7.78 2.81-2.81c.8-.78.8-2.07 0-2.86zM5.41 20L4 18.59l7.72-7.72 1.47 1.35L5.41 20z\"/>\n",
              "  </svg>\n",
              "      </button>\n",
              "      \n",
              "  <style>\n",
              "    .colab-df-container {\n",
              "      display:flex;\n",
              "      flex-wrap:wrap;\n",
              "      gap: 12px;\n",
              "    }\n",
              "\n",
              "    .colab-df-convert {\n",
              "      background-color: #E8F0FE;\n",
              "      border: none;\n",
              "      border-radius: 50%;\n",
              "      cursor: pointer;\n",
              "      display: none;\n",
              "      fill: #1967D2;\n",
              "      height: 32px;\n",
              "      padding: 0 0 0 0;\n",
              "      width: 32px;\n",
              "    }\n",
              "\n",
              "    .colab-df-convert:hover {\n",
              "      background-color: #E2EBFA;\n",
              "      box-shadow: 0px 1px 2px rgba(60, 64, 67, 0.3), 0px 1px 3px 1px rgba(60, 64, 67, 0.15);\n",
              "      fill: #174EA6;\n",
              "    }\n",
              "\n",
              "    [theme=dark] .colab-df-convert {\n",
              "      background-color: #3B4455;\n",
              "      fill: #D2E3FC;\n",
              "    }\n",
              "\n",
              "    [theme=dark] .colab-df-convert:hover {\n",
              "      background-color: #434B5C;\n",
              "      box-shadow: 0px 1px 3px 1px rgba(0, 0, 0, 0.15);\n",
              "      filter: drop-shadow(0px 1px 2px rgba(0, 0, 0, 0.3));\n",
              "      fill: #FFFFFF;\n",
              "    }\n",
              "  </style>\n",
              "\n",
              "      <script>\n",
              "        const buttonEl =\n",
              "          document.querySelector('#df-657cd29e-4820-453b-88a4-9f5a8ce6bce8 button.colab-df-convert');\n",
              "        buttonEl.style.display =\n",
              "          google.colab.kernel.accessAllowed ? 'block' : 'none';\n",
              "\n",
              "        async function convertToInteractive(key) {\n",
              "          const element = document.querySelector('#df-657cd29e-4820-453b-88a4-9f5a8ce6bce8');\n",
              "          const dataTable =\n",
              "            await google.colab.kernel.invokeFunction('convertToInteractive',\n",
              "                                                     [key], {});\n",
              "          if (!dataTable) return;\n",
              "\n",
              "          const docLinkHtml = 'Like what you see? Visit the ' +\n",
              "            '<a target=\"_blank\" href=https://colab.research.google.com/notebooks/data_table.ipynb>data table notebook</a>'\n",
              "            + ' to learn more about interactive tables.';\n",
              "          element.innerHTML = '';\n",
              "          dataTable['output_type'] = 'display_data';\n",
              "          await google.colab.output.renderOutput(dataTable, element);\n",
              "          const docLink = document.createElement('div');\n",
              "          docLink.innerHTML = docLinkHtml;\n",
              "          element.appendChild(docLink);\n",
              "        }\n",
              "      </script>\n",
              "    </div>\n",
              "  </div>\n",
              "  "
            ]
          },
          "metadata": {},
          "execution_count": 16
        }
      ],
      "source": [
        "# TEST DE HOMOCEDASTICIDAD\n",
        "# ==============================================================================\n",
        "pg.homoscedasticity(data=df_muestra, dv='Ingreso', group='Genero')"
      ]
    },
    {
      "cell_type": "markdown",
      "source": [
        "#### Interpretacion\n",
        "* Para el test de SHAPIRO-WILK y de kolgomorov-smirnov se obtuvo un p value menor a 0.05 por lo que rechazo la hipotesis nula y tengo suficiente evidencia para decir que hay diferencia entre las medias poblacionales. ES decir no cumple con la normalidad\n",
        "* Debido a los datos atipicos muy altos en la variable ingreso se dificulta la visualizacion de los puntos\n",
        "* El test de Homocedasticidad de Levene muestra  un p menor a 0.05 por lo que rechazo la hipotesis nula y concluyo que existe sufiente evidencia para decir que la varianza no es igual en los grupos. No existe homocedasticidad"
      ],
      "metadata": {
        "id": "35zKyl8dU7kX"
      }
    },
    {
      "cell_type": "markdown",
      "metadata": {
        "id": "xtO4Aw20zppe"
      },
      "source": [
        "### **Paso 5**\n",
        "5. Hacer una prueba de comparación de medias independientes. Plantear la hipotesis nula y la hipotesis alternativa. Interpretar los resultados.  **(4ptos)**"
      ]
    },
    {
      "cell_type": "markdown",
      "source": [
        "H0 : µ 1 = µ 2 (las dos medias poblacionales son iguales)\n",
        "\n",
        "H1 : µ 1 ≠ µ 2 (las dos medias poblacionales no son iguales)"
      ],
      "metadata": {
        "id": "dYO-dIHub_Du"
      }
    },
    {
      "cell_type": "code",
      "execution_count": null,
      "metadata": {
        "id": "sQ1vGIrHzojG"
      },
      "outputs": [],
      "source": [
        "import pandas as pd\n",
        "import numpy as np\n",
        "from scipy.stats import chi2_contingency\n",
        " \n",
        "import seaborn as sns\n",
        "import matplotlib.pyplot as plt\n"
      ]
    },
    {
      "cell_type": "code",
      "source": [
        "ingreso_masculino = df_muestra.loc[df_muestra.Genero == 'Masculino', 'Ingreso']\n",
        "ingreso_femenino = df_muestra.loc[df_muestra.Genero == 'Femenino', 'Ingreso']\n",
        "\n",
        "pg.ttest(x=ingreso_masculino, y=ingreso_femenino, alternative='two-sided', correction=True) "
      ],
      "metadata": {
        "colab": {
          "base_uri": "https://localhost:8080/",
          "height": 80
        },
        "id": "dG9VunF0ZuO8",
        "outputId": "348388c8-cfd6-4275-d49c-5c7b3a1b15c5"
      },
      "execution_count": null,
      "outputs": [
        {
          "output_type": "execute_result",
          "data": {
            "text/plain": [
              "               T         dof alternative     p-val               CI95%  \\\n",
              "T-test  3.167645  781.418814   two-sided  0.001597  [1097.67, 4675.07]   \n",
              "\n",
              "         cohen-d  BF10     power  \n",
              "T-test  0.175073  9.88  0.774595  "
            ],
            "text/html": [
              "\n",
              "  <div id=\"df-ba8e5d5c-e31b-49b8-9372-b83acd425599\">\n",
              "    <div class=\"colab-df-container\">\n",
              "      <div>\n",
              "<style scoped>\n",
              "    .dataframe tbody tr th:only-of-type {\n",
              "        vertical-align: middle;\n",
              "    }\n",
              "\n",
              "    .dataframe tbody tr th {\n",
              "        vertical-align: top;\n",
              "    }\n",
              "\n",
              "    .dataframe thead th {\n",
              "        text-align: right;\n",
              "    }\n",
              "</style>\n",
              "<table border=\"1\" class=\"dataframe\">\n",
              "  <thead>\n",
              "    <tr style=\"text-align: right;\">\n",
              "      <th></th>\n",
              "      <th>T</th>\n",
              "      <th>dof</th>\n",
              "      <th>alternative</th>\n",
              "      <th>p-val</th>\n",
              "      <th>CI95%</th>\n",
              "      <th>cohen-d</th>\n",
              "      <th>BF10</th>\n",
              "      <th>power</th>\n",
              "    </tr>\n",
              "  </thead>\n",
              "  <tbody>\n",
              "    <tr>\n",
              "      <th>T-test</th>\n",
              "      <td>3.167645</td>\n",
              "      <td>781.418814</td>\n",
              "      <td>two-sided</td>\n",
              "      <td>0.001597</td>\n",
              "      <td>[1097.67, 4675.07]</td>\n",
              "      <td>0.175073</td>\n",
              "      <td>9.88</td>\n",
              "      <td>0.774595</td>\n",
              "    </tr>\n",
              "  </tbody>\n",
              "</table>\n",
              "</div>\n",
              "      <button class=\"colab-df-convert\" onclick=\"convertToInteractive('df-ba8e5d5c-e31b-49b8-9372-b83acd425599')\"\n",
              "              title=\"Convert this dataframe to an interactive table.\"\n",
              "              style=\"display:none;\">\n",
              "        \n",
              "  <svg xmlns=\"http://www.w3.org/2000/svg\" height=\"24px\"viewBox=\"0 0 24 24\"\n",
              "       width=\"24px\">\n",
              "    <path d=\"M0 0h24v24H0V0z\" fill=\"none\"/>\n",
              "    <path d=\"M18.56 5.44l.94 2.06.94-2.06 2.06-.94-2.06-.94-.94-2.06-.94 2.06-2.06.94zm-11 1L8.5 8.5l.94-2.06 2.06-.94-2.06-.94L8.5 2.5l-.94 2.06-2.06.94zm10 10l.94 2.06.94-2.06 2.06-.94-2.06-.94-.94-2.06-.94 2.06-2.06.94z\"/><path d=\"M17.41 7.96l-1.37-1.37c-.4-.4-.92-.59-1.43-.59-.52 0-1.04.2-1.43.59L10.3 9.45l-7.72 7.72c-.78.78-.78 2.05 0 2.83L4 21.41c.39.39.9.59 1.41.59.51 0 1.02-.2 1.41-.59l7.78-7.78 2.81-2.81c.8-.78.8-2.07 0-2.86zM5.41 20L4 18.59l7.72-7.72 1.47 1.35L5.41 20z\"/>\n",
              "  </svg>\n",
              "      </button>\n",
              "      \n",
              "  <style>\n",
              "    .colab-df-container {\n",
              "      display:flex;\n",
              "      flex-wrap:wrap;\n",
              "      gap: 12px;\n",
              "    }\n",
              "\n",
              "    .colab-df-convert {\n",
              "      background-color: #E8F0FE;\n",
              "      border: none;\n",
              "      border-radius: 50%;\n",
              "      cursor: pointer;\n",
              "      display: none;\n",
              "      fill: #1967D2;\n",
              "      height: 32px;\n",
              "      padding: 0 0 0 0;\n",
              "      width: 32px;\n",
              "    }\n",
              "\n",
              "    .colab-df-convert:hover {\n",
              "      background-color: #E2EBFA;\n",
              "      box-shadow: 0px 1px 2px rgba(60, 64, 67, 0.3), 0px 1px 3px 1px rgba(60, 64, 67, 0.15);\n",
              "      fill: #174EA6;\n",
              "    }\n",
              "\n",
              "    [theme=dark] .colab-df-convert {\n",
              "      background-color: #3B4455;\n",
              "      fill: #D2E3FC;\n",
              "    }\n",
              "\n",
              "    [theme=dark] .colab-df-convert:hover {\n",
              "      background-color: #434B5C;\n",
              "      box-shadow: 0px 1px 3px 1px rgba(0, 0, 0, 0.15);\n",
              "      filter: drop-shadow(0px 1px 2px rgba(0, 0, 0, 0.3));\n",
              "      fill: #FFFFFF;\n",
              "    }\n",
              "  </style>\n",
              "\n",
              "      <script>\n",
              "        const buttonEl =\n",
              "          document.querySelector('#df-ba8e5d5c-e31b-49b8-9372-b83acd425599 button.colab-df-convert');\n",
              "        buttonEl.style.display =\n",
              "          google.colab.kernel.accessAllowed ? 'block' : 'none';\n",
              "\n",
              "        async function convertToInteractive(key) {\n",
              "          const element = document.querySelector('#df-ba8e5d5c-e31b-49b8-9372-b83acd425599');\n",
              "          const dataTable =\n",
              "            await google.colab.kernel.invokeFunction('convertToInteractive',\n",
              "                                                     [key], {});\n",
              "          if (!dataTable) return;\n",
              "\n",
              "          const docLinkHtml = 'Like what you see? Visit the ' +\n",
              "            '<a target=\"_blank\" href=https://colab.research.google.com/notebooks/data_table.ipynb>data table notebook</a>'\n",
              "            + ' to learn more about interactive tables.';\n",
              "          element.innerHTML = '';\n",
              "          dataTable['output_type'] = 'display_data';\n",
              "          await google.colab.output.renderOutput(dataTable, element);\n",
              "          const docLink = document.createElement('div');\n",
              "          docLink.innerHTML = docLinkHtml;\n",
              "          element.appendChild(docLink);\n",
              "        }\n",
              "      </script>\n",
              "    </div>\n",
              "  </div>\n",
              "  "
            ]
          },
          "metadata": {},
          "execution_count": 23
        }
      ]
    },
    {
      "cell_type": "markdown",
      "source": [
        "* Como el P valor resultante es menor a 0.05 por lo tanto rechazamos la Hipotesis Nula. Existe evidencia suficiente para decir que ingreso de ls personas de sexo femenino es diferente a las de sexo masculino"
      ],
      "metadata": {
        "id": "6SzU0LQWci5b"
      }
    },
    {
      "cell_type": "code",
      "source": [
        "  "
      ],
      "metadata": {
        "id": "T4m0RIyvZaht"
      },
      "execution_count": null,
      "outputs": []
    }
  ],
  "metadata": {
    "colab": {
      "provenance": []
    },
    "kernelspec": {
      "display_name": "Python 3",
      "name": "python3"
    },
    "language_info": {
      "name": "python"
    }
  },
  "nbformat": 4,
  "nbformat_minor": 0
}