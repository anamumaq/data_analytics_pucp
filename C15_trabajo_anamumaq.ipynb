{
  "nbformat": 4,
  "nbformat_minor": 0,
  "metadata": {
    "colab": {
      "provenance": []
    },
    "kernelspec": {
      "name": "python3",
      "display_name": "Python 3"
    },
    "language_info": {
      "name": "python"
    }
  },
  "cells": [
    {
      "cell_type": "markdown",
      "source": [
        "<img src=\"https://www.python.org/static/img/python-logo.png\" width=\"300\" alt=\"Python logo\"  />\n",
        "<font color='blue'>\n",
        "$\\Large\\text{Pontificia Universidad Católica del Perú}$</font>"
      ],
      "metadata": {
        "id": "asFiW1FPxdid"
      }
    },
    {
      "cell_type": "markdown",
      "source": [
        "$$\\Large \\textit{Estadística Aplicada}$$\n",
        "\n",
        "$$\\large\\textbf{Trabajo Clase 14: Regresión logística}$$\n",
        "\n",
        "Nombe alumno: Ana Muñoz Maquera\n",
        "\n"
      ],
      "metadata": {
        "id": "lPfUyzulvj_S"
      }
    },
    {
      "cell_type": "markdown",
      "source": [
        "Caso de estudio: **\"Base financiera\"**\n",
        "\n",
        "Haciendo uso de la base entregada desarrollar un modelo de regresión logística usando como variable target_mora:\n",
        "\n",
        "\n",
        "Total de puntos (20 ptos)\n"
      ],
      "metadata": {
        "id": "5p06NvX1oPfG"
      }
    },
    {
      "cell_type": "code",
      "source": [
        "import pandas as pd\n",
        "import numpy as np\n",
        "\n",
        "\n",
        "from sklearn.preprocessing import StandardScaler\n",
        "from sklearn.linear_model import LogisticRegression\n",
        "from sklearn.model_selection import train_test_split\n",
        "from sklearn.metrics import r2_score\n",
        "from sklearn.metrics import mean_squared_error\n",
        "\n",
        "\n",
        "import statsmodels.api as sm\n",
        "from statsmodels.formula.api import ols"
      ],
      "metadata": {
        "id": "ytT-DzP1Jx3G"
      },
      "execution_count": null,
      "outputs": []
    },
    {
      "cell_type": "markdown",
      "source": [
        "### **Paso 1**\n",
        "1. Carga y muestreo. \n",
        "  *   Cargar la base de datos para la actividad.  **(1pto)**\n",
        "  *   Elegir las muestras de train y test con una proporción de 70% y 30%  **(2ptos)**"
      ],
      "metadata": {
        "id": "M3wJDaCryGsV"
      }
    },
    {
      "cell_type": "code",
      "source": [
        "df = pd.read_csv('Base_financiera_1.csv', sep=';', index_col='ID')\n",
        "df.sample(2)"
      ],
      "metadata": {
        "id": "BTyLmUy0ybZd",
        "colab": {
          "base_uri": "https://localhost:8080/",
          "height": 237
        },
        "outputId": "ddc87587-3f42-4660-a0c0-9e8e92c1fe4f"
      },
      "execution_count": null,
      "outputs": [
        {
          "output_type": "execute_result",
          "data": {
            "text/plain": [
              "      Edad Estado_civil     Genero Zona_geografica  Ingreso  \\\n",
              "ID                                                            \n",
              "6882    55      Soltero  Masculino    LIMA MODERNA     3000   \n",
              "2283    63       Casado  Masculino     LIMA CENTRO      500   \n",
              "\n",
              "      Numero_entidades_sbs  Tenencia_Saldo_rcc  Tenencia_prestamos_rcc  \\\n",
              "ID                                                                       \n",
              "6882                     1                   1                       0   \n",
              "2283                     3                   1                       0   \n",
              "\n",
              "      Tenencia_hipotecario_rcc  Saldo_tc_rcc  ...  Antiguedad_pld  \\\n",
              "ID                                            ...                   \n",
              "6882                         0             0  ...               0   \n",
              "2283                         0             0  ...               0   \n",
              "\n",
              "      Antiguedad_activos  Nro_meses_rcc  Tenencia_ahorros_6m  \\\n",
              "ID                                                             \n",
              "6882                   0             20                    1   \n",
              "2283                   0             97                    1   \n",
              "\n",
              "      Tenencia_depo_plazo_6m  Tenencia_cts_6m  Tenencia_FFMM_6m  \\\n",
              "ID                                                                \n",
              "6882                       1                0                 1   \n",
              "2283                       1                0                 1   \n",
              "\n",
              "      Nro_meses_visitaOficina_5M  cant_vecesvisitaoficina_5m  Target_mora  \n",
              "ID                                                                         \n",
              "6882                           5                           6   SIN ATRASO  \n",
              "2283                           4                           7   SIN ATRASO  \n",
              "\n",
              "[2 rows x 50 columns]"
            ],
            "text/html": [
              "\n",
              "  <div id=\"df-45dcc90f-d9f0-4caf-9745-b9e844c4294c\">\n",
              "    <div class=\"colab-df-container\">\n",
              "      <div>\n",
              "<style scoped>\n",
              "    .dataframe tbody tr th:only-of-type {\n",
              "        vertical-align: middle;\n",
              "    }\n",
              "\n",
              "    .dataframe tbody tr th {\n",
              "        vertical-align: top;\n",
              "    }\n",
              "\n",
              "    .dataframe thead th {\n",
              "        text-align: right;\n",
              "    }\n",
              "</style>\n",
              "<table border=\"1\" class=\"dataframe\">\n",
              "  <thead>\n",
              "    <tr style=\"text-align: right;\">\n",
              "      <th></th>\n",
              "      <th>Edad</th>\n",
              "      <th>Estado_civil</th>\n",
              "      <th>Genero</th>\n",
              "      <th>Zona_geografica</th>\n",
              "      <th>Ingreso</th>\n",
              "      <th>Numero_entidades_sbs</th>\n",
              "      <th>Tenencia_Saldo_rcc</th>\n",
              "      <th>Tenencia_prestamos_rcc</th>\n",
              "      <th>Tenencia_hipotecario_rcc</th>\n",
              "      <th>Saldo_tc_rcc</th>\n",
              "      <th>...</th>\n",
              "      <th>Antiguedad_pld</th>\n",
              "      <th>Antiguedad_activos</th>\n",
              "      <th>Nro_meses_rcc</th>\n",
              "      <th>Tenencia_ahorros_6m</th>\n",
              "      <th>Tenencia_depo_plazo_6m</th>\n",
              "      <th>Tenencia_cts_6m</th>\n",
              "      <th>Tenencia_FFMM_6m</th>\n",
              "      <th>Nro_meses_visitaOficina_5M</th>\n",
              "      <th>cant_vecesvisitaoficina_5m</th>\n",
              "      <th>Target_mora</th>\n",
              "    </tr>\n",
              "    <tr>\n",
              "      <th>ID</th>\n",
              "      <th></th>\n",
              "      <th></th>\n",
              "      <th></th>\n",
              "      <th></th>\n",
              "      <th></th>\n",
              "      <th></th>\n",
              "      <th></th>\n",
              "      <th></th>\n",
              "      <th></th>\n",
              "      <th></th>\n",
              "      <th></th>\n",
              "      <th></th>\n",
              "      <th></th>\n",
              "      <th></th>\n",
              "      <th></th>\n",
              "      <th></th>\n",
              "      <th></th>\n",
              "      <th></th>\n",
              "      <th></th>\n",
              "      <th></th>\n",
              "      <th></th>\n",
              "    </tr>\n",
              "  </thead>\n",
              "  <tbody>\n",
              "    <tr>\n",
              "      <th>6882</th>\n",
              "      <td>55</td>\n",
              "      <td>Soltero</td>\n",
              "      <td>Masculino</td>\n",
              "      <td>LIMA MODERNA</td>\n",
              "      <td>3000</td>\n",
              "      <td>1</td>\n",
              "      <td>1</td>\n",
              "      <td>0</td>\n",
              "      <td>0</td>\n",
              "      <td>0</td>\n",
              "      <td>...</td>\n",
              "      <td>0</td>\n",
              "      <td>0</td>\n",
              "      <td>20</td>\n",
              "      <td>1</td>\n",
              "      <td>1</td>\n",
              "      <td>0</td>\n",
              "      <td>1</td>\n",
              "      <td>5</td>\n",
              "      <td>6</td>\n",
              "      <td>SIN ATRASO</td>\n",
              "    </tr>\n",
              "    <tr>\n",
              "      <th>2283</th>\n",
              "      <td>63</td>\n",
              "      <td>Casado</td>\n",
              "      <td>Masculino</td>\n",
              "      <td>LIMA CENTRO</td>\n",
              "      <td>500</td>\n",
              "      <td>3</td>\n",
              "      <td>1</td>\n",
              "      <td>0</td>\n",
              "      <td>0</td>\n",
              "      <td>0</td>\n",
              "      <td>...</td>\n",
              "      <td>0</td>\n",
              "      <td>0</td>\n",
              "      <td>97</td>\n",
              "      <td>1</td>\n",
              "      <td>1</td>\n",
              "      <td>0</td>\n",
              "      <td>1</td>\n",
              "      <td>4</td>\n",
              "      <td>7</td>\n",
              "      <td>SIN ATRASO</td>\n",
              "    </tr>\n",
              "  </tbody>\n",
              "</table>\n",
              "<p>2 rows × 50 columns</p>\n",
              "</div>\n",
              "      <button class=\"colab-df-convert\" onclick=\"convertToInteractive('df-45dcc90f-d9f0-4caf-9745-b9e844c4294c')\"\n",
              "              title=\"Convert this dataframe to an interactive table.\"\n",
              "              style=\"display:none;\">\n",
              "        \n",
              "  <svg xmlns=\"http://www.w3.org/2000/svg\" height=\"24px\"viewBox=\"0 0 24 24\"\n",
              "       width=\"24px\">\n",
              "    <path d=\"M0 0h24v24H0V0z\" fill=\"none\"/>\n",
              "    <path d=\"M18.56 5.44l.94 2.06.94-2.06 2.06-.94-2.06-.94-.94-2.06-.94 2.06-2.06.94zm-11 1L8.5 8.5l.94-2.06 2.06-.94-2.06-.94L8.5 2.5l-.94 2.06-2.06.94zm10 10l.94 2.06.94-2.06 2.06-.94-2.06-.94-.94-2.06-.94 2.06-2.06.94z\"/><path d=\"M17.41 7.96l-1.37-1.37c-.4-.4-.92-.59-1.43-.59-.52 0-1.04.2-1.43.59L10.3 9.45l-7.72 7.72c-.78.78-.78 2.05 0 2.83L4 21.41c.39.39.9.59 1.41.59.51 0 1.02-.2 1.41-.59l7.78-7.78 2.81-2.81c.8-.78.8-2.07 0-2.86zM5.41 20L4 18.59l7.72-7.72 1.47 1.35L5.41 20z\"/>\n",
              "  </svg>\n",
              "      </button>\n",
              "      \n",
              "  <style>\n",
              "    .colab-df-container {\n",
              "      display:flex;\n",
              "      flex-wrap:wrap;\n",
              "      gap: 12px;\n",
              "    }\n",
              "\n",
              "    .colab-df-convert {\n",
              "      background-color: #E8F0FE;\n",
              "      border: none;\n",
              "      border-radius: 50%;\n",
              "      cursor: pointer;\n",
              "      display: none;\n",
              "      fill: #1967D2;\n",
              "      height: 32px;\n",
              "      padding: 0 0 0 0;\n",
              "      width: 32px;\n",
              "    }\n",
              "\n",
              "    .colab-df-convert:hover {\n",
              "      background-color: #E2EBFA;\n",
              "      box-shadow: 0px 1px 2px rgba(60, 64, 67, 0.3), 0px 1px 3px 1px rgba(60, 64, 67, 0.15);\n",
              "      fill: #174EA6;\n",
              "    }\n",
              "\n",
              "    [theme=dark] .colab-df-convert {\n",
              "      background-color: #3B4455;\n",
              "      fill: #D2E3FC;\n",
              "    }\n",
              "\n",
              "    [theme=dark] .colab-df-convert:hover {\n",
              "      background-color: #434B5C;\n",
              "      box-shadow: 0px 1px 3px 1px rgba(0, 0, 0, 0.15);\n",
              "      filter: drop-shadow(0px 1px 2px rgba(0, 0, 0, 0.3));\n",
              "      fill: #FFFFFF;\n",
              "    }\n",
              "  </style>\n",
              "\n",
              "      <script>\n",
              "        const buttonEl =\n",
              "          document.querySelector('#df-45dcc90f-d9f0-4caf-9745-b9e844c4294c button.colab-df-convert');\n",
              "        buttonEl.style.display =\n",
              "          google.colab.kernel.accessAllowed ? 'block' : 'none';\n",
              "\n",
              "        async function convertToInteractive(key) {\n",
              "          const element = document.querySelector('#df-45dcc90f-d9f0-4caf-9745-b9e844c4294c');\n",
              "          const dataTable =\n",
              "            await google.colab.kernel.invokeFunction('convertToInteractive',\n",
              "                                                     [key], {});\n",
              "          if (!dataTable) return;\n",
              "\n",
              "          const docLinkHtml = 'Like what you see? Visit the ' +\n",
              "            '<a target=\"_blank\" href=https://colab.research.google.com/notebooks/data_table.ipynb>data table notebook</a>'\n",
              "            + ' to learn more about interactive tables.';\n",
              "          element.innerHTML = '';\n",
              "          dataTable['output_type'] = 'display_data';\n",
              "          await google.colab.output.renderOutput(dataTable, element);\n",
              "          const docLink = document.createElement('div');\n",
              "          docLink.innerHTML = docLinkHtml;\n",
              "          element.appendChild(docLink);\n",
              "        }\n",
              "      </script>\n",
              "    </div>\n",
              "  </div>\n",
              "  "
            ]
          },
          "metadata": {},
          "execution_count": 133
        }
      ]
    },
    {
      "cell_type": "code",
      "source": [
        "# Elimino zona geografica por la cantidad de variables unicas\n",
        "df = df.drop(columns='Zona_geografica')\n",
        "# PASANDO TARGET A 0 Y 1 y todas las variables categoricas\n",
        "dummies = pd.get_dummies(df[['Target_mora', 'Estado_civil', 'Genero']], drop_first=True)\n",
        "df = pd.concat([df, dummies], axis=1)\n",
        "df = df.drop(columns=['Estado_civil', 'Genero', 'Target_mora'], axis=1)"
      ],
      "metadata": {
        "id": "u3tWCviTKjOf"
      },
      "execution_count": null,
      "outputs": []
    },
    {
      "cell_type": "code",
      "source": [
        "# Eligiendo la variable target\n",
        "y = df['Target_mora_SIN ATRASO']\n",
        "x = df.drop(columns='Target_mora_SIN ATRASO')\n",
        "\n",
        "# Split the data\n",
        "x_train, x_test, y_train, y_test = train_test_split(x, y, random_state=2023, test_size=0.30, shuffle=True)"
      ],
      "metadata": {
        "id": "hZO6z6aTxntw"
      },
      "execution_count": null,
      "outputs": []
    },
    {
      "cell_type": "code",
      "source": [
        "# Escalando la data\n",
        "scaler = StandardScaler()\n",
        "norm_x = scaler.fit(x_train)\n",
        "\n",
        "# Dataset despues de la normalizacion\n",
        "x_train_norm = norm_x.transform(x_train)\n",
        "x_test_norm = norm_x.transform(x_test)\n",
        "\n",
        "x_train = pd.DataFrame(x_train_norm, columns=x_train.columns)\n",
        "x_test = pd.DataFrame(x_test_norm, columns=x_test.columns)\n",
        "\n",
        "# # normalizando Ingresos\n",
        "# norm_y = scaler.fit(y_train.values.reshape(-1, 1))\n",
        "# y_train_norm = norm_y.transform(y_train.values.reshape(-1, 1))\n",
        "# y_test_norm = norm_y.transform(y_test.values.reshape(-1, 1))\n",
        "\n",
        "# y_train = pd.DataFrame(y_train_norm)#, columns=y_train.index)\n",
        "# y_test = pd.DataFrame(y_test_norm)#, #columns=y_test.index)"
      ],
      "metadata": {
        "id": "tngpY0wcQ-hP"
      },
      "execution_count": null,
      "outputs": []
    },
    {
      "cell_type": "markdown",
      "source": [
        "### **Paso 2**\n",
        "2. Seleccionar un grupo de variables que sean adecuadas para el modelo. Describa los criterios o el método de selección utilizado. Puede ser explorando las caracteristicas de cada variable o creando una primera versión del modelo **(5 ptos)**\n",
        "\n",
        "\n"
      ],
      "metadata": {
        "id": "1sD_yeUAtnAK"
      }
    },
    {
      "cell_type": "code",
      "source": [
        "# Evaluo correlaciones\n",
        "corr = x_train.corr()\n",
        "\n",
        "# Obteniendo correlaciones mayores a 0.9 y -0.9\n",
        "corr = corr.where(np.tril(np.ones(corr.shape)).astype(np.bool))\n",
        "corr = corr.unstack().dropna().sort_values(ascending=False)\n",
        "corr = corr[corr!=1]\n",
        "\n",
        "corre_high = corr[corr>=0.9]\n",
        "corre_low = corr[corr<=-0.9]\n",
        "\n",
        "# variables con alta correlacion\n",
        "corre_high \n",
        "# Nro_productos_activo_rcc  y Cantidad_productos_rcc varibales con 1 de correlacion\n",
        "#corre_low # vacio"
      ],
      "metadata": {
        "id": "ZuW2_Xrh1vrK",
        "colab": {
          "base_uri": "https://localhost:8080/"
        },
        "outputId": "ba7c93c9-be5f-4cf2-fe50-dea6d2d7fb55"
      },
      "execution_count": null,
      "outputs": [
        {
          "output_type": "stream",
          "name": "stderr",
          "text": [
            "<ipython-input-137-33d3271218d7>:5: DeprecationWarning: `np.bool` is a deprecated alias for the builtin `bool`. To silence this warning, use `bool` by itself. Doing this will not modify any behavior and is safe. If you specifically wanted the numpy scalar type, use `np.bool_` here.\n",
            "Deprecated in NumPy 1.20; for more details and guidance: https://numpy.org/devdocs/release/1.20.0-notes.html#deprecations\n",
            "  corr = corr.where(np.tril(np.ones(corr.shape)).astype(np.bool))\n"
          ]
        },
        {
          "output_type": "execute_result",
          "data": {
            "text/plain": [
              "Numero_entidades_sbs  Nro_bancos_tc_saldo    0.918498\n",
              "dtype: float64"
            ]
          },
          "metadata": {},
          "execution_count": 137
        }
      ]
    },
    {
      "cell_type": "code",
      "source": [
        "# Drop variables altamente correlacionadas\n",
        "x_train = x_train.drop(columns=['Nro_bancos_tc_saldo','Cantidad_productos_rcc'], axis=1)\n",
        "\n",
        "# Columnas que quedan\n",
        "print('Columas que quedan :', len(x_test.columns))"
      ],
      "metadata": {
        "colab": {
          "base_uri": "https://localhost:8080/"
        },
        "id": "iRi2Rm4kKMf_",
        "outputId": "7c97d7c4-2e75-43db-b767-d34bfe6d431b"
      },
      "execution_count": null,
      "outputs": [
        {
          "output_type": "stream",
          "name": "stdout",
          "text": [
            "Columas que quedan : 49\n"
          ]
        }
      ]
    },
    {
      "cell_type": "code",
      "source": [
        "# ## PROBANDO CON FEATURE SELECTION\n",
        "# from sklearn.feature_selection import SequentialFeatureSelector\n",
        "\n",
        "# selector = SequentialFeatureSelector(\n",
        "#     estimator=LogisticRegression(solver='lbfgs', max_iter=100), n_features_to_select=10,\n",
        "#     direction='backward', cv=3, scoring='f1'\n",
        "# )\n",
        "# selector.fit(x_train,y_train)\n",
        "\n",
        "# selected_forward = x_train.columns[selector.get_support()]\n",
        "# columnas = selected_forward.sort_values().tolist()\n",
        "# columnas"
      ],
      "metadata": {
        "id": "ufiNdIaIxcyK"
      },
      "execution_count": null,
      "outputs": []
    },
    {
      "cell_type": "markdown",
      "source": [
        "### **Paso 3**\n",
        "*   Entrenar el modelo en la subpoblación de train **(3ptos)**\n",
        "*   Analizar la significancia de las variables en el modelo elegido **(3ptos)**\n",
        "*   Calcular e interpretar la métrica de bondad de ajuste para el modelo \"F1_score\" en los subgrupos de train y test (comparar) **(3ptos)**:\n"
      ],
      "metadata": {
        "id": "CORbt63EBv6L"
      }
    },
    {
      "cell_type": "code",
      "source": [
        "# Drop variables altamente correlacionadas\n",
        "x_test = x_test.drop(columns=['Nro_bancos_tc_saldo','Cantidad_productos_rcc'], axis=1)\n",
        "x_test.shape"
      ],
      "metadata": {
        "colab": {
          "base_uri": "https://localhost:8080/"
        },
        "id": "v_Wpxhe7QfwH",
        "outputId": "0d126955-6638-43b1-b1b9-4bf8e102ee93"
      },
      "execution_count": null,
      "outputs": [
        {
          "output_type": "execute_result",
          "data": {
            "text/plain": [
              "(3193, 47)"
            ]
          },
          "metadata": {},
          "execution_count": 140
        }
      ]
    },
    {
      "cell_type": "code",
      "source": [
        "# Modelo\n",
        "model_lr = LogisticRegression(max_iter=100)\n",
        "model_lr.fit(x_train, y_train)\n",
        "y_pred = model_lr.predict(x_test)\n",
        "\n",
        "coefficients = model_lr.coef_.ravel()\n",
        "pd.DataFrame({'Variables': x_train.columns, 'Coeficiente': coefficients}).round(4)"
      ],
      "metadata": {
        "id": "b9-Zlm72xhH4",
        "colab": {
          "base_uri": "https://localhost:8080/",
          "height": 1000
        },
        "outputId": "174b46ad-e341-435d-bcb0-755153864bfb"
      },
      "execution_count": null,
      "outputs": [
        {
          "output_type": "execute_result",
          "data": {
            "text/plain": [
              "                       Variables  Coeficiente\n",
              "0                           Edad       0.2079\n",
              "1                        Ingreso       0.1247\n",
              "2           Numero_entidades_sbs      -0.3260\n",
              "3             Tenencia_Saldo_rcc      -0.3055\n",
              "4         Tenencia_prestamos_rcc      -0.0571\n",
              "5       Tenencia_hipotecario_rcc       0.1949\n",
              "6                   Saldo_tc_rcc      -2.0896\n",
              "7             Saldo_prestamo_rcc      -0.7667\n",
              "8          Saldo_hipotecario_rcc      -1.5563\n",
              "9                      deuda_rcc      -1.4890\n",
              "10               Tenencia_TC_rcc       0.4315\n",
              "11                Nro_bancos_pld       0.0358\n",
              "12       Nro_productos_activo_E1       0.1625\n",
              "13       Nro_productos_activo_E2      -0.0762\n",
              "14       Nro_productos_activo_E3      -0.0738\n",
              "15       Nro_productos_activo_E4       0.1574\n",
              "16      Nro_productos_activo_rcc      -0.3313\n",
              "17            Antiguedad_cliente      -0.0335\n",
              "18              Tenencia_ahorros       0.1567\n",
              "19                  Tenencia_cts       0.1000\n",
              "20           Tenencia_depo_plazo       0.1137\n",
              "21                 Tenencia_FFMM       0.1119\n",
              "22          Saldo_vehicular_prom      -0.0522\n",
              "23              Saldo_hipot_prom      -0.0858\n",
              "24           Flg_transacc_atm_3m      -0.0490\n",
              "25    Flg_transacc_ventanilla_3m      -0.0721\n",
              "26  Flg_transacc_bca_internet_3m       0.0229\n",
              "27     Flg_transacc_bca_telef_3m       0.0371\n",
              "28                        Flg_ph      -0.0337\n",
              "29                 Antiguedad_ph       0.1033\n",
              "30            Antiguedad_ahorros       0.2282\n",
              "31         Antiguedad_depo_plazo      -0.0244\n",
              "32                Antiguedad_cts       0.1456\n",
              "33            Antiguedad_pasivos      -0.2530\n",
              "34         Nro_productos_pasivos      -0.3647\n",
              "35                Antiguedad_pld      -0.0872\n",
              "36            Antiguedad_activos      -0.1778\n",
              "37                 Nro_meses_rcc      -0.2090\n",
              "38           Tenencia_ahorros_6m      -0.0221\n",
              "39        Tenencia_depo_plazo_6m       0.1550\n",
              "40               Tenencia_cts_6m       0.0323\n",
              "41              Tenencia_FFMM_6m       0.0311\n",
              "42    Nro_meses_visitaOficina_5M       0.0469\n",
              "43    cant_vecesvisitaoficina_5m      -0.0599\n",
              "44             Estado_civil_Otro      -0.0321\n",
              "45          Estado_civil_Soltero       0.0042\n",
              "46              Genero_Masculino      -0.0939"
            ],
            "text/html": [
              "\n",
              "  <div id=\"df-f3bb7439-d967-462d-8260-beb244fc9110\">\n",
              "    <div class=\"colab-df-container\">\n",
              "      <div>\n",
              "<style scoped>\n",
              "    .dataframe tbody tr th:only-of-type {\n",
              "        vertical-align: middle;\n",
              "    }\n",
              "\n",
              "    .dataframe tbody tr th {\n",
              "        vertical-align: top;\n",
              "    }\n",
              "\n",
              "    .dataframe thead th {\n",
              "        text-align: right;\n",
              "    }\n",
              "</style>\n",
              "<table border=\"1\" class=\"dataframe\">\n",
              "  <thead>\n",
              "    <tr style=\"text-align: right;\">\n",
              "      <th></th>\n",
              "      <th>Variables</th>\n",
              "      <th>Coeficiente</th>\n",
              "    </tr>\n",
              "  </thead>\n",
              "  <tbody>\n",
              "    <tr>\n",
              "      <th>0</th>\n",
              "      <td>Edad</td>\n",
              "      <td>0.2079</td>\n",
              "    </tr>\n",
              "    <tr>\n",
              "      <th>1</th>\n",
              "      <td>Ingreso</td>\n",
              "      <td>0.1247</td>\n",
              "    </tr>\n",
              "    <tr>\n",
              "      <th>2</th>\n",
              "      <td>Numero_entidades_sbs</td>\n",
              "      <td>-0.3260</td>\n",
              "    </tr>\n",
              "    <tr>\n",
              "      <th>3</th>\n",
              "      <td>Tenencia_Saldo_rcc</td>\n",
              "      <td>-0.3055</td>\n",
              "    </tr>\n",
              "    <tr>\n",
              "      <th>4</th>\n",
              "      <td>Tenencia_prestamos_rcc</td>\n",
              "      <td>-0.0571</td>\n",
              "    </tr>\n",
              "    <tr>\n",
              "      <th>5</th>\n",
              "      <td>Tenencia_hipotecario_rcc</td>\n",
              "      <td>0.1949</td>\n",
              "    </tr>\n",
              "    <tr>\n",
              "      <th>6</th>\n",
              "      <td>Saldo_tc_rcc</td>\n",
              "      <td>-2.0896</td>\n",
              "    </tr>\n",
              "    <tr>\n",
              "      <th>7</th>\n",
              "      <td>Saldo_prestamo_rcc</td>\n",
              "      <td>-0.7667</td>\n",
              "    </tr>\n",
              "    <tr>\n",
              "      <th>8</th>\n",
              "      <td>Saldo_hipotecario_rcc</td>\n",
              "      <td>-1.5563</td>\n",
              "    </tr>\n",
              "    <tr>\n",
              "      <th>9</th>\n",
              "      <td>deuda_rcc</td>\n",
              "      <td>-1.4890</td>\n",
              "    </tr>\n",
              "    <tr>\n",
              "      <th>10</th>\n",
              "      <td>Tenencia_TC_rcc</td>\n",
              "      <td>0.4315</td>\n",
              "    </tr>\n",
              "    <tr>\n",
              "      <th>11</th>\n",
              "      <td>Nro_bancos_pld</td>\n",
              "      <td>0.0358</td>\n",
              "    </tr>\n",
              "    <tr>\n",
              "      <th>12</th>\n",
              "      <td>Nro_productos_activo_E1</td>\n",
              "      <td>0.1625</td>\n",
              "    </tr>\n",
              "    <tr>\n",
              "      <th>13</th>\n",
              "      <td>Nro_productos_activo_E2</td>\n",
              "      <td>-0.0762</td>\n",
              "    </tr>\n",
              "    <tr>\n",
              "      <th>14</th>\n",
              "      <td>Nro_productos_activo_E3</td>\n",
              "      <td>-0.0738</td>\n",
              "    </tr>\n",
              "    <tr>\n",
              "      <th>15</th>\n",
              "      <td>Nro_productos_activo_E4</td>\n",
              "      <td>0.1574</td>\n",
              "    </tr>\n",
              "    <tr>\n",
              "      <th>16</th>\n",
              "      <td>Nro_productos_activo_rcc</td>\n",
              "      <td>-0.3313</td>\n",
              "    </tr>\n",
              "    <tr>\n",
              "      <th>17</th>\n",
              "      <td>Antiguedad_cliente</td>\n",
              "      <td>-0.0335</td>\n",
              "    </tr>\n",
              "    <tr>\n",
              "      <th>18</th>\n",
              "      <td>Tenencia_ahorros</td>\n",
              "      <td>0.1567</td>\n",
              "    </tr>\n",
              "    <tr>\n",
              "      <th>19</th>\n",
              "      <td>Tenencia_cts</td>\n",
              "      <td>0.1000</td>\n",
              "    </tr>\n",
              "    <tr>\n",
              "      <th>20</th>\n",
              "      <td>Tenencia_depo_plazo</td>\n",
              "      <td>0.1137</td>\n",
              "    </tr>\n",
              "    <tr>\n",
              "      <th>21</th>\n",
              "      <td>Tenencia_FFMM</td>\n",
              "      <td>0.1119</td>\n",
              "    </tr>\n",
              "    <tr>\n",
              "      <th>22</th>\n",
              "      <td>Saldo_vehicular_prom</td>\n",
              "      <td>-0.0522</td>\n",
              "    </tr>\n",
              "    <tr>\n",
              "      <th>23</th>\n",
              "      <td>Saldo_hipot_prom</td>\n",
              "      <td>-0.0858</td>\n",
              "    </tr>\n",
              "    <tr>\n",
              "      <th>24</th>\n",
              "      <td>Flg_transacc_atm_3m</td>\n",
              "      <td>-0.0490</td>\n",
              "    </tr>\n",
              "    <tr>\n",
              "      <th>25</th>\n",
              "      <td>Flg_transacc_ventanilla_3m</td>\n",
              "      <td>-0.0721</td>\n",
              "    </tr>\n",
              "    <tr>\n",
              "      <th>26</th>\n",
              "      <td>Flg_transacc_bca_internet_3m</td>\n",
              "      <td>0.0229</td>\n",
              "    </tr>\n",
              "    <tr>\n",
              "      <th>27</th>\n",
              "      <td>Flg_transacc_bca_telef_3m</td>\n",
              "      <td>0.0371</td>\n",
              "    </tr>\n",
              "    <tr>\n",
              "      <th>28</th>\n",
              "      <td>Flg_ph</td>\n",
              "      <td>-0.0337</td>\n",
              "    </tr>\n",
              "    <tr>\n",
              "      <th>29</th>\n",
              "      <td>Antiguedad_ph</td>\n",
              "      <td>0.1033</td>\n",
              "    </tr>\n",
              "    <tr>\n",
              "      <th>30</th>\n",
              "      <td>Antiguedad_ahorros</td>\n",
              "      <td>0.2282</td>\n",
              "    </tr>\n",
              "    <tr>\n",
              "      <th>31</th>\n",
              "      <td>Antiguedad_depo_plazo</td>\n",
              "      <td>-0.0244</td>\n",
              "    </tr>\n",
              "    <tr>\n",
              "      <th>32</th>\n",
              "      <td>Antiguedad_cts</td>\n",
              "      <td>0.1456</td>\n",
              "    </tr>\n",
              "    <tr>\n",
              "      <th>33</th>\n",
              "      <td>Antiguedad_pasivos</td>\n",
              "      <td>-0.2530</td>\n",
              "    </tr>\n",
              "    <tr>\n",
              "      <th>34</th>\n",
              "      <td>Nro_productos_pasivos</td>\n",
              "      <td>-0.3647</td>\n",
              "    </tr>\n",
              "    <tr>\n",
              "      <th>35</th>\n",
              "      <td>Antiguedad_pld</td>\n",
              "      <td>-0.0872</td>\n",
              "    </tr>\n",
              "    <tr>\n",
              "      <th>36</th>\n",
              "      <td>Antiguedad_activos</td>\n",
              "      <td>-0.1778</td>\n",
              "    </tr>\n",
              "    <tr>\n",
              "      <th>37</th>\n",
              "      <td>Nro_meses_rcc</td>\n",
              "      <td>-0.2090</td>\n",
              "    </tr>\n",
              "    <tr>\n",
              "      <th>38</th>\n",
              "      <td>Tenencia_ahorros_6m</td>\n",
              "      <td>-0.0221</td>\n",
              "    </tr>\n",
              "    <tr>\n",
              "      <th>39</th>\n",
              "      <td>Tenencia_depo_plazo_6m</td>\n",
              "      <td>0.1550</td>\n",
              "    </tr>\n",
              "    <tr>\n",
              "      <th>40</th>\n",
              "      <td>Tenencia_cts_6m</td>\n",
              "      <td>0.0323</td>\n",
              "    </tr>\n",
              "    <tr>\n",
              "      <th>41</th>\n",
              "      <td>Tenencia_FFMM_6m</td>\n",
              "      <td>0.0311</td>\n",
              "    </tr>\n",
              "    <tr>\n",
              "      <th>42</th>\n",
              "      <td>Nro_meses_visitaOficina_5M</td>\n",
              "      <td>0.0469</td>\n",
              "    </tr>\n",
              "    <tr>\n",
              "      <th>43</th>\n",
              "      <td>cant_vecesvisitaoficina_5m</td>\n",
              "      <td>-0.0599</td>\n",
              "    </tr>\n",
              "    <tr>\n",
              "      <th>44</th>\n",
              "      <td>Estado_civil_Otro</td>\n",
              "      <td>-0.0321</td>\n",
              "    </tr>\n",
              "    <tr>\n",
              "      <th>45</th>\n",
              "      <td>Estado_civil_Soltero</td>\n",
              "      <td>0.0042</td>\n",
              "    </tr>\n",
              "    <tr>\n",
              "      <th>46</th>\n",
              "      <td>Genero_Masculino</td>\n",
              "      <td>-0.0939</td>\n",
              "    </tr>\n",
              "  </tbody>\n",
              "</table>\n",
              "</div>\n",
              "      <button class=\"colab-df-convert\" onclick=\"convertToInteractive('df-f3bb7439-d967-462d-8260-beb244fc9110')\"\n",
              "              title=\"Convert this dataframe to an interactive table.\"\n",
              "              style=\"display:none;\">\n",
              "        \n",
              "  <svg xmlns=\"http://www.w3.org/2000/svg\" height=\"24px\"viewBox=\"0 0 24 24\"\n",
              "       width=\"24px\">\n",
              "    <path d=\"M0 0h24v24H0V0z\" fill=\"none\"/>\n",
              "    <path d=\"M18.56 5.44l.94 2.06.94-2.06 2.06-.94-2.06-.94-.94-2.06-.94 2.06-2.06.94zm-11 1L8.5 8.5l.94-2.06 2.06-.94-2.06-.94L8.5 2.5l-.94 2.06-2.06.94zm10 10l.94 2.06.94-2.06 2.06-.94-2.06-.94-.94-2.06-.94 2.06-2.06.94z\"/><path d=\"M17.41 7.96l-1.37-1.37c-.4-.4-.92-.59-1.43-.59-.52 0-1.04.2-1.43.59L10.3 9.45l-7.72 7.72c-.78.78-.78 2.05 0 2.83L4 21.41c.39.39.9.59 1.41.59.51 0 1.02-.2 1.41-.59l7.78-7.78 2.81-2.81c.8-.78.8-2.07 0-2.86zM5.41 20L4 18.59l7.72-7.72 1.47 1.35L5.41 20z\"/>\n",
              "  </svg>\n",
              "      </button>\n",
              "      \n",
              "  <style>\n",
              "    .colab-df-container {\n",
              "      display:flex;\n",
              "      flex-wrap:wrap;\n",
              "      gap: 12px;\n",
              "    }\n",
              "\n",
              "    .colab-df-convert {\n",
              "      background-color: #E8F0FE;\n",
              "      border: none;\n",
              "      border-radius: 50%;\n",
              "      cursor: pointer;\n",
              "      display: none;\n",
              "      fill: #1967D2;\n",
              "      height: 32px;\n",
              "      padding: 0 0 0 0;\n",
              "      width: 32px;\n",
              "    }\n",
              "\n",
              "    .colab-df-convert:hover {\n",
              "      background-color: #E2EBFA;\n",
              "      box-shadow: 0px 1px 2px rgba(60, 64, 67, 0.3), 0px 1px 3px 1px rgba(60, 64, 67, 0.15);\n",
              "      fill: #174EA6;\n",
              "    }\n",
              "\n",
              "    [theme=dark] .colab-df-convert {\n",
              "      background-color: #3B4455;\n",
              "      fill: #D2E3FC;\n",
              "    }\n",
              "\n",
              "    [theme=dark] .colab-df-convert:hover {\n",
              "      background-color: #434B5C;\n",
              "      box-shadow: 0px 1px 3px 1px rgba(0, 0, 0, 0.15);\n",
              "      filter: drop-shadow(0px 1px 2px rgba(0, 0, 0, 0.3));\n",
              "      fill: #FFFFFF;\n",
              "    }\n",
              "  </style>\n",
              "\n",
              "      <script>\n",
              "        const buttonEl =\n",
              "          document.querySelector('#df-f3bb7439-d967-462d-8260-beb244fc9110 button.colab-df-convert');\n",
              "        buttonEl.style.display =\n",
              "          google.colab.kernel.accessAllowed ? 'block' : 'none';\n",
              "\n",
              "        async function convertToInteractive(key) {\n",
              "          const element = document.querySelector('#df-f3bb7439-d967-462d-8260-beb244fc9110');\n",
              "          const dataTable =\n",
              "            await google.colab.kernel.invokeFunction('convertToInteractive',\n",
              "                                                     [key], {});\n",
              "          if (!dataTable) return;\n",
              "\n",
              "          const docLinkHtml = 'Like what you see? Visit the ' +\n",
              "            '<a target=\"_blank\" href=https://colab.research.google.com/notebooks/data_table.ipynb>data table notebook</a>'\n",
              "            + ' to learn more about interactive tables.';\n",
              "          element.innerHTML = '';\n",
              "          dataTable['output_type'] = 'display_data';\n",
              "          await google.colab.output.renderOutput(dataTable, element);\n",
              "          const docLink = document.createElement('div');\n",
              "          docLink.innerHTML = docLinkHtml;\n",
              "          element.appendChild(docLink);\n",
              "        }\n",
              "      </script>\n",
              "    </div>\n",
              "  </div>\n",
              "  "
            ]
          },
          "metadata": {},
          "execution_count": 141
        }
      ]
    },
    {
      "cell_type": "code",
      "source": [],
      "metadata": {
        "id": "OhbAVQKlzChy"
      },
      "execution_count": null,
      "outputs": []
    },
    {
      "cell_type": "code",
      "source": [
        "from sklearn.metrics import classification_report\n",
        "#################################\n",
        "# MORA SIN ATRASO = 1 #\n",
        "y_pred_train = model_lr.predict(x_train)\n",
        "y_pred_test = model_lr.predict(x_test)\n",
        "\n",
        "print(classification_report(y_train, y_pred_train))\n",
        "print(classification_report(y_test, y_pred_test))#\n"
      ],
      "metadata": {
        "id": "sQ1vGIrHzojG",
        "colab": {
          "base_uri": "https://localhost:8080/"
        },
        "outputId": "8b70f05f-c645-49cf-a8c8-b4fad89b633d"
      },
      "execution_count": null,
      "outputs": [
        {
          "output_type": "stream",
          "name": "stdout",
          "text": [
            "              precision    recall  f1-score   support\n",
            "\n",
            "           0       0.98      0.33      0.49       574\n",
            "           1       0.95      1.00      0.97      6876\n",
            "\n",
            "    accuracy                           0.95      7450\n",
            "   macro avg       0.97      0.66      0.73      7450\n",
            "weighted avg       0.95      0.95      0.94      7450\n",
            "\n",
            "              precision    recall  f1-score   support\n",
            "\n",
            "           0       0.93      0.32      0.48       244\n",
            "           1       0.95      1.00      0.97      2949\n",
            "\n",
            "    accuracy                           0.95      3193\n",
            "   macro avg       0.94      0.66      0.73      3193\n",
            "weighted avg       0.95      0.95      0.93      3193\n",
            "\n"
          ]
        }
      ]
    },
    {
      "cell_type": "code",
      "source": [
        "f1_score(y_train,  y_pred_train)\n",
        "f1_score(y_test, y_pred_test)"
      ],
      "metadata": {
        "colab": {
          "base_uri": "https://localhost:8080/"
        },
        "id": "LJyBsO_gU5kY",
        "outputId": "09981311-114f-40b2-fbfe-5240eb463a07"
      },
      "execution_count": null,
      "outputs": [
        {
          "output_type": "execute_result",
          "data": {
            "text/plain": [
              "0.9717682020802378"
            ]
          },
          "metadata": {},
          "execution_count": 144
        }
      ]
    },
    {
      "cell_type": "markdown",
      "source": [
        "### **Paso 4**\n",
        "\n",
        "Encontrar el punto de corte óptimo e interpretar:  **(3ptos)**\n",
        "\n",
        "\n",
        "\n"
      ],
      "metadata": {
        "id": "83AS2QNJnluM"
      }
    },
    {
      "cell_type": "code",
      "source": [
        "from sklearn.metrics import  f1_score, roc_curve, precision_recall_curve"
      ],
      "metadata": {
        "id": "Z8XPmtu-SOW_"
      },
      "execution_count": null,
      "outputs": []
    },
    {
      "cell_type": "code",
      "source": [
        "import matplotlib.pyplot as plt\n"
      ],
      "metadata": {
        "id": "IV_VOf2yT_PB"
      },
      "execution_count": null,
      "outputs": []
    },
    {
      "cell_type": "code",
      "source": [
        "class LogisticRegressionWithThreshold(LogisticRegression):\n",
        "    def predict(self, X, threshold=None):\n",
        "        if threshold == None: # If no threshold passed in, simply call the base class predict, effectively threshold=0.5\n",
        "            return LogisticRegression.predict(self, X)\n",
        "        else:\n",
        "            y_scores = LogisticRegression.predict_proba(self, X)[:, 1]\n",
        "            y_pred_with_threshold = (y_scores >= threshold).astype(int)\n",
        "\n",
        "            return y_pred_with_threshold\n",
        "    \n",
        "    def threshold_from_optimal_f_score(self, X, y):\n",
        "        y_scores = LogisticRegression.predict_proba(self, X)[:, 1]\n",
        "        precisions, recalls, thresholds = precision_recall_curve(y, y_scores)\n",
        "\n",
        "        fscores = (2 * precisions * recalls) / (precisions + recalls)\n",
        "        \n",
        "        optimal_idx = np.argmax(fscores)\n",
        "        \n",
        "        return thresholds[optimal_idx], fscores[optimal_idx]"
      ],
      "metadata": {
        "id": "63QEZzAnXQdo"
      },
      "execution_count": null,
      "outputs": []
    },
    {
      "cell_type": "code",
      "source": [
        "lrt = LogisticRegressionWithThreshold()\n",
        "lrt.fit(x_train, y_train)\n",
        "\n",
        "threshold, optimal_f1_score = lrt.threshold_from_optimal_f_score(x_train, y_train)\n",
        "y_pred = lrt.predict(x_train, threshold)\n",
        "\n",
        "print('punto de corte optimo', threshold)\n",
        "print('F score optimo', optimal_f1_score)\n"
      ],
      "metadata": {
        "colab": {
          "base_uri": "https://localhost:8080/"
        },
        "id": "ixkKGoZSWPsA",
        "outputId": "fcb1c32a-4dd9-4be2-d663-27f9a9377eb6"
      },
      "execution_count": null,
      "outputs": [
        {
          "output_type": "stream",
          "name": "stdout",
          "text": [
            "punto de corte optimo 0.4922523791866824\n",
            "F score optimo 0.9724835537950061\n"
          ]
        }
      ]
    },
    {
      "cell_type": "markdown",
      "source": [
        "* El punto de corte optimo seria de 0.49"
      ],
      "metadata": {
        "id": "hZeHyzDSXq1Y"
      }
    },
    {
      "cell_type": "code",
      "source": [],
      "metadata": {
        "id": "MHavkiWWXp3I"
      },
      "execution_count": null,
      "outputs": []
    },
    {
      "cell_type": "code",
      "source": [],
      "metadata": {
        "id": "gj0OoC6Cn_QE"
      },
      "execution_count": null,
      "outputs": []
    }
  ]
}