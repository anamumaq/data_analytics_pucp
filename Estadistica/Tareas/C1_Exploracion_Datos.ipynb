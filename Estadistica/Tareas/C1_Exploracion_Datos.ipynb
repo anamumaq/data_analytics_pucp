{
  "nbformat": 4,
  "nbformat_minor": 0,
  "metadata": {
    "colab": {
      "provenance": []
    },
    "kernelspec": {
      "name": "python3",
      "display_name": "Python 3"
    },
    "language_info": {
      "name": "python"
    }
  },
  "cells": [
    {
      "cell_type": "markdown",
      "source": [
        "<img src=\"https://www.python.org/static/img/python-logo.png\" width=\"300\" alt=\"Python logo\"  />\n",
        "<font color='blue'>\n",
        "$\\Large\\text{Pontificia Universidad Católica del Perú}$</font>"
      ],
      "metadata": {
        "id": "asFiW1FPxdid"
      }
    },
    {
      "cell_type": "markdown",
      "source": [
        "$$\\Large \\textit{Estadística Aplicada}$$\n",
        "\n",
        "$$\\large\\textbf{Exploración y Comprensión de Datos}$$\n",
        "\n",
        "_Autores:_\n",
        "\n",
        "*   Gustavo Mallqui\n",
        "*   Wilder Cruz\n",
        "\n",
        "___"
      ],
      "metadata": {
        "id": "lPfUyzulvj_S"
      }
    },
    {
      "cell_type": "markdown",
      "source": [
        "# Actividad 1"
      ],
      "metadata": {
        "id": "MgD8-Ki_dqld"
      }
    },
    {
      "cell_type": "markdown",
      "source": [
        "### **Lectura de una base de datos**\n"
      ],
      "metadata": {
        "id": "M3wJDaCryGsV"
      }
    },
    {
      "cell_type": "code",
      "source": [
        "from google.colab import files\n",
        "uploaded = files.upload()"
      ],
      "metadata": {
        "colab": {
          "base_uri": "https://localhost:8080/",
          "height": 74
        },
        "id": "xJwQXyMJyCFi",
        "outputId": "e12a01d5-c7a1-4436-96df-632e420c362f"
      },
      "execution_count": null,
      "outputs": [
        {
          "output_type": "display_data",
          "data": {
            "text/plain": [
              "<IPython.core.display.HTML object>"
            ],
            "text/html": [
              "\n",
              "     <input type=\"file\" id=\"files-4e3c02b1-3485-4203-afff-3639674e46a7\" name=\"files[]\" multiple disabled\n",
              "        style=\"border:none\" />\n",
              "     <output id=\"result-4e3c02b1-3485-4203-afff-3639674e46a7\">\n",
              "      Upload widget is only available when the cell has been executed in the\n",
              "      current browser session. Please rerun this cell to enable.\n",
              "      </output>\n",
              "      <script>// Copyright 2017 Google LLC\n",
              "//\n",
              "// Licensed under the Apache License, Version 2.0 (the \"License\");\n",
              "// you may not use this file except in compliance with the License.\n",
              "// You may obtain a copy of the License at\n",
              "//\n",
              "//      http://www.apache.org/licenses/LICENSE-2.0\n",
              "//\n",
              "// Unless required by applicable law or agreed to in writing, software\n",
              "// distributed under the License is distributed on an \"AS IS\" BASIS,\n",
              "// WITHOUT WARRANTIES OR CONDITIONS OF ANY KIND, either express or implied.\n",
              "// See the License for the specific language governing permissions and\n",
              "// limitations under the License.\n",
              "\n",
              "/**\n",
              " * @fileoverview Helpers for google.colab Python module.\n",
              " */\n",
              "(function(scope) {\n",
              "function span(text, styleAttributes = {}) {\n",
              "  const element = document.createElement('span');\n",
              "  element.textContent = text;\n",
              "  for (const key of Object.keys(styleAttributes)) {\n",
              "    element.style[key] = styleAttributes[key];\n",
              "  }\n",
              "  return element;\n",
              "}\n",
              "\n",
              "// Max number of bytes which will be uploaded at a time.\n",
              "const MAX_PAYLOAD_SIZE = 100 * 1024;\n",
              "\n",
              "function _uploadFiles(inputId, outputId) {\n",
              "  const steps = uploadFilesStep(inputId, outputId);\n",
              "  const outputElement = document.getElementById(outputId);\n",
              "  // Cache steps on the outputElement to make it available for the next call\n",
              "  // to uploadFilesContinue from Python.\n",
              "  outputElement.steps = steps;\n",
              "\n",
              "  return _uploadFilesContinue(outputId);\n",
              "}\n",
              "\n",
              "// This is roughly an async generator (not supported in the browser yet),\n",
              "// where there are multiple asynchronous steps and the Python side is going\n",
              "// to poll for completion of each step.\n",
              "// This uses a Promise to block the python side on completion of each step,\n",
              "// then passes the result of the previous step as the input to the next step.\n",
              "function _uploadFilesContinue(outputId) {\n",
              "  const outputElement = document.getElementById(outputId);\n",
              "  const steps = outputElement.steps;\n",
              "\n",
              "  const next = steps.next(outputElement.lastPromiseValue);\n",
              "  return Promise.resolve(next.value.promise).then((value) => {\n",
              "    // Cache the last promise value to make it available to the next\n",
              "    // step of the generator.\n",
              "    outputElement.lastPromiseValue = value;\n",
              "    return next.value.response;\n",
              "  });\n",
              "}\n",
              "\n",
              "/**\n",
              " * Generator function which is called between each async step of the upload\n",
              " * process.\n",
              " * @param {string} inputId Element ID of the input file picker element.\n",
              " * @param {string} outputId Element ID of the output display.\n",
              " * @return {!Iterable<!Object>} Iterable of next steps.\n",
              " */\n",
              "function* uploadFilesStep(inputId, outputId) {\n",
              "  const inputElement = document.getElementById(inputId);\n",
              "  inputElement.disabled = false;\n",
              "\n",
              "  const outputElement = document.getElementById(outputId);\n",
              "  outputElement.innerHTML = '';\n",
              "\n",
              "  const pickedPromise = new Promise((resolve) => {\n",
              "    inputElement.addEventListener('change', (e) => {\n",
              "      resolve(e.target.files);\n",
              "    });\n",
              "  });\n",
              "\n",
              "  const cancel = document.createElement('button');\n",
              "  inputElement.parentElement.appendChild(cancel);\n",
              "  cancel.textContent = 'Cancel upload';\n",
              "  const cancelPromise = new Promise((resolve) => {\n",
              "    cancel.onclick = () => {\n",
              "      resolve(null);\n",
              "    };\n",
              "  });\n",
              "\n",
              "  // Wait for the user to pick the files.\n",
              "  const files = yield {\n",
              "    promise: Promise.race([pickedPromise, cancelPromise]),\n",
              "    response: {\n",
              "      action: 'starting',\n",
              "    }\n",
              "  };\n",
              "\n",
              "  cancel.remove();\n",
              "\n",
              "  // Disable the input element since further picks are not allowed.\n",
              "  inputElement.disabled = true;\n",
              "\n",
              "  if (!files) {\n",
              "    return {\n",
              "      response: {\n",
              "        action: 'complete',\n",
              "      }\n",
              "    };\n",
              "  }\n",
              "\n",
              "  for (const file of files) {\n",
              "    const li = document.createElement('li');\n",
              "    li.append(span(file.name, {fontWeight: 'bold'}));\n",
              "    li.append(span(\n",
              "        `(${file.type || 'n/a'}) - ${file.size} bytes, ` +\n",
              "        `last modified: ${\n",
              "            file.lastModifiedDate ? file.lastModifiedDate.toLocaleDateString() :\n",
              "                                    'n/a'} - `));\n",
              "    const percent = span('0% done');\n",
              "    li.appendChild(percent);\n",
              "\n",
              "    outputElement.appendChild(li);\n",
              "\n",
              "    const fileDataPromise = new Promise((resolve) => {\n",
              "      const reader = new FileReader();\n",
              "      reader.onload = (e) => {\n",
              "        resolve(e.target.result);\n",
              "      };\n",
              "      reader.readAsArrayBuffer(file);\n",
              "    });\n",
              "    // Wait for the data to be ready.\n",
              "    let fileData = yield {\n",
              "      promise: fileDataPromise,\n",
              "      response: {\n",
              "        action: 'continue',\n",
              "      }\n",
              "    };\n",
              "\n",
              "    // Use a chunked sending to avoid message size limits. See b/62115660.\n",
              "    let position = 0;\n",
              "    do {\n",
              "      const length = Math.min(fileData.byteLength - position, MAX_PAYLOAD_SIZE);\n",
              "      const chunk = new Uint8Array(fileData, position, length);\n",
              "      position += length;\n",
              "\n",
              "      const base64 = btoa(String.fromCharCode.apply(null, chunk));\n",
              "      yield {\n",
              "        response: {\n",
              "          action: 'append',\n",
              "          file: file.name,\n",
              "          data: base64,\n",
              "        },\n",
              "      };\n",
              "\n",
              "      let percentDone = fileData.byteLength === 0 ?\n",
              "          100 :\n",
              "          Math.round((position / fileData.byteLength) * 100);\n",
              "      percent.textContent = `${percentDone}% done`;\n",
              "\n",
              "    } while (position < fileData.byteLength);\n",
              "  }\n",
              "\n",
              "  // All done.\n",
              "  yield {\n",
              "    response: {\n",
              "      action: 'complete',\n",
              "    }\n",
              "  };\n",
              "}\n",
              "\n",
              "scope.google = scope.google || {};\n",
              "scope.google.colab = scope.google.colab || {};\n",
              "scope.google.colab._files = {\n",
              "  _uploadFiles,\n",
              "  _uploadFilesContinue,\n",
              "};\n",
              "})(self);\n",
              "</script> "
            ]
          },
          "metadata": {}
        },
        {
          "output_type": "stream",
          "name": "stdout",
          "text": [
            "Saving morosidad_train_test.csv to morosidad_train_test.csv\n"
          ]
        }
      ]
    },
    {
      "cell_type": "code",
      "source": [
        "import pandas as pd\n",
        "\n",
        "df = pd.read_csv('/content/morosidad_train_test.csv')\n",
        "df.head(4)"
      ],
      "metadata": {
        "colab": {
          "base_uri": "https://localhost:8080/",
          "height": 239
        },
        "id": "BTyLmUy0ybZd",
        "outputId": "a36e300c-b854-42d9-9907-8b611b2e7f5c"
      },
      "execution_count": null,
      "outputs": [
        {
          "output_type": "execute_result",
          "data": {
            "text/plain": [
              "          idPrestamo  target monthly_debt_capacity  \\\n",
              "0  LIBDISP9832897855       1                252.39   \n",
              "1  LIBDISP9021501745       1                244.57   \n",
              "2  LIBDISP4057314971       0                 491.5   \n",
              "3  LIBDISP8375185888       0                848.65   \n",
              "\n",
              "   var_employment_time_in_months approved_amount  approved_term  \\\n",
              "0                            9.0           1,200              6   \n",
              "1                           50.0           2,200             12   \n",
              "2                           64.0           1,000              3   \n",
              "3                           77.0           1,500              6   \n",
              "\n",
              "  approved_interest_amount  var_net_income person_gender  \\\n",
              "0                   289.11     1140.125000          MALE   \n",
              "1                   696.15     1061.375000        FEMALE   \n",
              "2                    84.99     2082.196667        FEMALE   \n",
              "3                   221.53     3422.423333          MALE   \n",
              "\n",
              "  credit_history_marital_status var_max_sbs_qual_12m person_degree_type_desc  \\\n",
              "0                             C               NORMAL              Secundaria   \n",
              "1                             S               NORMAL              Secundaria   \n",
              "2                             S               NORMAL              Secundaria   \n",
              "3                             S               NORMAL           Universitaria   \n",
              "\n",
              "   default_request_term  default_request_amount  \n",
              "0                     1                       0  \n",
              "1                     0                       0  \n",
              "2                     0                       0  \n",
              "3                     0                       0  "
            ],
            "text/html": [
              "\n",
              "  <div id=\"df-bc5a35d5-2aca-4b1b-abf9-361d02708cb6\">\n",
              "    <div class=\"colab-df-container\">\n",
              "      <div>\n",
              "<style scoped>\n",
              "    .dataframe tbody tr th:only-of-type {\n",
              "        vertical-align: middle;\n",
              "    }\n",
              "\n",
              "    .dataframe tbody tr th {\n",
              "        vertical-align: top;\n",
              "    }\n",
              "\n",
              "    .dataframe thead th {\n",
              "        text-align: right;\n",
              "    }\n",
              "</style>\n",
              "<table border=\"1\" class=\"dataframe\">\n",
              "  <thead>\n",
              "    <tr style=\"text-align: right;\">\n",
              "      <th></th>\n",
              "      <th>idPrestamo</th>\n",
              "      <th>target</th>\n",
              "      <th>monthly_debt_capacity</th>\n",
              "      <th>var_employment_time_in_months</th>\n",
              "      <th>approved_amount</th>\n",
              "      <th>approved_term</th>\n",
              "      <th>approved_interest_amount</th>\n",
              "      <th>var_net_income</th>\n",
              "      <th>person_gender</th>\n",
              "      <th>credit_history_marital_status</th>\n",
              "      <th>var_max_sbs_qual_12m</th>\n",
              "      <th>person_degree_type_desc</th>\n",
              "      <th>default_request_term</th>\n",
              "      <th>default_request_amount</th>\n",
              "    </tr>\n",
              "  </thead>\n",
              "  <tbody>\n",
              "    <tr>\n",
              "      <th>0</th>\n",
              "      <td>LIBDISP9832897855</td>\n",
              "      <td>1</td>\n",
              "      <td>252.39</td>\n",
              "      <td>9.0</td>\n",
              "      <td>1,200</td>\n",
              "      <td>6</td>\n",
              "      <td>289.11</td>\n",
              "      <td>1140.125000</td>\n",
              "      <td>MALE</td>\n",
              "      <td>C</td>\n",
              "      <td>NORMAL</td>\n",
              "      <td>Secundaria</td>\n",
              "      <td>1</td>\n",
              "      <td>0</td>\n",
              "    </tr>\n",
              "    <tr>\n",
              "      <th>1</th>\n",
              "      <td>LIBDISP9021501745</td>\n",
              "      <td>1</td>\n",
              "      <td>244.57</td>\n",
              "      <td>50.0</td>\n",
              "      <td>2,200</td>\n",
              "      <td>12</td>\n",
              "      <td>696.15</td>\n",
              "      <td>1061.375000</td>\n",
              "      <td>FEMALE</td>\n",
              "      <td>S</td>\n",
              "      <td>NORMAL</td>\n",
              "      <td>Secundaria</td>\n",
              "      <td>0</td>\n",
              "      <td>0</td>\n",
              "    </tr>\n",
              "    <tr>\n",
              "      <th>2</th>\n",
              "      <td>LIBDISP4057314971</td>\n",
              "      <td>0</td>\n",
              "      <td>491.5</td>\n",
              "      <td>64.0</td>\n",
              "      <td>1,000</td>\n",
              "      <td>3</td>\n",
              "      <td>84.99</td>\n",
              "      <td>2082.196667</td>\n",
              "      <td>FEMALE</td>\n",
              "      <td>S</td>\n",
              "      <td>NORMAL</td>\n",
              "      <td>Secundaria</td>\n",
              "      <td>0</td>\n",
              "      <td>0</td>\n",
              "    </tr>\n",
              "    <tr>\n",
              "      <th>3</th>\n",
              "      <td>LIBDISP8375185888</td>\n",
              "      <td>0</td>\n",
              "      <td>848.65</td>\n",
              "      <td>77.0</td>\n",
              "      <td>1,500</td>\n",
              "      <td>6</td>\n",
              "      <td>221.53</td>\n",
              "      <td>3422.423333</td>\n",
              "      <td>MALE</td>\n",
              "      <td>S</td>\n",
              "      <td>NORMAL</td>\n",
              "      <td>Universitaria</td>\n",
              "      <td>0</td>\n",
              "      <td>0</td>\n",
              "    </tr>\n",
              "  </tbody>\n",
              "</table>\n",
              "</div>\n",
              "      <button class=\"colab-df-convert\" onclick=\"convertToInteractive('df-bc5a35d5-2aca-4b1b-abf9-361d02708cb6')\"\n",
              "              title=\"Convert this dataframe to an interactive table.\"\n",
              "              style=\"display:none;\">\n",
              "        \n",
              "  <svg xmlns=\"http://www.w3.org/2000/svg\" height=\"24px\"viewBox=\"0 0 24 24\"\n",
              "       width=\"24px\">\n",
              "    <path d=\"M0 0h24v24H0V0z\" fill=\"none\"/>\n",
              "    <path d=\"M18.56 5.44l.94 2.06.94-2.06 2.06-.94-2.06-.94-.94-2.06-.94 2.06-2.06.94zm-11 1L8.5 8.5l.94-2.06 2.06-.94-2.06-.94L8.5 2.5l-.94 2.06-2.06.94zm10 10l.94 2.06.94-2.06 2.06-.94-2.06-.94-.94-2.06-.94 2.06-2.06.94z\"/><path d=\"M17.41 7.96l-1.37-1.37c-.4-.4-.92-.59-1.43-.59-.52 0-1.04.2-1.43.59L10.3 9.45l-7.72 7.72c-.78.78-.78 2.05 0 2.83L4 21.41c.39.39.9.59 1.41.59.51 0 1.02-.2 1.41-.59l7.78-7.78 2.81-2.81c.8-.78.8-2.07 0-2.86zM5.41 20L4 18.59l7.72-7.72 1.47 1.35L5.41 20z\"/>\n",
              "  </svg>\n",
              "      </button>\n",
              "      \n",
              "  <style>\n",
              "    .colab-df-container {\n",
              "      display:flex;\n",
              "      flex-wrap:wrap;\n",
              "      gap: 12px;\n",
              "    }\n",
              "\n",
              "    .colab-df-convert {\n",
              "      background-color: #E8F0FE;\n",
              "      border: none;\n",
              "      border-radius: 50%;\n",
              "      cursor: pointer;\n",
              "      display: none;\n",
              "      fill: #1967D2;\n",
              "      height: 32px;\n",
              "      padding: 0 0 0 0;\n",
              "      width: 32px;\n",
              "    }\n",
              "\n",
              "    .colab-df-convert:hover {\n",
              "      background-color: #E2EBFA;\n",
              "      box-shadow: 0px 1px 2px rgba(60, 64, 67, 0.3), 0px 1px 3px 1px rgba(60, 64, 67, 0.15);\n",
              "      fill: #174EA6;\n",
              "    }\n",
              "\n",
              "    [theme=dark] .colab-df-convert {\n",
              "      background-color: #3B4455;\n",
              "      fill: #D2E3FC;\n",
              "    }\n",
              "\n",
              "    [theme=dark] .colab-df-convert:hover {\n",
              "      background-color: #434B5C;\n",
              "      box-shadow: 0px 1px 3px 1px rgba(0, 0, 0, 0.15);\n",
              "      filter: drop-shadow(0px 1px 2px rgba(0, 0, 0, 0.3));\n",
              "      fill: #FFFFFF;\n",
              "    }\n",
              "  </style>\n",
              "\n",
              "      <script>\n",
              "        const buttonEl =\n",
              "          document.querySelector('#df-bc5a35d5-2aca-4b1b-abf9-361d02708cb6 button.colab-df-convert');\n",
              "        buttonEl.style.display =\n",
              "          google.colab.kernel.accessAllowed ? 'block' : 'none';\n",
              "\n",
              "        async function convertToInteractive(key) {\n",
              "          const element = document.querySelector('#df-bc5a35d5-2aca-4b1b-abf9-361d02708cb6');\n",
              "          const dataTable =\n",
              "            await google.colab.kernel.invokeFunction('convertToInteractive',\n",
              "                                                     [key], {});\n",
              "          if (!dataTable) return;\n",
              "\n",
              "          const docLinkHtml = 'Like what you see? Visit the ' +\n",
              "            '<a target=\"_blank\" href=https://colab.research.google.com/notebooks/data_table.ipynb>data table notebook</a>'\n",
              "            + ' to learn more about interactive tables.';\n",
              "          element.innerHTML = '';\n",
              "          dataTable['output_type'] = 'display_data';\n",
              "          await google.colab.output.renderOutput(dataTable, element);\n",
              "          const docLink = document.createElement('div');\n",
              "          docLink.innerHTML = docLinkHtml;\n",
              "          element.appendChild(docLink);\n",
              "        }\n",
              "      </script>\n",
              "    </div>\n",
              "  </div>\n",
              "  "
            ]
          },
          "metadata": {},
          "execution_count": 3
        }
      ]
    },
    {
      "cell_type": "markdown",
      "source": [
        "**Notas:**\n",
        "\n",
        "*   La lectura de los datos dependerá del tipo de archivo donde estén almacenados tus datos y de donde estén almacenados.\n",
        "\n"
      ],
      "metadata": {
        "id": "zMCgZw7x1bO4"
      }
    },
    {
      "cell_type": "markdown",
      "source": [
        "Otras formas de coneccion a una base de datos en SQL:"
      ],
      "metadata": {
        "id": "q-ju_2d11wXh"
      }
    },
    {
      "cell_type": "code",
      "source": [
        "## pip install pyodbc"
      ],
      "metadata": {
        "id": "h4Q7eDGg4cT6",
        "colab": {
          "base_uri": "https://localhost:8080/"
        },
        "outputId": "96634629-ed94-4f64-e0dc-0fe008e4ec40"
      },
      "execution_count": null,
      "outputs": [
        {
          "output_type": "stream",
          "name": "stdout",
          "text": [
            "Collecting pyodbc\n",
            "  Downloading pyodbc-4.0.32.tar.gz (280 kB)\n",
            "\u001b[?25l\r\u001b[K     |█▏                              | 10 kB 20.8 MB/s eta 0:00:01\r\u001b[K     |██▍                             | 20 kB 10.9 MB/s eta 0:00:01\r\u001b[K     |███▌                            | 30 kB 9.8 MB/s eta 0:00:01\r\u001b[K     |████▊                           | 40 kB 4.4 MB/s eta 0:00:01\r\u001b[K     |█████▉                          | 51 kB 4.5 MB/s eta 0:00:01\r\u001b[K     |███████                         | 61 kB 5.4 MB/s eta 0:00:01\r\u001b[K     |████████▏                       | 71 kB 5.4 MB/s eta 0:00:01\r\u001b[K     |█████████▍                      | 81 kB 5.5 MB/s eta 0:00:01\r\u001b[K     |██████████▌                     | 92 kB 6.1 MB/s eta 0:00:01\r\u001b[K     |███████████▊                    | 102 kB 5.1 MB/s eta 0:00:01\r\u001b[K     |████████████▉                   | 112 kB 5.1 MB/s eta 0:00:01\r\u001b[K     |██████████████                  | 122 kB 5.1 MB/s eta 0:00:01\r\u001b[K     |███████████████▏                | 133 kB 5.1 MB/s eta 0:00:01\r\u001b[K     |████████████████▍               | 143 kB 5.1 MB/s eta 0:00:01\r\u001b[K     |█████████████████▌              | 153 kB 5.1 MB/s eta 0:00:01\r\u001b[K     |██████████████████▊             | 163 kB 5.1 MB/s eta 0:00:01\r\u001b[K     |████████████████████            | 174 kB 5.1 MB/s eta 0:00:01\r\u001b[K     |█████████████████████           | 184 kB 5.1 MB/s eta 0:00:01\r\u001b[K     |██████████████████████▎         | 194 kB 5.1 MB/s eta 0:00:01\r\u001b[K     |███████████████████████▍        | 204 kB 5.1 MB/s eta 0:00:01\r\u001b[K     |████████████████████████▋       | 215 kB 5.1 MB/s eta 0:00:01\r\u001b[K     |█████████████████████████▊      | 225 kB 5.1 MB/s eta 0:00:01\r\u001b[K     |███████████████████████████     | 235 kB 5.1 MB/s eta 0:00:01\r\u001b[K     |████████████████████████████    | 245 kB 5.1 MB/s eta 0:00:01\r\u001b[K     |█████████████████████████████▎  | 256 kB 5.1 MB/s eta 0:00:01\r\u001b[K     |██████████████████████████████▍ | 266 kB 5.1 MB/s eta 0:00:01\r\u001b[K     |███████████████████████████████▋| 276 kB 5.1 MB/s eta 0:00:01\r\u001b[K     |████████████████████████████████| 280 kB 5.1 MB/s \n",
            "\u001b[?25hBuilding wheels for collected packages: pyodbc\n",
            "  Building wheel for pyodbc (setup.py) ... \u001b[?25l\u001b[?25hdone\n",
            "  Created wheel for pyodbc: filename=pyodbc-4.0.32-cp37-cp37m-linux_x86_64.whl size=287310 sha256=675a6f452ee98b12344e747da36b2b804a7514664f5a23fc40260a723c13fc2d\n",
            "  Stored in directory: /root/.cache/pip/wheels/2e/9c/da/8652fd42e0f662015554f00a9e96fe4f438dfd1ef59787879e\n",
            "Successfully built pyodbc\n",
            "Installing collected packages: pyodbc\n",
            "Successfully installed pyodbc-4.0.32\n"
          ]
        }
      ]
    },
    {
      "cell_type": "code",
      "source": [
        "# import pyodbc\n",
        "# import pandas as pd"
      ],
      "metadata": {
        "id": "ZuW2_Xrh1vrK"
      },
      "execution_count": null,
      "outputs": []
    },
    {
      "cell_type": "markdown",
      "source": [
        "En conexiones al SQL, se debe de tener los siguientes input:\n",
        "\n",
        "*   SERVER: Es el nombre del servidor donde se encuentra tu base de datos\n",
        "*   DATABASE: Es el nombre de tu base de datos\n",
        "*   Tabla: es una tabla con la información a analizar.\n",
        "*   Trusted_Connection: En el caso se conecte con autentificacion de windows, sino se debe de colocar el user y pass respectivo.\n",
        "\n",
        "\n"
      ],
      "metadata": {
        "id": "zWmrp3F52K0j"
      }
    },
    {
      "cell_type": "code",
      "source": [
        "query=\" select * from tabla\"\n",
        "sql_con = pyodbc.connect('driver={SQL Server};SERVER=XXXXX;Trusted_Connection=True;DATABASE=XXXX')\n",
        "base  = pd.read_sql(query, sql_con)"
      ],
      "metadata": {
        "id": "-o3d_RHD13GJ"
      },
      "execution_count": null,
      "outputs": []
    },
    {
      "cell_type": "markdown",
      "source": [
        "# Actividad 2"
      ],
      "metadata": {
        "id": "pyfOt08Kd2GA"
      }
    },
    {
      "cell_type": "markdown",
      "source": [
        "Importando librerias"
      ],
      "metadata": {
        "id": "4SK_KV0_fFfZ"
      }
    },
    {
      "cell_type": "code",
      "source": [
        "import matplotlib.pyplot as plt\n",
        "import seaborn as sns\n",
        "\n",
        "#visualizacion dataframe\n",
        "pd.options.display.max_rows=500 #dar un maximo de columna t fias (para que no aprezca puntito)\n",
        "pd.options.display.max_columns=500"
      ],
      "metadata": {
        "id": "g8DLd1sdd8-_"
      },
      "execution_count": null,
      "outputs": []
    },
    {
      "cell_type": "code",
      "source": [
        "df.head(3)"
      ],
      "metadata": {
        "colab": {
          "base_uri": "https://localhost:8080/",
          "height": 207
        },
        "id": "xJloS0fIgkzI",
        "outputId": "df147be1-98fe-4cc8-a4dc-878fafe191b8"
      },
      "execution_count": null,
      "outputs": [
        {
          "output_type": "execute_result",
          "data": {
            "text/plain": [
              "          idPrestamo  target monthly_debt_capacity  \\\n",
              "0  LIBDISP9832897855       1                252.39   \n",
              "1  LIBDISP9021501745       1                244.57   \n",
              "2  LIBDISP4057314971       0                 491.5   \n",
              "\n",
              "   var_employment_time_in_months approved_amount  approved_term  \\\n",
              "0                            9.0           1,200              6   \n",
              "1                           50.0           2,200             12   \n",
              "2                           64.0           1,000              3   \n",
              "\n",
              "  approved_interest_amount  var_net_income person_gender  \\\n",
              "0                   289.11     1140.125000          MALE   \n",
              "1                   696.15     1061.375000        FEMALE   \n",
              "2                    84.99     2082.196667        FEMALE   \n",
              "\n",
              "  credit_history_marital_status var_max_sbs_qual_12m person_degree_type_desc  \\\n",
              "0                             C               NORMAL              Secundaria   \n",
              "1                             S               NORMAL              Secundaria   \n",
              "2                             S               NORMAL              Secundaria   \n",
              "\n",
              "   default_request_term  default_request_amount  \n",
              "0                     1                       0  \n",
              "1                     0                       0  \n",
              "2                     0                       0  "
            ],
            "text/html": [
              "\n",
              "  <div id=\"df-41fb6524-fd31-4329-8401-beb65aa1d8d9\">\n",
              "    <div class=\"colab-df-container\">\n",
              "      <div>\n",
              "<style scoped>\n",
              "    .dataframe tbody tr th:only-of-type {\n",
              "        vertical-align: middle;\n",
              "    }\n",
              "\n",
              "    .dataframe tbody tr th {\n",
              "        vertical-align: top;\n",
              "    }\n",
              "\n",
              "    .dataframe thead th {\n",
              "        text-align: right;\n",
              "    }\n",
              "</style>\n",
              "<table border=\"1\" class=\"dataframe\">\n",
              "  <thead>\n",
              "    <tr style=\"text-align: right;\">\n",
              "      <th></th>\n",
              "      <th>idPrestamo</th>\n",
              "      <th>target</th>\n",
              "      <th>monthly_debt_capacity</th>\n",
              "      <th>var_employment_time_in_months</th>\n",
              "      <th>approved_amount</th>\n",
              "      <th>approved_term</th>\n",
              "      <th>approved_interest_amount</th>\n",
              "      <th>var_net_income</th>\n",
              "      <th>person_gender</th>\n",
              "      <th>credit_history_marital_status</th>\n",
              "      <th>var_max_sbs_qual_12m</th>\n",
              "      <th>person_degree_type_desc</th>\n",
              "      <th>default_request_term</th>\n",
              "      <th>default_request_amount</th>\n",
              "    </tr>\n",
              "  </thead>\n",
              "  <tbody>\n",
              "    <tr>\n",
              "      <th>0</th>\n",
              "      <td>LIBDISP9832897855</td>\n",
              "      <td>1</td>\n",
              "      <td>252.39</td>\n",
              "      <td>9.0</td>\n",
              "      <td>1,200</td>\n",
              "      <td>6</td>\n",
              "      <td>289.11</td>\n",
              "      <td>1140.125000</td>\n",
              "      <td>MALE</td>\n",
              "      <td>C</td>\n",
              "      <td>NORMAL</td>\n",
              "      <td>Secundaria</td>\n",
              "      <td>1</td>\n",
              "      <td>0</td>\n",
              "    </tr>\n",
              "    <tr>\n",
              "      <th>1</th>\n",
              "      <td>LIBDISP9021501745</td>\n",
              "      <td>1</td>\n",
              "      <td>244.57</td>\n",
              "      <td>50.0</td>\n",
              "      <td>2,200</td>\n",
              "      <td>12</td>\n",
              "      <td>696.15</td>\n",
              "      <td>1061.375000</td>\n",
              "      <td>FEMALE</td>\n",
              "      <td>S</td>\n",
              "      <td>NORMAL</td>\n",
              "      <td>Secundaria</td>\n",
              "      <td>0</td>\n",
              "      <td>0</td>\n",
              "    </tr>\n",
              "    <tr>\n",
              "      <th>2</th>\n",
              "      <td>LIBDISP4057314971</td>\n",
              "      <td>0</td>\n",
              "      <td>491.5</td>\n",
              "      <td>64.0</td>\n",
              "      <td>1,000</td>\n",
              "      <td>3</td>\n",
              "      <td>84.99</td>\n",
              "      <td>2082.196667</td>\n",
              "      <td>FEMALE</td>\n",
              "      <td>S</td>\n",
              "      <td>NORMAL</td>\n",
              "      <td>Secundaria</td>\n",
              "      <td>0</td>\n",
              "      <td>0</td>\n",
              "    </tr>\n",
              "  </tbody>\n",
              "</table>\n",
              "</div>\n",
              "      <button class=\"colab-df-convert\" onclick=\"convertToInteractive('df-41fb6524-fd31-4329-8401-beb65aa1d8d9')\"\n",
              "              title=\"Convert this dataframe to an interactive table.\"\n",
              "              style=\"display:none;\">\n",
              "        \n",
              "  <svg xmlns=\"http://www.w3.org/2000/svg\" height=\"24px\"viewBox=\"0 0 24 24\"\n",
              "       width=\"24px\">\n",
              "    <path d=\"M0 0h24v24H0V0z\" fill=\"none\"/>\n",
              "    <path d=\"M18.56 5.44l.94 2.06.94-2.06 2.06-.94-2.06-.94-.94-2.06-.94 2.06-2.06.94zm-11 1L8.5 8.5l.94-2.06 2.06-.94-2.06-.94L8.5 2.5l-.94 2.06-2.06.94zm10 10l.94 2.06.94-2.06 2.06-.94-2.06-.94-.94-2.06-.94 2.06-2.06.94z\"/><path d=\"M17.41 7.96l-1.37-1.37c-.4-.4-.92-.59-1.43-.59-.52 0-1.04.2-1.43.59L10.3 9.45l-7.72 7.72c-.78.78-.78 2.05 0 2.83L4 21.41c.39.39.9.59 1.41.59.51 0 1.02-.2 1.41-.59l7.78-7.78 2.81-2.81c.8-.78.8-2.07 0-2.86zM5.41 20L4 18.59l7.72-7.72 1.47 1.35L5.41 20z\"/>\n",
              "  </svg>\n",
              "      </button>\n",
              "      \n",
              "  <style>\n",
              "    .colab-df-container {\n",
              "      display:flex;\n",
              "      flex-wrap:wrap;\n",
              "      gap: 12px;\n",
              "    }\n",
              "\n",
              "    .colab-df-convert {\n",
              "      background-color: #E8F0FE;\n",
              "      border: none;\n",
              "      border-radius: 50%;\n",
              "      cursor: pointer;\n",
              "      display: none;\n",
              "      fill: #1967D2;\n",
              "      height: 32px;\n",
              "      padding: 0 0 0 0;\n",
              "      width: 32px;\n",
              "    }\n",
              "\n",
              "    .colab-df-convert:hover {\n",
              "      background-color: #E2EBFA;\n",
              "      box-shadow: 0px 1px 2px rgba(60, 64, 67, 0.3), 0px 1px 3px 1px rgba(60, 64, 67, 0.15);\n",
              "      fill: #174EA6;\n",
              "    }\n",
              "\n",
              "    [theme=dark] .colab-df-convert {\n",
              "      background-color: #3B4455;\n",
              "      fill: #D2E3FC;\n",
              "    }\n",
              "\n",
              "    [theme=dark] .colab-df-convert:hover {\n",
              "      background-color: #434B5C;\n",
              "      box-shadow: 0px 1px 3px 1px rgba(0, 0, 0, 0.15);\n",
              "      filter: drop-shadow(0px 1px 2px rgba(0, 0, 0, 0.3));\n",
              "      fill: #FFFFFF;\n",
              "    }\n",
              "  </style>\n",
              "\n",
              "      <script>\n",
              "        const buttonEl =\n",
              "          document.querySelector('#df-41fb6524-fd31-4329-8401-beb65aa1d8d9 button.colab-df-convert');\n",
              "        buttonEl.style.display =\n",
              "          google.colab.kernel.accessAllowed ? 'block' : 'none';\n",
              "\n",
              "        async function convertToInteractive(key) {\n",
              "          const element = document.querySelector('#df-41fb6524-fd31-4329-8401-beb65aa1d8d9');\n",
              "          const dataTable =\n",
              "            await google.colab.kernel.invokeFunction('convertToInteractive',\n",
              "                                                     [key], {});\n",
              "          if (!dataTable) return;\n",
              "\n",
              "          const docLinkHtml = 'Like what you see? Visit the ' +\n",
              "            '<a target=\"_blank\" href=https://colab.research.google.com/notebooks/data_table.ipynb>data table notebook</a>'\n",
              "            + ' to learn more about interactive tables.';\n",
              "          element.innerHTML = '';\n",
              "          dataTable['output_type'] = 'display_data';\n",
              "          await google.colab.output.renderOutput(dataTable, element);\n",
              "          const docLink = document.createElement('div');\n",
              "          docLink.innerHTML = docLinkHtml;\n",
              "          element.appendChild(docLink);\n",
              "        }\n",
              "      </script>\n",
              "    </div>\n",
              "  </div>\n",
              "  "
            ]
          },
          "metadata": {},
          "execution_count": 5
        }
      ]
    },
    {
      "cell_type": "markdown",
      "source": [
        "Inspeccionando la estructura del dataframe"
      ],
      "metadata": {
        "id": "bMhYLLt77XX7"
      }
    },
    {
      "cell_type": "code",
      "source": [
        "df.info()"
      ],
      "metadata": {
        "colab": {
          "base_uri": "https://localhost:8080/"
        },
        "id": "7vyRhlx6-BtX",
        "outputId": "381d42ee-72b4-4f91-a5bb-9bedffaa60df"
      },
      "execution_count": null,
      "outputs": [
        {
          "output_type": "stream",
          "name": "stdout",
          "text": [
            "<class 'pandas.core.frame.DataFrame'>\n",
            "RangeIndex: 1194 entries, 0 to 1193\n",
            "Data columns (total 14 columns):\n",
            " #   Column                         Non-Null Count  Dtype  \n",
            "---  ------                         --------------  -----  \n",
            " 0   idPrestamo                     1194 non-null   object \n",
            " 1   target                         1194 non-null   int64  \n",
            " 2   monthly_debt_capacity          1194 non-null   object \n",
            " 3   var_employment_time_in_months  1055 non-null   float64\n",
            " 4   approved_amount                1194 non-null   object \n",
            " 5   approved_term                  1194 non-null   int64  \n",
            " 6   approved_interest_amount       1194 non-null   object \n",
            " 7   var_net_income                 1194 non-null   float64\n",
            " 8   person_gender                  1194 non-null   object \n",
            " 9   credit_history_marital_status  1194 non-null   object \n",
            " 10  var_max_sbs_qual_12m           1194 non-null   object \n",
            " 11  person_degree_type_desc        1194 non-null   object \n",
            " 12  default_request_term           1194 non-null   int64  \n",
            " 13  default_request_amount         1194 non-null   int64  \n",
            "dtypes: float64(2), int64(4), object(8)\n",
            "memory usage: 130.7+ KB\n"
          ]
        }
      ]
    },
    {
      "cell_type": "markdown",
      "source": [
        "Extrayendo algunos descriptivos"
      ],
      "metadata": {
        "id": "adj84SCl7gnq"
      }
    },
    {
      "cell_type": "code",
      "source": [
        "df.describe().T # la T es la transpuesta"
      ],
      "metadata": {
        "colab": {
          "base_uri": "https://localhost:8080/",
          "height": 238
        },
        "id": "qZL-D0Eg6mmc",
        "outputId": "fd8095c6-d1d5-44d6-e687-ae9820dde291"
      },
      "execution_count": null,
      "outputs": [
        {
          "output_type": "execute_result",
          "data": {
            "text/plain": [
              "                                count         mean          std  min  \\\n",
              "target                         1194.0     0.294807     0.456147  0.0   \n",
              "var_employment_time_in_months  1055.0    34.236019    27.120370 -1.0   \n",
              "approved_term                  1194.0     6.481575     3.020757  1.0   \n",
              "var_net_income                 1194.0  2726.751860  1869.715874  0.0   \n",
              "default_request_term           1194.0     0.507538     0.500153  0.0   \n",
              "default_request_amount         1194.0     0.000000     0.000000  0.0   \n",
              "\n",
              "                                     25%          50%          75%      max  \n",
              "target                            0.0000     0.000000     1.000000      1.0  \n",
              "var_employment_time_in_months    11.0000    25.000000    62.000000     87.0  \n",
              "approved_term                     6.0000     6.000000     6.000000     12.0  \n",
              "var_net_income                 1780.0825  2385.176667  3087.641667  28587.0  \n",
              "default_request_term              0.0000     1.000000     1.000000      1.0  \n",
              "default_request_amount            0.0000     0.000000     0.000000      0.0  "
            ],
            "text/html": [
              "\n",
              "  <div id=\"df-ee8c3b3d-f632-4186-8db7-60d66b4ee566\">\n",
              "    <div class=\"colab-df-container\">\n",
              "      <div>\n",
              "<style scoped>\n",
              "    .dataframe tbody tr th:only-of-type {\n",
              "        vertical-align: middle;\n",
              "    }\n",
              "\n",
              "    .dataframe tbody tr th {\n",
              "        vertical-align: top;\n",
              "    }\n",
              "\n",
              "    .dataframe thead th {\n",
              "        text-align: right;\n",
              "    }\n",
              "</style>\n",
              "<table border=\"1\" class=\"dataframe\">\n",
              "  <thead>\n",
              "    <tr style=\"text-align: right;\">\n",
              "      <th></th>\n",
              "      <th>count</th>\n",
              "      <th>mean</th>\n",
              "      <th>std</th>\n",
              "      <th>min</th>\n",
              "      <th>25%</th>\n",
              "      <th>50%</th>\n",
              "      <th>75%</th>\n",
              "      <th>max</th>\n",
              "    </tr>\n",
              "  </thead>\n",
              "  <tbody>\n",
              "    <tr>\n",
              "      <th>target</th>\n",
              "      <td>1194.0</td>\n",
              "      <td>0.294807</td>\n",
              "      <td>0.456147</td>\n",
              "      <td>0.0</td>\n",
              "      <td>0.0000</td>\n",
              "      <td>0.000000</td>\n",
              "      <td>1.000000</td>\n",
              "      <td>1.0</td>\n",
              "    </tr>\n",
              "    <tr>\n",
              "      <th>var_employment_time_in_months</th>\n",
              "      <td>1055.0</td>\n",
              "      <td>34.236019</td>\n",
              "      <td>27.120370</td>\n",
              "      <td>-1.0</td>\n",
              "      <td>11.0000</td>\n",
              "      <td>25.000000</td>\n",
              "      <td>62.000000</td>\n",
              "      <td>87.0</td>\n",
              "    </tr>\n",
              "    <tr>\n",
              "      <th>approved_term</th>\n",
              "      <td>1194.0</td>\n",
              "      <td>6.481575</td>\n",
              "      <td>3.020757</td>\n",
              "      <td>1.0</td>\n",
              "      <td>6.0000</td>\n",
              "      <td>6.000000</td>\n",
              "      <td>6.000000</td>\n",
              "      <td>12.0</td>\n",
              "    </tr>\n",
              "    <tr>\n",
              "      <th>var_net_income</th>\n",
              "      <td>1194.0</td>\n",
              "      <td>2726.751860</td>\n",
              "      <td>1869.715874</td>\n",
              "      <td>0.0</td>\n",
              "      <td>1780.0825</td>\n",
              "      <td>2385.176667</td>\n",
              "      <td>3087.641667</td>\n",
              "      <td>28587.0</td>\n",
              "    </tr>\n",
              "    <tr>\n",
              "      <th>default_request_term</th>\n",
              "      <td>1194.0</td>\n",
              "      <td>0.507538</td>\n",
              "      <td>0.500153</td>\n",
              "      <td>0.0</td>\n",
              "      <td>0.0000</td>\n",
              "      <td>1.000000</td>\n",
              "      <td>1.000000</td>\n",
              "      <td>1.0</td>\n",
              "    </tr>\n",
              "    <tr>\n",
              "      <th>default_request_amount</th>\n",
              "      <td>1194.0</td>\n",
              "      <td>0.000000</td>\n",
              "      <td>0.000000</td>\n",
              "      <td>0.0</td>\n",
              "      <td>0.0000</td>\n",
              "      <td>0.000000</td>\n",
              "      <td>0.000000</td>\n",
              "      <td>0.0</td>\n",
              "    </tr>\n",
              "  </tbody>\n",
              "</table>\n",
              "</div>\n",
              "      <button class=\"colab-df-convert\" onclick=\"convertToInteractive('df-ee8c3b3d-f632-4186-8db7-60d66b4ee566')\"\n",
              "              title=\"Convert this dataframe to an interactive table.\"\n",
              "              style=\"display:none;\">\n",
              "        \n",
              "  <svg xmlns=\"http://www.w3.org/2000/svg\" height=\"24px\"viewBox=\"0 0 24 24\"\n",
              "       width=\"24px\">\n",
              "    <path d=\"M0 0h24v24H0V0z\" fill=\"none\"/>\n",
              "    <path d=\"M18.56 5.44l.94 2.06.94-2.06 2.06-.94-2.06-.94-.94-2.06-.94 2.06-2.06.94zm-11 1L8.5 8.5l.94-2.06 2.06-.94-2.06-.94L8.5 2.5l-.94 2.06-2.06.94zm10 10l.94 2.06.94-2.06 2.06-.94-2.06-.94-.94-2.06-.94 2.06-2.06.94z\"/><path d=\"M17.41 7.96l-1.37-1.37c-.4-.4-.92-.59-1.43-.59-.52 0-1.04.2-1.43.59L10.3 9.45l-7.72 7.72c-.78.78-.78 2.05 0 2.83L4 21.41c.39.39.9.59 1.41.59.51 0 1.02-.2 1.41-.59l7.78-7.78 2.81-2.81c.8-.78.8-2.07 0-2.86zM5.41 20L4 18.59l7.72-7.72 1.47 1.35L5.41 20z\"/>\n",
              "  </svg>\n",
              "      </button>\n",
              "      \n",
              "  <style>\n",
              "    .colab-df-container {\n",
              "      display:flex;\n",
              "      flex-wrap:wrap;\n",
              "      gap: 12px;\n",
              "    }\n",
              "\n",
              "    .colab-df-convert {\n",
              "      background-color: #E8F0FE;\n",
              "      border: none;\n",
              "      border-radius: 50%;\n",
              "      cursor: pointer;\n",
              "      display: none;\n",
              "      fill: #1967D2;\n",
              "      height: 32px;\n",
              "      padding: 0 0 0 0;\n",
              "      width: 32px;\n",
              "    }\n",
              "\n",
              "    .colab-df-convert:hover {\n",
              "      background-color: #E2EBFA;\n",
              "      box-shadow: 0px 1px 2px rgba(60, 64, 67, 0.3), 0px 1px 3px 1px rgba(60, 64, 67, 0.15);\n",
              "      fill: #174EA6;\n",
              "    }\n",
              "\n",
              "    [theme=dark] .colab-df-convert {\n",
              "      background-color: #3B4455;\n",
              "      fill: #D2E3FC;\n",
              "    }\n",
              "\n",
              "    [theme=dark] .colab-df-convert:hover {\n",
              "      background-color: #434B5C;\n",
              "      box-shadow: 0px 1px 3px 1px rgba(0, 0, 0, 0.15);\n",
              "      filter: drop-shadow(0px 1px 2px rgba(0, 0, 0, 0.3));\n",
              "      fill: #FFFFFF;\n",
              "    }\n",
              "  </style>\n",
              "\n",
              "      <script>\n",
              "        const buttonEl =\n",
              "          document.querySelector('#df-ee8c3b3d-f632-4186-8db7-60d66b4ee566 button.colab-df-convert');\n",
              "        buttonEl.style.display =\n",
              "          google.colab.kernel.accessAllowed ? 'block' : 'none';\n",
              "\n",
              "        async function convertToInteractive(key) {\n",
              "          const element = document.querySelector('#df-ee8c3b3d-f632-4186-8db7-60d66b4ee566');\n",
              "          const dataTable =\n",
              "            await google.colab.kernel.invokeFunction('convertToInteractive',\n",
              "                                                     [key], {});\n",
              "          if (!dataTable) return;\n",
              "\n",
              "          const docLinkHtml = 'Like what you see? Visit the ' +\n",
              "            '<a target=\"_blank\" href=https://colab.research.google.com/notebooks/data_table.ipynb>data table notebook</a>'\n",
              "            + ' to learn more about interactive tables.';\n",
              "          element.innerHTML = '';\n",
              "          dataTable['output_type'] = 'display_data';\n",
              "          await google.colab.output.renderOutput(dataTable, element);\n",
              "          const docLink = document.createElement('div');\n",
              "          docLink.innerHTML = docLinkHtml;\n",
              "          element.appendChild(docLink);\n",
              "        }\n",
              "      </script>\n",
              "    </div>\n",
              "  </div>\n",
              "  "
            ]
          },
          "metadata": {},
          "execution_count": 7
        }
      ]
    },
    {
      "cell_type": "markdown",
      "source": [
        "¿Porque el campo monthly_debt_capacity, no lo muestra?"
      ],
      "metadata": {
        "id": "MTaxO8Bl9FRi"
      }
    },
    {
      "cell_type": "code",
      "source": [
        "df['monthly_debt_capacity'].unique()"
      ],
      "metadata": {
        "colab": {
          "base_uri": "https://localhost:8080/"
        },
        "id": "Rww1xLrh7vUb",
        "outputId": "a596334f-75f9-4cde-dae6-b137c078549d"
      },
      "execution_count": null,
      "outputs": [
        {
          "output_type": "execute_result",
          "data": {
            "text/plain": [
              "array(['252.39', '244.57', '491.5', ..., '555.47', '508.82', '321.48'],\n",
              "      dtype=object)"
            ]
          },
          "metadata": {},
          "execution_count": 8
        }
      ]
    },
    {
      "cell_type": "code",
      "source": [
        "l=set(df['monthly_debt_capacity'].values)\n",
        "l"
      ],
      "metadata": {
        "id": "cEUj1P5W8t-D",
        "colab": {
          "base_uri": "https://localhost:8080/"
        },
        "outputId": "7b5c72d1-e62b-4ec7-bfa5-f72cafe127f6"
      },
      "execution_count": null,
      "outputs": [
        {
          "output_type": "execute_result",
          "data": {
            "text/plain": [
              "{'622.48',\n",
              " '284.01',\n",
              " '150.65',\n",
              " '456.4',\n",
              " '431.93',\n",
              " '622.59',\n",
              " '477.17',\n",
              " '1,046.79',\n",
              " '350.76',\n",
              " '330',\n",
              " '920.45',\n",
              " '710.72',\n",
              " '453.33',\n",
              " '389.81',\n",
              " '329.69',\n",
              " '501.55',\n",
              " '1,953.12',\n",
              " '715.08',\n",
              " '594.03',\n",
              " '721',\n",
              " '1,399.41',\n",
              " '632.18',\n",
              " '585.34',\n",
              " '148.04',\n",
              " '230.82',\n",
              " '1,852.79',\n",
              " '286.16',\n",
              " '186.65',\n",
              " '1,272.23',\n",
              " '1,226.21',\n",
              " '376.01',\n",
              " '783.42',\n",
              " '525.46',\n",
              " '550.45',\n",
              " '942.41',\n",
              " '279.32',\n",
              " '889.23',\n",
              " '582.41',\n",
              " '700.53',\n",
              " '916.34',\n",
              " '386.6',\n",
              " '860',\n",
              " '113.29',\n",
              " '219.33',\n",
              " '871.9',\n",
              " '629.51',\n",
              " '428.27',\n",
              " '291.74',\n",
              " '516.25',\n",
              " '313.69',\n",
              " '457.63',\n",
              " '506.91',\n",
              " '398.25',\n",
              " '685.63',\n",
              " '346.22',\n",
              " '369.64',\n",
              " '426.2',\n",
              " '217.17',\n",
              " '317.27',\n",
              " '2,119.04',\n",
              " '597.11',\n",
              " '588.78',\n",
              " '384.98',\n",
              " '358.98',\n",
              " '956.36',\n",
              " '253.51',\n",
              " '553.43',\n",
              " '304.02',\n",
              " '322.23',\n",
              " '244.37',\n",
              " '727.2',\n",
              " '342.97',\n",
              " '271.99',\n",
              " '544.69',\n",
              " '1,351.64',\n",
              " '594.06',\n",
              " '467.89',\n",
              " '1,148.38',\n",
              " '304.33',\n",
              " '318.84',\n",
              " '520',\n",
              " '1,207.59',\n",
              " '539.84',\n",
              " '223.24',\n",
              " '288.95',\n",
              " '430.13',\n",
              " '718.51',\n",
              " '306.93',\n",
              " '361.37',\n",
              " '601.43',\n",
              " '425.47',\n",
              " '348.04',\n",
              " '390.03',\n",
              " '538.52',\n",
              " '382.11',\n",
              " '371.42',\n",
              " '540.87',\n",
              " '736.4',\n",
              " '317.61',\n",
              " '697.01',\n",
              " '370.24',\n",
              " '438.89',\n",
              " '503.52',\n",
              " '149.82',\n",
              " '1,021.94',\n",
              " '448.05',\n",
              " '725.24',\n",
              " '306.19',\n",
              " '1,443.38',\n",
              " '213.51',\n",
              " '384.56',\n",
              " '381.47',\n",
              " '780.77',\n",
              " '204.83',\n",
              " '876.08',\n",
              " '513.41',\n",
              " '521.15',\n",
              " '227.51',\n",
              " '449.81',\n",
              " '393.01',\n",
              " '518.88',\n",
              " '518.45',\n",
              " '582.11',\n",
              " '853',\n",
              " '513.91',\n",
              " '417.37',\n",
              " '570.77',\n",
              " '514.17',\n",
              " '332.4',\n",
              " '735.19',\n",
              " '552.4',\n",
              " '647.87',\n",
              " '581.87',\n",
              " '441.92',\n",
              " '553.75',\n",
              " '186.67',\n",
              " '1,819.11',\n",
              " '409.83',\n",
              " '1,052',\n",
              " '824.79',\n",
              " '490.97',\n",
              " '590',\n",
              " '394.32',\n",
              " '268.61',\n",
              " '255.41',\n",
              " '875.58',\n",
              " '731',\n",
              " '566.39',\n",
              " '529.84',\n",
              " '1,123.03',\n",
              " '876.41',\n",
              " '5,689.3',\n",
              " '394.19',\n",
              " '498',\n",
              " '860.1',\n",
              " '381.15',\n",
              " '962.08',\n",
              " '1,093.36',\n",
              " '530',\n",
              " '689.71',\n",
              " '377.42',\n",
              " '308.31',\n",
              " '425.51',\n",
              " '858.27',\n",
              " '1,015.09',\n",
              " '459.62',\n",
              " '242.52',\n",
              " '313.52',\n",
              " '1,304.38',\n",
              " '267.84',\n",
              " '410.55',\n",
              " '1,060.76',\n",
              " '636.49',\n",
              " '567.25',\n",
              " '273.57',\n",
              " '628.46',\n",
              " '1,023.32',\n",
              " '473.56',\n",
              " '290',\n",
              " '390.59',\n",
              " '759.37',\n",
              " '422.4',\n",
              " '717.83',\n",
              " '373.64',\n",
              " '396.92',\n",
              " '675.32',\n",
              " '708.56',\n",
              " '525.63',\n",
              " '589.53',\n",
              " '354.97',\n",
              " '632.01',\n",
              " '354.4',\n",
              " '708.83',\n",
              " '265.41',\n",
              " '394.26',\n",
              " '741.34',\n",
              " '199.45',\n",
              " '1,020',\n",
              " '896.61',\n",
              " '1,462.75',\n",
              " '611.9',\n",
              " '2,266.66',\n",
              " '370',\n",
              " '767.39',\n",
              " '602.38',\n",
              " '266.95',\n",
              " '233.4',\n",
              " '448.86',\n",
              " '509.33',\n",
              " '322.38',\n",
              " '243.18',\n",
              " '732.22',\n",
              " '532.05',\n",
              " '223.78',\n",
              " '466.35',\n",
              " '497.23',\n",
              " '230',\n",
              " '309.47',\n",
              " '252.39',\n",
              " '977.89',\n",
              " '1,677.43',\n",
              " '704.4',\n",
              " '442.85',\n",
              " '640.52',\n",
              " '395.45',\n",
              " '802.06',\n",
              " '435.3',\n",
              " '425.77',\n",
              " '710.41',\n",
              " '469.09',\n",
              " '395.22',\n",
              " '259.85',\n",
              " '866.7',\n",
              " '540.76',\n",
              " '1,024.06',\n",
              " '348.97',\n",
              " '355.95',\n",
              " '480.49',\n",
              " '649.15',\n",
              " '437.19',\n",
              " '715',\n",
              " '812.48',\n",
              " '534.78',\n",
              " '120.6',\n",
              " '437.56',\n",
              " '555.04',\n",
              " '214.08',\n",
              " '685.41',\n",
              " '501.13',\n",
              " '454.43',\n",
              " '983.47',\n",
              " '236.77',\n",
              " '2,277.6',\n",
              " '416.77',\n",
              " '441.29',\n",
              " '564.51',\n",
              " '660.93',\n",
              " '555.9',\n",
              " '560.21',\n",
              " '399',\n",
              " '426.18',\n",
              " '298.08',\n",
              " '427.64',\n",
              " '450',\n",
              " '499.22',\n",
              " '543.31',\n",
              " '618.7',\n",
              " '486.54',\n",
              " '263.91',\n",
              " '164.59',\n",
              " '785.93',\n",
              " '613.97',\n",
              " '288.53',\n",
              " '358.41',\n",
              " '624.15',\n",
              " '545.16',\n",
              " '466.15',\n",
              " '665.72',\n",
              " '305.36',\n",
              " '175',\n",
              " '600',\n",
              " '587.81',\n",
              " '723.94',\n",
              " '460.86',\n",
              " '4,538',\n",
              " '390.34',\n",
              " '242.63',\n",
              " '317.82',\n",
              " '1,510.61',\n",
              " '371.37',\n",
              " '374.26',\n",
              " '1,298.46',\n",
              " '532.37',\n",
              " '582.16',\n",
              " '663.63',\n",
              " '1,112.49',\n",
              " '729.2',\n",
              " '350',\n",
              " '578.78',\n",
              " '642.69',\n",
              " '322.17',\n",
              " '622.31',\n",
              " '546',\n",
              " '399.98',\n",
              " '196.26',\n",
              " '313.28',\n",
              " '455.48',\n",
              " '1,250.17',\n",
              " '548',\n",
              " '590.97',\n",
              " '841.72',\n",
              " '304.59',\n",
              " '575.78',\n",
              " '699.82',\n",
              " '472.76',\n",
              " '648.13',\n",
              " '943.85',\n",
              " '484.84',\n",
              " '493.91',\n",
              " '597.35',\n",
              " '7,243.2',\n",
              " '334.99',\n",
              " '286.15',\n",
              " '462.79',\n",
              " '376.14',\n",
              " '308.4',\n",
              " '470.52',\n",
              " '285',\n",
              " '287.88',\n",
              " '1,217.87',\n",
              " '1,746.79',\n",
              " '288.89',\n",
              " '477.55',\n",
              " '550.07',\n",
              " '435.63',\n",
              " '349.93',\n",
              " '1,213.03',\n",
              " '334.02',\n",
              " '431',\n",
              " '675.83',\n",
              " '343.11',\n",
              " '270.86',\n",
              " '959.43',\n",
              " '397.32',\n",
              " '265.4',\n",
              " '684.62',\n",
              " '751.28',\n",
              " '440.63',\n",
              " '1,056.41',\n",
              " '307.14',\n",
              " '755.45',\n",
              " '265.62',\n",
              " '1,726.75',\n",
              " '450.97',\n",
              " '1,099.12',\n",
              " '850.48',\n",
              " '394.57',\n",
              " '262.25',\n",
              " '464.74',\n",
              " '434.2',\n",
              " '708.17',\n",
              " '391.39',\n",
              " '169.58',\n",
              " '633.71',\n",
              " '578',\n",
              " '464.16',\n",
              " '443.46',\n",
              " '333.76',\n",
              " '254.26',\n",
              " '613.43',\n",
              " '740.79',\n",
              " '1,010.27',\n",
              " '1,128.07',\n",
              " '415',\n",
              " '615.15',\n",
              " '509.81',\n",
              " '400.59',\n",
              " '375.27',\n",
              " '361.3',\n",
              " '606.18',\n",
              " '488.97',\n",
              " '434.44',\n",
              " '744.41',\n",
              " '732.77',\n",
              " '542.09',\n",
              " '500',\n",
              " '857.94',\n",
              " '428.7',\n",
              " '1,030.77',\n",
              " '210',\n",
              " '410.57',\n",
              " '251.21',\n",
              " '225.26',\n",
              " '651.17',\n",
              " '346.91',\n",
              " '547.42',\n",
              " '285.97',\n",
              " '525.44',\n",
              " '381.83',\n",
              " '1,025.13',\n",
              " '1,391.33',\n",
              " '512.5',\n",
              " '307.39',\n",
              " '292.82',\n",
              " '607.54',\n",
              " '512.74',\n",
              " '309.07',\n",
              " '300',\n",
              " '550',\n",
              " '492.73',\n",
              " '342.96',\n",
              " '848.65',\n",
              " '393.08',\n",
              " '298.9',\n",
              " '366.19',\n",
              " '574.88',\n",
              " '489.83',\n",
              " '503.93',\n",
              " '110.82',\n",
              " '457.32',\n",
              " '488.74',\n",
              " '492.88',\n",
              " '394.74',\n",
              " '263.21',\n",
              " '354.85',\n",
              " '754.4',\n",
              " '501.97',\n",
              " '392.81',\n",
              " '610.96',\n",
              " '552.25',\n",
              " '1,634.3',\n",
              " '362.28',\n",
              " '1,125.67',\n",
              " '755.24',\n",
              " '560.65',\n",
              " '256.66',\n",
              " '575.61',\n",
              " '625.78',\n",
              " '505.78',\n",
              " '436.01',\n",
              " '393.23',\n",
              " '588.95',\n",
              " '290.61',\n",
              " '219.6',\n",
              " '642.95',\n",
              " '606.53',\n",
              " '378.63',\n",
              " '1,070.59',\n",
              " '427.94',\n",
              " '1,132.61',\n",
              " '428.57',\n",
              " '516.6',\n",
              " '767.57',\n",
              " '451.92',\n",
              " '482.95',\n",
              " '433.04',\n",
              " '472.05',\n",
              " '563.15',\n",
              " '676.2',\n",
              " '258.46',\n",
              " '721.25',\n",
              " '330.34',\n",
              " '498.93',\n",
              " '274.42',\n",
              " '527.98',\n",
              " '220',\n",
              " '1,181.08',\n",
              " '302.07',\n",
              " '495.95',\n",
              " '850',\n",
              " '450.79',\n",
              " '213.07',\n",
              " '351.63',\n",
              " '894.51',\n",
              " '325',\n",
              " '418.52',\n",
              " '758.66',\n",
              " '444.31',\n",
              " '1,205.86',\n",
              " '283.05',\n",
              " '1,611.75',\n",
              " '535.65',\n",
              " '590.06',\n",
              " '587.16',\n",
              " '926.02',\n",
              " '1,137.78',\n",
              " '223.7',\n",
              " '351.19',\n",
              " '622.71',\n",
              " '811.9',\n",
              " '310',\n",
              " '414.63',\n",
              " '689.85',\n",
              " '721.89',\n",
              " '3,117.17',\n",
              " '823.22',\n",
              " '783.65',\n",
              " '584.94',\n",
              " '727.29',\n",
              " '251.59',\n",
              " '608.15',\n",
              " '296.93',\n",
              " '191.39',\n",
              " '750.62',\n",
              " '280.67',\n",
              " '286.53',\n",
              " '963.69',\n",
              " '263.85',\n",
              " '3,113.48',\n",
              " '386.73',\n",
              " '512.28',\n",
              " '417.06',\n",
              " '1,472.52',\n",
              " '224.82',\n",
              " '823.54',\n",
              " '552.11',\n",
              " '746.08',\n",
              " '710.27',\n",
              " '237.17',\n",
              " '399.91',\n",
              " '462.32',\n",
              " '432.28',\n",
              " '2,946.78',\n",
              " '507.84',\n",
              " '707.79',\n",
              " '273.29',\n",
              " '243.16',\n",
              " '560',\n",
              " '607.92',\n",
              " '2,288.71',\n",
              " '748.86',\n",
              " '944.03',\n",
              " '477.39',\n",
              " '493.51',\n",
              " '694.23',\n",
              " '739.31',\n",
              " '818.05',\n",
              " '1,726.56',\n",
              " '1,026.36',\n",
              " '457.82',\n",
              " '395.47',\n",
              " '1,627.79',\n",
              " '869.76',\n",
              " '5,817.65',\n",
              " '626.09',\n",
              " '517.98',\n",
              " '636.05',\n",
              " '358.75',\n",
              " '284.08',\n",
              " '265.56',\n",
              " '189.86',\n",
              " '316.61',\n",
              " '721.05',\n",
              " '597.71',\n",
              " '469.83',\n",
              " '304.82',\n",
              " '180.58',\n",
              " '420',\n",
              " '846.72',\n",
              " '605.88',\n",
              " '406.09',\n",
              " '459.83',\n",
              " '276.05',\n",
              " '221.88',\n",
              " '431.75',\n",
              " '411.48',\n",
              " '582.21',\n",
              " '308.62',\n",
              " '568.5',\n",
              " '549.13',\n",
              " '358.07',\n",
              " '236',\n",
              " '464.12',\n",
              " '609.56',\n",
              " '1,770.08',\n",
              " '490.77',\n",
              " '236.7',\n",
              " '329.72',\n",
              " '405.23',\n",
              " '773.76',\n",
              " '245.05',\n",
              " '250',\n",
              " '486.66',\n",
              " '657.93',\n",
              " '338.9',\n",
              " '529.92',\n",
              " '335.51',\n",
              " '1,349.33',\n",
              " '834.95',\n",
              " '563.48',\n",
              " '505.82',\n",
              " '267.22',\n",
              " '218.88',\n",
              " '448.46',\n",
              " '478.13',\n",
              " '910.93',\n",
              " '296.69',\n",
              " '937.73',\n",
              " '670.43',\n",
              " '391',\n",
              " '1,432.19',\n",
              " '720.75',\n",
              " '2,743.51',\n",
              " '303.89',\n",
              " '555.47',\n",
              " '577.78',\n",
              " '257.44',\n",
              " '411.49',\n",
              " '469.36',\n",
              " '268.49',\n",
              " '1,074.78',\n",
              " '504.4',\n",
              " '925.98',\n",
              " '214.91',\n",
              " '2,649.64',\n",
              " '1,108.6',\n",
              " '838.59',\n",
              " '613.42',\n",
              " '518.57',\n",
              " '614.25',\n",
              " '928.28',\n",
              " '340.62',\n",
              " '331.72',\n",
              " '567.62',\n",
              " '800',\n",
              " '618.06',\n",
              " '371.59',\n",
              " '200',\n",
              " '399.88',\n",
              " '335.4',\n",
              " '556.7',\n",
              " '668.47',\n",
              " '634.25',\n",
              " '341.63',\n",
              " '415.59',\n",
              " '639.85',\n",
              " '873.04',\n",
              " '340.74',\n",
              " '782.09',\n",
              " '1,539.64',\n",
              " '391.79',\n",
              " '591.53',\n",
              " '1,011.84',\n",
              " '499.84',\n",
              " '432.78',\n",
              " '266.28',\n",
              " '262.88',\n",
              " '486.55',\n",
              " '843.58',\n",
              " '522.24',\n",
              " '751.2',\n",
              " '427.22',\n",
              " '438.63',\n",
              " '1,581.41',\n",
              " '443.08',\n",
              " '441.28',\n",
              " '925.1',\n",
              " '252.01',\n",
              " '268.91',\n",
              " '664.9',\n",
              " '624.01',\n",
              " '414',\n",
              " '273',\n",
              " '411.03',\n",
              " '704.22',\n",
              " '268.53',\n",
              " '248.27',\n",
              " '365.22',\n",
              " '466.59',\n",
              " '628.1',\n",
              " '210.94',\n",
              " '504.76',\n",
              " '600.27',\n",
              " '1,058.22',\n",
              " '362.15',\n",
              " '527.52',\n",
              " '336.95',\n",
              " '315.03',\n",
              " '586.72',\n",
              " '542.86',\n",
              " '488.38',\n",
              " '620.07',\n",
              " '293.04',\n",
              " '360.33',\n",
              " '420.82',\n",
              " '436.16',\n",
              " '1,124.12',\n",
              " '515.27',\n",
              " '276.86',\n",
              " '289.67',\n",
              " '649.73',\n",
              " '406.21',\n",
              " '1,309.66',\n",
              " '1,102.79',\n",
              " '1,031.01',\n",
              " '678.17',\n",
              " '225',\n",
              " '729.24',\n",
              " '951.16',\n",
              " '650.5',\n",
              " '397',\n",
              " '603.04',\n",
              " '863.31',\n",
              " '673.22',\n",
              " '618.89',\n",
              " '567.11',\n",
              " '726.51',\n",
              " '783.16',\n",
              " '383.92',\n",
              " '1,150.29',\n",
              " '987.36',\n",
              " '388.01',\n",
              " '347.55',\n",
              " '244.57',\n",
              " '1,122.55',\n",
              " '364.97',\n",
              " '437.5',\n",
              " '1,774.74',\n",
              " '503.16',\n",
              " '538.43',\n",
              " '370.88',\n",
              " '541.46',\n",
              " '745.83',\n",
              " '1,761.3',\n",
              " '486.82',\n",
              " '317.33',\n",
              " '905',\n",
              " '573.16',\n",
              " '332.71',\n",
              " '286.1',\n",
              " '440.56',\n",
              " '470.42',\n",
              " '516.09',\n",
              " '526.02',\n",
              " '1,144.02',\n",
              " '1,111.7',\n",
              " '225.21',\n",
              " '398.6',\n",
              " '498.1',\n",
              " '1,217.25',\n",
              " '294.15',\n",
              " '1,053.33',\n",
              " '249.06',\n",
              " '399.18',\n",
              " '648.75',\n",
              " '523.22',\n",
              " '398.59',\n",
              " '834.79',\n",
              " '814.37',\n",
              " '754.41',\n",
              " '651.03',\n",
              " '263.52',\n",
              " '297.93',\n",
              " '904.07',\n",
              " '555.33',\n",
              " '587.33',\n",
              " '346.83',\n",
              " '473.59',\n",
              " '1,706.51',\n",
              " '374.51',\n",
              " '1,051.31',\n",
              " '876.85',\n",
              " '321.28',\n",
              " '513.76',\n",
              " '1,071.16',\n",
              " '869.71',\n",
              " '838.54',\n",
              " '544.59',\n",
              " '415.63',\n",
              " '340.21',\n",
              " '293.9',\n",
              " '480.99',\n",
              " '459.39',\n",
              " '648.83',\n",
              " '299.23',\n",
              " '754.35',\n",
              " '649.89',\n",
              " '294.37',\n",
              " '867.08',\n",
              " '353.46',\n",
              " '619.23',\n",
              " '1,552.8',\n",
              " '1,027.37',\n",
              " '448.45',\n",
              " '612.27',\n",
              " '401.02',\n",
              " '322.04',\n",
              " '463.8',\n",
              " '532.67',\n",
              " '1,007.86',\n",
              " '596.37',\n",
              " '643.15',\n",
              " '980',\n",
              " '381.64',\n",
              " '695.06',\n",
              " '497.51',\n",
              " '522.11',\n",
              " '546.64',\n",
              " '430',\n",
              " '616.62',\n",
              " '535.79',\n",
              " '596',\n",
              " '315.92',\n",
              " '319.15',\n",
              " '1,272.57',\n",
              " '1,114.95',\n",
              " '1,125.05',\n",
              " '601.73',\n",
              " '346.72',\n",
              " '216.41',\n",
              " '1,914.04',\n",
              " '247.3',\n",
              " '1,040.18',\n",
              " '302.98',\n",
              " '1,018.9',\n",
              " '1,258.92',\n",
              " '703.52',\n",
              " '390.17',\n",
              " '647.07',\n",
              " '372.97',\n",
              " '515.66',\n",
              " '605.21',\n",
              " '378.62',\n",
              " '383.12',\n",
              " '279.69',\n",
              " '445.52',\n",
              " '454.69',\n",
              " '784',\n",
              " '849.49',\n",
              " '339.25',\n",
              " '1,132',\n",
              " '360',\n",
              " '603.99',\n",
              " '461.24',\n",
              " '392.46',\n",
              " '447.56',\n",
              " '233.37',\n",
              " '400',\n",
              " '700.03',\n",
              " '793.19',\n",
              " '1,111.09',\n",
              " '916.1',\n",
              " '620.09',\n",
              " '316.48',\n",
              " '455.03',\n",
              " '712.04',\n",
              " '383.98',\n",
              " '562.43',\n",
              " '523.19',\n",
              " '312.47',\n",
              " '323.45',\n",
              " '401.77',\n",
              " '382.79',\n",
              " '508.82',\n",
              " '789.36',\n",
              " '542.66',\n",
              " '215.39',\n",
              " '553.97',\n",
              " '543',\n",
              " '385.93',\n",
              " '273.91',\n",
              " '416.99',\n",
              " '638.78',\n",
              " '588.86',\n",
              " '1,102.54',\n",
              " '518.24',\n",
              " '597.92',\n",
              " '385.44',\n",
              " '465.64',\n",
              " '508',\n",
              " '601.55',\n",
              " '1,790.34',\n",
              " '500.62',\n",
              " '585.62',\n",
              " '404.41',\n",
              " '450.59',\n",
              " '1,083.87',\n",
              " '549.01',\n",
              " '333.91',\n",
              " '311.1',\n",
              " '3,185.14',\n",
              " '530.59',\n",
              " '314.42',\n",
              " '328.22',\n",
              " '513.93',\n",
              " '336',\n",
              " '478.61',\n",
              " '284.24',\n",
              " '343.5',\n",
              " '1,355.92',\n",
              " '756.68',\n",
              " '238.2',\n",
              " '362.17',\n",
              " '543.11',\n",
              " '1,065.37',\n",
              " '899.69',\n",
              " '270.42',\n",
              " '446.4',\n",
              " '563.74',\n",
              " '531.61',\n",
              " '546.31',\n",
              " '353.21',\n",
              " '474.38',\n",
              " '672.73',\n",
              " '220.87',\n",
              " '454.64',\n",
              " '400.53',\n",
              " '285.84',\n",
              " '410.73',\n",
              " '194.04',\n",
              " '539.11',\n",
              " '335.82',\n",
              " '420.55',\n",
              " '303.13',\n",
              " '1,974.25',\n",
              " '401.44',\n",
              " '540.68',\n",
              " '462.07',\n",
              " '853.49',\n",
              " '464.46',\n",
              " '412.47',\n",
              " '585.36',\n",
              " '384.11',\n",
              " '474.04',\n",
              " '306.08',\n",
              " '562.82',\n",
              " '317.29',\n",
              " '2,400.47',\n",
              " '340',\n",
              " '474.24',\n",
              " '643.01',\n",
              " '446.36',\n",
              " '509.83',\n",
              " '532.86',\n",
              " '1,115.13',\n",
              " '422.86',\n",
              " '558.66',\n",
              " '345.67',\n",
              " '591.3',\n",
              " '318.94',\n",
              " '597',\n",
              " '280',\n",
              " '695.81',\n",
              " '491.5',\n",
              " '334.82',\n",
              " '702.34',\n",
              " '407.13',\n",
              " '451.8',\n",
              " '796.05',\n",
              " '353.85',\n",
              " '348.91',\n",
              " '598.13',\n",
              " '396',\n",
              " '476.46',\n",
              " '325.96',\n",
              " '400.95',\n",
              " '253.46',\n",
              " '647.36',\n",
              " '707.59',\n",
              " '530.71',\n",
              " '209.48',\n",
              " '904.23',\n",
              " '1,418.78',\n",
              " '552.12',\n",
              " '257.8',\n",
              " '549.15',\n",
              " '321.48',\n",
              " '504.66',\n",
              " '546.15',\n",
              " '285.46',\n",
              " '289.5',\n",
              " '347.32',\n",
              " '272.93',\n",
              " '460.79',\n",
              " '1,100',\n",
              " '477.23',\n",
              " '1,338.87',\n",
              " '821.29',\n",
              " '438.76',\n",
              " '375.34',\n",
              " '538.33',\n",
              " '417.4',\n",
              " '495.49',\n",
              " '333.82',\n",
              " '472.5',\n",
              " '1,849',\n",
              " '264.8',\n",
              " '595.22',\n",
              " '865.31',\n",
              " '632.41',\n",
              " '718.04',\n",
              " '2,960.24',\n",
              " '450.38',\n",
              " '559.55',\n",
              " '463.84',\n",
              " '493.5',\n",
              " '380',\n",
              " '489.14',\n",
              " '407.02',\n",
              " '211.16',\n",
              " ...}"
            ]
          },
          "metadata": {},
          "execution_count": 9
        }
      ]
    },
    {
      "cell_type": "markdown",
      "source": [
        "Corrigiendo, mediante un reemplazo para volverlo numérico"
      ],
      "metadata": {
        "id": "6MVWmWqh9S-j"
      }
    },
    {
      "cell_type": "code",
      "source": [
        "df['monthly_debt_capacity']=df['monthly_debt_capacity'].str.replace(\",\", \"\")\n",
        "df['monthly_debt_capacity']=df['monthly_debt_capacity'].astype('float64')"
      ],
      "metadata": {
        "id": "xSd6PKumhWlX"
      },
      "execution_count": null,
      "outputs": []
    },
    {
      "cell_type": "code",
      "source": [
        "df.describe().T"
      ],
      "metadata": {
        "colab": {
          "base_uri": "https://localhost:8080/",
          "height": 333
        },
        "id": "b0E8Y_1c-B7H",
        "outputId": "5160f709-5afa-4070-99ad-d45576eae578"
      },
      "execution_count": null,
      "outputs": [
        {
          "output_type": "execute_result",
          "data": {
            "text/plain": [
              "                                count         mean          std     min  \\\n",
              "target                         1194.0     0.294807     0.456147    0.00   \n",
              "monthly_debt_capacity          1194.0   596.292119   476.308950  110.82   \n",
              "var_employment_time_in_months  1055.0    34.236019    27.120370   -1.00   \n",
              "approved_term                  1194.0     6.481575     3.020757    1.00   \n",
              "var_net_income                 1194.0  2726.751860  1869.715874    0.00   \n",
              "default_request_term           1194.0     0.507538     0.500153    0.00   \n",
              "default_request_amount         1194.0     0.000000     0.000000    0.00   \n",
              "\n",
              "                                     25%          50%          75%      max  \n",
              "target                            0.0000     0.000000     1.000000      1.0  \n",
              "monthly_debt_capacity           362.1550   491.585000   672.155000   7243.2  \n",
              "var_employment_time_in_months    11.0000    25.000000    62.000000     87.0  \n",
              "approved_term                     6.0000     6.000000     6.000000     12.0  \n",
              "var_net_income                 1780.0825  2385.176667  3087.641667  28587.0  \n",
              "default_request_term              0.0000     1.000000     1.000000      1.0  \n",
              "default_request_amount            0.0000     0.000000     0.000000      0.0  "
            ],
            "text/html": [
              "\n",
              "  <div id=\"df-30c0a532-df95-450e-9bcf-de1497a63741\">\n",
              "    <div class=\"colab-df-container\">\n",
              "      <div>\n",
              "<style scoped>\n",
              "    .dataframe tbody tr th:only-of-type {\n",
              "        vertical-align: middle;\n",
              "    }\n",
              "\n",
              "    .dataframe tbody tr th {\n",
              "        vertical-align: top;\n",
              "    }\n",
              "\n",
              "    .dataframe thead th {\n",
              "        text-align: right;\n",
              "    }\n",
              "</style>\n",
              "<table border=\"1\" class=\"dataframe\">\n",
              "  <thead>\n",
              "    <tr style=\"text-align: right;\">\n",
              "      <th></th>\n",
              "      <th>count</th>\n",
              "      <th>mean</th>\n",
              "      <th>std</th>\n",
              "      <th>min</th>\n",
              "      <th>25%</th>\n",
              "      <th>50%</th>\n",
              "      <th>75%</th>\n",
              "      <th>max</th>\n",
              "    </tr>\n",
              "  </thead>\n",
              "  <tbody>\n",
              "    <tr>\n",
              "      <th>target</th>\n",
              "      <td>1194.0</td>\n",
              "      <td>0.294807</td>\n",
              "      <td>0.456147</td>\n",
              "      <td>0.00</td>\n",
              "      <td>0.0000</td>\n",
              "      <td>0.000000</td>\n",
              "      <td>1.000000</td>\n",
              "      <td>1.0</td>\n",
              "    </tr>\n",
              "    <tr>\n",
              "      <th>monthly_debt_capacity</th>\n",
              "      <td>1194.0</td>\n",
              "      <td>596.292119</td>\n",
              "      <td>476.308950</td>\n",
              "      <td>110.82</td>\n",
              "      <td>362.1550</td>\n",
              "      <td>491.585000</td>\n",
              "      <td>672.155000</td>\n",
              "      <td>7243.2</td>\n",
              "    </tr>\n",
              "    <tr>\n",
              "      <th>var_employment_time_in_months</th>\n",
              "      <td>1055.0</td>\n",
              "      <td>34.236019</td>\n",
              "      <td>27.120370</td>\n",
              "      <td>-1.00</td>\n",
              "      <td>11.0000</td>\n",
              "      <td>25.000000</td>\n",
              "      <td>62.000000</td>\n",
              "      <td>87.0</td>\n",
              "    </tr>\n",
              "    <tr>\n",
              "      <th>approved_term</th>\n",
              "      <td>1194.0</td>\n",
              "      <td>6.481575</td>\n",
              "      <td>3.020757</td>\n",
              "      <td>1.00</td>\n",
              "      <td>6.0000</td>\n",
              "      <td>6.000000</td>\n",
              "      <td>6.000000</td>\n",
              "      <td>12.0</td>\n",
              "    </tr>\n",
              "    <tr>\n",
              "      <th>var_net_income</th>\n",
              "      <td>1194.0</td>\n",
              "      <td>2726.751860</td>\n",
              "      <td>1869.715874</td>\n",
              "      <td>0.00</td>\n",
              "      <td>1780.0825</td>\n",
              "      <td>2385.176667</td>\n",
              "      <td>3087.641667</td>\n",
              "      <td>28587.0</td>\n",
              "    </tr>\n",
              "    <tr>\n",
              "      <th>default_request_term</th>\n",
              "      <td>1194.0</td>\n",
              "      <td>0.507538</td>\n",
              "      <td>0.500153</td>\n",
              "      <td>0.00</td>\n",
              "      <td>0.0000</td>\n",
              "      <td>1.000000</td>\n",
              "      <td>1.000000</td>\n",
              "      <td>1.0</td>\n",
              "    </tr>\n",
              "    <tr>\n",
              "      <th>default_request_amount</th>\n",
              "      <td>1194.0</td>\n",
              "      <td>0.000000</td>\n",
              "      <td>0.000000</td>\n",
              "      <td>0.00</td>\n",
              "      <td>0.0000</td>\n",
              "      <td>0.000000</td>\n",
              "      <td>0.000000</td>\n",
              "      <td>0.0</td>\n",
              "    </tr>\n",
              "  </tbody>\n",
              "</table>\n",
              "</div>\n",
              "      <button class=\"colab-df-convert\" onclick=\"convertToInteractive('df-30c0a532-df95-450e-9bcf-de1497a63741')\"\n",
              "              title=\"Convert this dataframe to an interactive table.\"\n",
              "              style=\"display:none;\">\n",
              "        \n",
              "  <svg xmlns=\"http://www.w3.org/2000/svg\" height=\"24px\"viewBox=\"0 0 24 24\"\n",
              "       width=\"24px\">\n",
              "    <path d=\"M0 0h24v24H0V0z\" fill=\"none\"/>\n",
              "    <path d=\"M18.56 5.44l.94 2.06.94-2.06 2.06-.94-2.06-.94-.94-2.06-.94 2.06-2.06.94zm-11 1L8.5 8.5l.94-2.06 2.06-.94-2.06-.94L8.5 2.5l-.94 2.06-2.06.94zm10 10l.94 2.06.94-2.06 2.06-.94-2.06-.94-.94-2.06-.94 2.06-2.06.94z\"/><path d=\"M17.41 7.96l-1.37-1.37c-.4-.4-.92-.59-1.43-.59-.52 0-1.04.2-1.43.59L10.3 9.45l-7.72 7.72c-.78.78-.78 2.05 0 2.83L4 21.41c.39.39.9.59 1.41.59.51 0 1.02-.2 1.41-.59l7.78-7.78 2.81-2.81c.8-.78.8-2.07 0-2.86zM5.41 20L4 18.59l7.72-7.72 1.47 1.35L5.41 20z\"/>\n",
              "  </svg>\n",
              "      </button>\n",
              "      \n",
              "  <style>\n",
              "    .colab-df-container {\n",
              "      display:flex;\n",
              "      flex-wrap:wrap;\n",
              "      gap: 12px;\n",
              "    }\n",
              "\n",
              "    .colab-df-convert {\n",
              "      background-color: #E8F0FE;\n",
              "      border: none;\n",
              "      border-radius: 50%;\n",
              "      cursor: pointer;\n",
              "      display: none;\n",
              "      fill: #1967D2;\n",
              "      height: 32px;\n",
              "      padding: 0 0 0 0;\n",
              "      width: 32px;\n",
              "    }\n",
              "\n",
              "    .colab-df-convert:hover {\n",
              "      background-color: #E2EBFA;\n",
              "      box-shadow: 0px 1px 2px rgba(60, 64, 67, 0.3), 0px 1px 3px 1px rgba(60, 64, 67, 0.15);\n",
              "      fill: #174EA6;\n",
              "    }\n",
              "\n",
              "    [theme=dark] .colab-df-convert {\n",
              "      background-color: #3B4455;\n",
              "      fill: #D2E3FC;\n",
              "    }\n",
              "\n",
              "    [theme=dark] .colab-df-convert:hover {\n",
              "      background-color: #434B5C;\n",
              "      box-shadow: 0px 1px 3px 1px rgba(0, 0, 0, 0.15);\n",
              "      filter: drop-shadow(0px 1px 2px rgba(0, 0, 0, 0.3));\n",
              "      fill: #FFFFFF;\n",
              "    }\n",
              "  </style>\n",
              "\n",
              "      <script>\n",
              "        const buttonEl =\n",
              "          document.querySelector('#df-30c0a532-df95-450e-9bcf-de1497a63741 button.colab-df-convert');\n",
              "        buttonEl.style.display =\n",
              "          google.colab.kernel.accessAllowed ? 'block' : 'none';\n",
              "\n",
              "        async function convertToInteractive(key) {\n",
              "          const element = document.querySelector('#df-30c0a532-df95-450e-9bcf-de1497a63741');\n",
              "          const dataTable =\n",
              "            await google.colab.kernel.invokeFunction('convertToInteractive',\n",
              "                                                     [key], {});\n",
              "          if (!dataTable) return;\n",
              "\n",
              "          const docLinkHtml = 'Like what you see? Visit the ' +\n",
              "            '<a target=\"_blank\" href=https://colab.research.google.com/notebooks/data_table.ipynb>data table notebook</a>'\n",
              "            + ' to learn more about interactive tables.';\n",
              "          element.innerHTML = '';\n",
              "          dataTable['output_type'] = 'display_data';\n",
              "          await google.colab.output.renderOutput(dataTable, element);\n",
              "          const docLink = document.createElement('div');\n",
              "          docLink.innerHTML = docLinkHtml;\n",
              "          element.appendChild(docLink);\n",
              "        }\n",
              "      </script>\n",
              "    </div>\n",
              "  </div>\n",
              "  "
            ]
          },
          "metadata": {},
          "execution_count": 19
        }
      ]
    },
    {
      "cell_type": "code",
      "source": [
        "df.info()"
      ],
      "metadata": {
        "colab": {
          "base_uri": "https://localhost:8080/"
        },
        "id": "hiNI0CAk-wyw",
        "outputId": "21d5c826-a4a7-4d9b-f9b3-5fcea34e50c8"
      },
      "execution_count": null,
      "outputs": [
        {
          "output_type": "stream",
          "name": "stdout",
          "text": [
            "<class 'pandas.core.frame.DataFrame'>\n",
            "RangeIndex: 1194 entries, 0 to 1193\n",
            "Data columns (total 14 columns):\n",
            " #   Column                         Non-Null Count  Dtype  \n",
            "---  ------                         --------------  -----  \n",
            " 0   idPrestamo                     1194 non-null   object \n",
            " 1   target                         1194 non-null   int64  \n",
            " 2   monthly_debt_capacity          1194 non-null   float64\n",
            " 3   var_employment_time_in_months  1055 non-null   float64\n",
            " 4   approved_amount                1194 non-null   object \n",
            " 5   approved_term                  1194 non-null   int64  \n",
            " 6   approved_interest_amount       1194 non-null   object \n",
            " 7   var_net_income                 1194 non-null   float64\n",
            " 8   person_gender                  1194 non-null   object \n",
            " 9   credit_history_marital_status  1194 non-null   object \n",
            " 10  var_max_sbs_qual_12m           1194 non-null   object \n",
            " 11  person_degree_type_desc        1194 non-null   object \n",
            " 12  default_request_term           1194 non-null   int64  \n",
            " 13  default_request_amount         1194 non-null   int64  \n",
            "dtypes: float64(3), int64(4), object(7)\n",
            "memory usage: 130.7+ KB\n"
          ]
        }
      ]
    },
    {
      "cell_type": "markdown",
      "source": [
        "### **Cuantitativos:**"
      ],
      "metadata": {
        "id": "fWo1zyjnfjnP"
      }
    },
    {
      "cell_type": "markdown",
      "source": [
        "#### **Dispersiones**"
      ],
      "metadata": {
        "id": "EcbWlpVNAigJ"
      }
    },
    {
      "cell_type": "code",
      "source": [
        "sns.jointplot(data = df,x = \"monthly_debt_capacity\", y = \"var_net_income\" );"
      ],
      "metadata": {
        "colab": {
          "base_uri": "https://localhost:8080/",
          "height": 441
        },
        "id": "FMUm08tdBGC6",
        "outputId": "4ac98385-c5a7-4693-e872-af50a1a4c1c6"
      },
      "execution_count": null,
      "outputs": [
        {
          "output_type": "display_data",
          "data": {
            "text/plain": [
              "<Figure size 432x432 with 3 Axes>"
            ],
            "image/png": "[encoded data removed]"
          },
          "metadata": {
            "needs_background": "light"
          }
        }
      ]
    },
    {
      "cell_type": "code",
      "source": [
        "plt.scatter(df[\"monthly_debt_capacity\"], df[\"var_net_income\"])\n",
        "plt.title('dispersion')\n",
        "plt.xlabel('capacidad_deuda')\n",
        "plt.ylabel('ingreso neto')\n",
        "plt.show()"
      ],
      "metadata": {
        "colab": {
          "base_uri": "https://localhost:8080/",
          "height": 296
        },
        "id": "6vIbYJYCD2zo",
        "outputId": "8937c44f-94b6-461e-c3f1-927a0d383a5d"
      },
      "execution_count": null,
      "outputs": [
        {
          "output_type": "display_data",
          "data": {
            "text/plain": [
              "<Figure size 432x288 with 1 Axes>"
            ],
            "image/png": "[encoded data removed]"
          },
          "metadata": {
            "needs_background": "light"
          }
        }
      ]
    },
    {
      "cell_type": "code",
      "source": [],
      "metadata": {
        "id": "RQzxYcMKS3iv"
      },
      "execution_count": null,
      "outputs": []
    },
    {
      "cell_type": "markdown",
      "source": [
        "#### **Distribuciones y Densidades**"
      ],
      "metadata": {
        "id": "T9setZP-Bj7x"
      }
    },
    {
      "cell_type": "code",
      "source": [
        "sns.distplot(df['monthly_debt_capacity'])\n",
        "\n",
        "plt.show()"
      ],
      "metadata": {
        "colab": {
          "base_uri": "https://localhost:8080/",
          "height": 335
        },
        "id": "BM-OW_3dfevQ",
        "outputId": "c19e3451-3d09-44f4-92a8-d624d87a9eba"
      },
      "execution_count": null,
      "outputs": [
        {
          "output_type": "stream",
          "name": "stderr",
          "text": [
            "/usr/local/lib/python3.7/dist-packages/seaborn/distributions.py:2619: FutureWarning: `distplot` is a deprecated function and will be removed in a future version. Please adapt your code to use either `displot` (a figure-level function with similar flexibility) or `histplot` (an axes-level function for histograms).\n",
            "  warnings.warn(msg, FutureWarning)\n"
          ]
        },
        {
          "output_type": "display_data",
          "data": {
            "text/plain": [
              "<Figure size 432x288 with 1 Axes>"
            ],
            "image/png": "[encoded data removed]"
          },
          "metadata": {
            "needs_background": "light"
          }
        }
      ]
    },
    {
      "cell_type": "code",
      "source": [
        "from scipy.stats import norm\n",
        "ax = sns.distplot(df['monthly_debt_capacity'], fit=norm, kde=False)"
      ],
      "metadata": {
        "colab": {
          "base_uri": "https://localhost:8080/",
          "height": 335
        },
        "id": "FMwnVlJblWN-",
        "outputId": "af4dbed0-a75f-4b86-a593-704432dd9cdb"
      },
      "execution_count": null,
      "outputs": [
        {
          "output_type": "stream",
          "name": "stderr",
          "text": [
            "/usr/local/lib/python3.7/dist-packages/seaborn/distributions.py:2619: FutureWarning: `distplot` is a deprecated function and will be removed in a future version. Please adapt your code to use either `displot` (a figure-level function with similar flexibility) or `histplot` (an axes-level function for histograms).\n",
            "  warnings.warn(msg, FutureWarning)\n"
          ]
        },
        {
          "output_type": "display_data",
          "data": {
            "text/plain": [
              "<Figure size 432x288 with 1 Axes>"
            ],
            "image/png": "[encoded data removed]"
          },
          "metadata": {
            "needs_background": "light"
          }
        }
      ]
    },
    {
      "cell_type": "code",
      "source": [
        "ax = sns.distplot(df['monthly_debt_capacity'], vertical=True)"
      ],
      "metadata": {
        "colab": {
          "base_uri": "https://localhost:8080/",
          "height": 369
        },
        "id": "0c5LzfglfikX",
        "outputId": "abf697d4-8f6b-4c05-b7ac-656549805423"
      },
      "execution_count": null,
      "outputs": [
        {
          "output_type": "stream",
          "name": "stderr",
          "text": [
            "/usr/local/lib/python3.7/dist-packages/seaborn/distributions.py:2619: FutureWarning: `distplot` is a deprecated function and will be removed in a future version. Please adapt your code to use either `displot` (a figure-level function with similar flexibility) or `histplot` (an axes-level function for histograms).\n",
            "  warnings.warn(msg, FutureWarning)\n",
            "/usr/local/lib/python3.7/dist-packages/seaborn/distributions.py:1689: FutureWarning: The `vertical` parameter is deprecated and will be removed in a future version. Assign the data to the `y` variable instead.\n",
            "  warnings.warn(msg, FutureWarning)\n"
          ]
        },
        {
          "output_type": "display_data",
          "data": {
            "text/plain": [
              "<Figure size 432x288 with 1 Axes>"
            ],
            "image/png": "[encoded data removed]"
          },
          "metadata": {
            "needs_background": "light"
          }
        }
      ]
    },
    {
      "cell_type": "markdown",
      "source": [
        "#### **Cajas y Bigotes**"
      ],
      "metadata": {
        "id": "nGhptPIrCAJa"
      }
    },
    {
      "cell_type": "code",
      "source": [
        "df.info()"
      ],
      "metadata": {
        "colab": {
          "base_uri": "https://localhost:8080/"
        },
        "id": "sRLpSRcmfisW",
        "outputId": "9991e012-1ee2-4feb-e98a-4f2dff3f2c31"
      },
      "execution_count": null,
      "outputs": [
        {
          "output_type": "stream",
          "name": "stdout",
          "text": [
            "<class 'pandas.core.frame.DataFrame'>\n",
            "RangeIndex: 1194 entries, 0 to 1193\n",
            "Data columns (total 14 columns):\n",
            " #   Column                         Non-Null Count  Dtype  \n",
            "---  ------                         --------------  -----  \n",
            " 0   idPrestamo                     1194 non-null   object \n",
            " 1   target                         1194 non-null   int64  \n",
            " 2   monthly_debt_capacity          1194 non-null   float64\n",
            " 3   var_employment_time_in_months  1055 non-null   float64\n",
            " 4   approved_amount                1194 non-null   object \n",
            " 5   approved_term                  1194 non-null   int64  \n",
            " 6   approved_interest_amount       1194 non-null   object \n",
            " 7   var_net_income                 1194 non-null   float64\n",
            " 8   person_gender                  1194 non-null   object \n",
            " 9   credit_history_marital_status  1194 non-null   object \n",
            " 10  var_max_sbs_qual_12m           1194 non-null   object \n",
            " 11  person_degree_type_desc        1194 non-null   object \n",
            " 12  default_request_term           1194 non-null   int64  \n",
            " 13  default_request_amount         1194 non-null   int64  \n",
            "dtypes: float64(3), int64(4), object(7)\n",
            "memory usage: 130.7+ KB\n"
          ]
        }
      ]
    },
    {
      "cell_type": "code",
      "source": [
        "from seaborn import boxplot\n",
        "boxplot(df['monthly_debt_capacity'])"
      ],
      "metadata": {
        "colab": {
          "base_uri": "https://localhost:8080/",
          "height": 352
        },
        "id": "bW1fMuc3qEWl",
        "outputId": "7ddaf08f-466a-4da9-c1e1-12896134482d"
      },
      "execution_count": null,
      "outputs": [
        {
          "output_type": "stream",
          "name": "stderr",
          "text": [
            "/usr/local/lib/python3.7/dist-packages/seaborn/_decorators.py:43: FutureWarning: Pass the following variable as a keyword arg: x. From version 0.12, the only valid positional argument will be `data`, and passing other arguments without an explicit keyword will result in an error or misinterpretation.\n",
            "  FutureWarning\n"
          ]
        },
        {
          "output_type": "execute_result",
          "data": {
            "text/plain": [
              "<matplotlib.axes._subplots.AxesSubplot at 0x7f06100930d0>"
            ]
          },
          "metadata": {},
          "execution_count": 30
        },
        {
          "output_type": "display_data",
          "data": {
            "text/plain": [
              "<Figure size 432x288 with 1 Axes>"
            ],
            "image/png": "[encoded data removed]"
          },
          "metadata": {
            "needs_background": "light"
          }
        }
      ]
    },
    {
      "cell_type": "code",
      "source": [
        "plt.boxplot(df['monthly_debt_capacity'])\n",
        "plt.title('monthly_debt_capacity')"
      ],
      "metadata": {
        "colab": {
          "base_uri": "https://localhost:8080/",
          "height": 299
        },
        "id": "YkDJzeO7CfrJ",
        "outputId": "71d0bff5-735b-4f2a-e705-75159ab16091"
      },
      "execution_count": null,
      "outputs": [
        {
          "output_type": "execute_result",
          "data": {
            "text/plain": [
              "Text(0.5, 1.0, 'monthly_debt_capacity')"
            ]
          },
          "metadata": {},
          "execution_count": 31
        },
        {
          "output_type": "display_data",
          "data": {
            "text/plain": [
              "<Figure size 432x288 with 1 Axes>"
            ],
            "image/png": "[encoded data removed]"
          },
          "metadata": {
            "needs_background": "light"
          }
        }
      ]
    },
    {
      "cell_type": "code",
      "source": [
        "sns.boxplot(x=\"var_max_sbs_qual_12m\",\n",
        "                y=\"var_net_income\",\n",
        "                data=df)"
      ],
      "metadata": {
        "colab": {
          "base_uri": "https://localhost:8080/",
          "height": 301
        },
        "id": "MFTyifw6E-jC",
        "outputId": "3456fd18-c4c3-447c-bffc-bb396c8fc201"
      },
      "execution_count": null,
      "outputs": [
        {
          "output_type": "execute_result",
          "data": {
            "text/plain": [
              "<matplotlib.axes._subplots.AxesSubplot at 0x7f060f6575d0>"
            ]
          },
          "metadata": {},
          "execution_count": 32
        },
        {
          "output_type": "display_data",
          "data": {
            "text/plain": [
              "<Figure size 432x288 with 1 Axes>"
            ],
            "image/png": "[encoded data removed]"
          },
          "metadata": {
            "needs_background": "light"
          }
        }
      ]
    },
    {
      "cell_type": "markdown",
      "source": [
        "### **Cualitativos:**"
      ],
      "metadata": {
        "id": "Nzz-4lEff7eP"
      }
    },
    {
      "cell_type": "code",
      "source": [
        "import numpy as np"
      ],
      "metadata": {
        "id": "eluoOldnsXct"
      },
      "execution_count": null,
      "outputs": []
    },
    {
      "cell_type": "code",
      "source": [
        "df.info()"
      ],
      "metadata": {
        "colab": {
          "base_uri": "https://localhost:8080/"
        },
        "id": "zNiAWI2ljLbP",
        "outputId": "d062c1ab-d91c-420f-e910-ccafd7e2e87a"
      },
      "execution_count": null,
      "outputs": [
        {
          "output_type": "stream",
          "name": "stdout",
          "text": [
            "<class 'pandas.core.frame.DataFrame'>\n",
            "RangeIndex: 1194 entries, 0 to 1193\n",
            "Data columns (total 14 columns):\n",
            " #   Column                         Non-Null Count  Dtype  \n",
            "---  ------                         --------------  -----  \n",
            " 0   idPrestamo                     1194 non-null   object \n",
            " 1   target                         1194 non-null   int64  \n",
            " 2   monthly_debt_capacity          1194 non-null   float64\n",
            " 3   var_employment_time_in_months  1055 non-null   float64\n",
            " 4   approved_amount                1194 non-null   object \n",
            " 5   approved_term                  1194 non-null   int64  \n",
            " 6   approved_interest_amount       1194 non-null   object \n",
            " 7   var_net_income                 1194 non-null   float64\n",
            " 8   person_gender                  1194 non-null   object \n",
            " 9   credit_history_marital_status  1194 non-null   object \n",
            " 10  var_max_sbs_qual_12m           1194 non-null   object \n",
            " 11  person_degree_type_desc        1194 non-null   object \n",
            " 12  default_request_term           1194 non-null   int64  \n",
            " 13  default_request_amount         1194 non-null   int64  \n",
            "dtypes: float64(3), int64(4), object(7)\n",
            "memory usage: 130.7+ KB\n"
          ]
        }
      ]
    },
    {
      "cell_type": "markdown",
      "source": [
        "#### **Pie**"
      ],
      "metadata": {
        "id": "XqqDSf4rjixm"
      }
    },
    {
      "cell_type": "markdown",
      "source": [
        "No es directo, primero se debe tener un resumen y es al resumen que se le aplica el gráfico de pie."
      ],
      "metadata": {
        "id": "S6ILOUhyjq33"
      }
    },
    {
      "cell_type": "code",
      "source": [
        "pie_genero=df.groupby(['person_gender'])['person_gender'].agg(n=np.size)"
      ],
      "metadata": {
        "id": "mheoQCqCcfLC"
      },
      "execution_count": null,
      "outputs": []
    },
    {
      "cell_type": "code",
      "source": [
        "pie_genero=df.groupby(['person_gender'])['person_gender'].agg(n=np.size)\n",
        "pie_genero=pie_genero.reset_index()\n",
        "pie_genero"
      ],
      "metadata": {
        "colab": {
          "base_uri": "https://localhost:8080/",
          "height": 112
        },
        "id": "v8WnFYzQsJR8",
        "outputId": "b8d714e8-7d5d-4643-85a0-8a80d557e20a"
      },
      "execution_count": null,
      "outputs": [
        {
          "output_type": "execute_result",
          "data": {
            "text/plain": [
              "  person_gender    n\n",
              "0        FEMALE  389\n",
              "1          MALE  805"
            ],
            "text/html": [
              "\n",
              "  <div id=\"df-52ed0599-0496-450b-8173-a43133fc0278\">\n",
              "    <div class=\"colab-df-container\">\n",
              "      <div>\n",
              "<style scoped>\n",
              "    .dataframe tbody tr th:only-of-type {\n",
              "        vertical-align: middle;\n",
              "    }\n",
              "\n",
              "    .dataframe tbody tr th {\n",
              "        vertical-align: top;\n",
              "    }\n",
              "\n",
              "    .dataframe thead th {\n",
              "        text-align: right;\n",
              "    }\n",
              "</style>\n",
              "<table border=\"1\" class=\"dataframe\">\n",
              "  <thead>\n",
              "    <tr style=\"text-align: right;\">\n",
              "      <th></th>\n",
              "      <th>person_gender</th>\n",
              "      <th>n</th>\n",
              "    </tr>\n",
              "  </thead>\n",
              "  <tbody>\n",
              "    <tr>\n",
              "      <th>0</th>\n",
              "      <td>FEMALE</td>\n",
              "      <td>389</td>\n",
              "    </tr>\n",
              "    <tr>\n",
              "      <th>1</th>\n",
              "      <td>MALE</td>\n",
              "      <td>805</td>\n",
              "    </tr>\n",
              "  </tbody>\n",
              "</table>\n",
              "</div>\n",
              "      <button class=\"colab-df-convert\" onclick=\"convertToInteractive('df-52ed0599-0496-450b-8173-a43133fc0278')\"\n",
              "              title=\"Convert this dataframe to an interactive table.\"\n",
              "              style=\"display:none;\">\n",
              "        \n",
              "  <svg xmlns=\"http://www.w3.org/2000/svg\" height=\"24px\"viewBox=\"0 0 24 24\"\n",
              "       width=\"24px\">\n",
              "    <path d=\"M0 0h24v24H0V0z\" fill=\"none\"/>\n",
              "    <path d=\"M18.56 5.44l.94 2.06.94-2.06 2.06-.94-2.06-.94-.94-2.06-.94 2.06-2.06.94zm-11 1L8.5 8.5l.94-2.06 2.06-.94-2.06-.94L8.5 2.5l-.94 2.06-2.06.94zm10 10l.94 2.06.94-2.06 2.06-.94-2.06-.94-.94-2.06-.94 2.06-2.06.94z\"/><path d=\"M17.41 7.96l-1.37-1.37c-.4-.4-.92-.59-1.43-.59-.52 0-1.04.2-1.43.59L10.3 9.45l-7.72 7.72c-.78.78-.78 2.05 0 2.83L4 21.41c.39.39.9.59 1.41.59.51 0 1.02-.2 1.41-.59l7.78-7.78 2.81-2.81c.8-.78.8-2.07 0-2.86zM5.41 20L4 18.59l7.72-7.72 1.47 1.35L5.41 20z\"/>\n",
              "  </svg>\n",
              "      </button>\n",
              "      \n",
              "  <style>\n",
              "    .colab-df-container {\n",
              "      display:flex;\n",
              "      flex-wrap:wrap;\n",
              "      gap: 12px;\n",
              "    }\n",
              "\n",
              "    .colab-df-convert {\n",
              "      background-color: #E8F0FE;\n",
              "      border: none;\n",
              "      border-radius: 50%;\n",
              "      cursor: pointer;\n",
              "      display: none;\n",
              "      fill: #1967D2;\n",
              "      height: 32px;\n",
              "      padding: 0 0 0 0;\n",
              "      width: 32px;\n",
              "    }\n",
              "\n",
              "    .colab-df-convert:hover {\n",
              "      background-color: #E2EBFA;\n",
              "      box-shadow: 0px 1px 2px rgba(60, 64, 67, 0.3), 0px 1px 3px 1px rgba(60, 64, 67, 0.15);\n",
              "      fill: #174EA6;\n",
              "    }\n",
              "\n",
              "    [theme=dark] .colab-df-convert {\n",
              "      background-color: #3B4455;\n",
              "      fill: #D2E3FC;\n",
              "    }\n",
              "\n",
              "    [theme=dark] .colab-df-convert:hover {\n",
              "      background-color: #434B5C;\n",
              "      box-shadow: 0px 1px 3px 1px rgba(0, 0, 0, 0.15);\n",
              "      filter: drop-shadow(0px 1px 2px rgba(0, 0, 0, 0.3));\n",
              "      fill: #FFFFFF;\n",
              "    }\n",
              "  </style>\n",
              "\n",
              "      <script>\n",
              "        const buttonEl =\n",
              "          document.querySelector('#df-52ed0599-0496-450b-8173-a43133fc0278 button.colab-df-convert');\n",
              "        buttonEl.style.display =\n",
              "          google.colab.kernel.accessAllowed ? 'block' : 'none';\n",
              "\n",
              "        async function convertToInteractive(key) {\n",
              "          const element = document.querySelector('#df-52ed0599-0496-450b-8173-a43133fc0278');\n",
              "          const dataTable =\n",
              "            await google.colab.kernel.invokeFunction('convertToInteractive',\n",
              "                                                     [key], {});\n",
              "          if (!dataTable) return;\n",
              "\n",
              "          const docLinkHtml = 'Like what you see? Visit the ' +\n",
              "            '<a target=\"_blank\" href=https://colab.research.google.com/notebooks/data_table.ipynb>data table notebook</a>'\n",
              "            + ' to learn more about interactive tables.';\n",
              "          element.innerHTML = '';\n",
              "          dataTable['output_type'] = 'display_data';\n",
              "          await google.colab.output.renderOutput(dataTable, element);\n",
              "          const docLink = document.createElement('div');\n",
              "          docLink.innerHTML = docLinkHtml;\n",
              "          element.appendChild(docLink);\n",
              "        }\n",
              "      </script>\n",
              "    </div>\n",
              "  </div>\n",
              "  "
            ]
          },
          "metadata": {},
          "execution_count": 36
        }
      ]
    },
    {
      "cell_type": "code",
      "source": [
        "# Creating plot\n",
        "fig = plt.figure(figsize =(5, 3))\n",
        "plt.pie(pie_genero['n'], labels = pie_genero['person_gender'])\n",
        " \n",
        "# show plot\n",
        "plt.show()"
      ],
      "metadata": {
        "colab": {
          "base_uri": "https://localhost:8080/",
          "height": 194
        },
        "id": "lcFZ_RJRfiwP",
        "outputId": "086020f1-f06e-4e76-c663-f047eec4ef46"
      },
      "execution_count": null,
      "outputs": [
        {
          "output_type": "display_data",
          "data": {
            "text/plain": [
              "<Figure size 360x216 with 1 Axes>"
            ],
            "image/png": "[encoded data removed]"
          },
          "metadata": {}
        }
      ]
    },
    {
      "cell_type": "markdown",
      "source": [
        "#### **Barras**"
      ],
      "metadata": {
        "id": "ZpkOKajjjY8G"
      }
    },
    {
      "cell_type": "code",
      "source": [
        "plt.hist(df['person_gender'].dropna())\n",
        "plt.title('person_gender')"
      ],
      "metadata": {
        "colab": {
          "base_uri": "https://localhost:8080/",
          "height": 299
        },
        "id": "vuRm05dYDNWp",
        "outputId": "dce7a6d4-2499-419c-8ca5-437571eebc20"
      },
      "execution_count": null,
      "outputs": [
        {
          "output_type": "execute_result",
          "data": {
            "text/plain": [
              "Text(0.5, 1.0, 'person_gender')"
            ]
          },
          "metadata": {},
          "execution_count": 40
        },
        {
          "output_type": "display_data",
          "data": {
            "text/plain": [
              "<Figure size 432x288 with 1 Axes>"
            ],
            "image/png": "[encoded data removed]"
          },
          "metadata": {
            "needs_background": "light"
          }
        }
      ]
    },
    {
      "cell_type": "code",
      "source": [
        "## Creamos Gráfica\n",
        "plt.bar(pie_genero['person_gender'],pie_genero['n'])\n",
        " \n",
        "## Legenda en el eje y\n",
        "plt.ylabel('Cantidad de usuarios')\n",
        " \n",
        "## Legenda en el eje x\n",
        "plt.xlabel('Género')\n",
        " \n",
        "## Título de Gráfica\n",
        "plt.title('Usuarios')\n",
        " \n",
        "## Mostramos Gráfica\n",
        "plt.show()"
      ],
      "metadata": {
        "colab": {
          "base_uri": "https://localhost:8080/",
          "height": 295
        },
        "id": "Vhcpc50NtMZ-",
        "outputId": "414d7611-d86a-4fba-fce0-7d30d6fddcb7"
      },
      "execution_count": null,
      "outputs": [
        {
          "output_type": "display_data",
          "data": {
            "text/plain": [
              "<Figure size 432x288 with 1 Axes>"
            ],
            "image/png": "[encoded data removed]"
          },
          "metadata": {
            "needs_background": "light"
          }
        }
      ]
    },
    {
      "cell_type": "markdown",
      "source": [
        "#### **Violin**"
      ],
      "metadata": {
        "id": "2smChKSnkACv"
      }
    },
    {
      "cell_type": "code",
      "source": [
        "df['approved_amount']=df['approved_amount'].str.replace(\",\", \"\")\n",
        "df['approved_amount']=df['approved_amount'].astype('float64')"
      ],
      "metadata": {
        "id": "l9xzGYahlDGu"
      },
      "execution_count": null,
      "outputs": []
    },
    {
      "cell_type": "code",
      "source": [
        "from seaborn import violinplot\n",
        "violinplot(x=\"person_gender\", y=\"approved_amount\", hue=\"var_max_sbs_qual_12m\", data=df)"
      ],
      "metadata": {
        "colab": {
          "base_uri": "https://localhost:8080/",
          "height": 297
        },
        "id": "XN2wgqTUfizO",
        "outputId": "b5106ed3-3a8a-4256-9341-e0d1455654c4"
      },
      "execution_count": null,
      "outputs": [
        {
          "output_type": "execute_result",
          "data": {
            "text/plain": [
              "<matplotlib.axes._subplots.AxesSubplot at 0x7f89fcd17ad0>"
            ]
          },
          "metadata": {},
          "execution_count": 33
        },
        {
          "output_type": "display_data",
          "data": {
            "text/plain": [
              "<Figure size 432x288 with 1 Axes>"
            ],
            "image/png": "[encoded data removed]"
          },
          "metadata": {
            "needs_background": "light"
          }
        }
      ]
    },
    {
      "cell_type": "code",
      "source": [],
      "metadata": {
        "id": "TxzQ3YL2Vvt9"
      },
      "execution_count": null,
      "outputs": []
    },
    {
      "cell_type": "code",
      "source": [],
      "metadata": {
        "id": "wH0aikNdVvwk"
      },
      "execution_count": null,
      "outputs": []
    },
    {
      "cell_type": "markdown",
      "source": [
        "# **¿Cómo generarlo un poco más automático?**"
      ],
      "metadata": {
        "id": "SXqj5Ec6WUc_"
      }
    },
    {
      "cell_type": "code",
      "source": [
        "import matplotlib"
      ],
      "metadata": {
        "id": "1ZEyr3RXagj-"
      },
      "execution_count": null,
      "outputs": []
    },
    {
      "cell_type": "markdown",
      "source": [
        "#### 1 Homogenizar los campos (trabajo data cleaning)"
      ],
      "metadata": {
        "id": "zgFUQJGfc_a0"
      }
    },
    {
      "cell_type": "code",
      "source": [
        "df.dtypes"
      ],
      "metadata": {
        "colab": {
          "base_uri": "https://localhost:8080/"
        },
        "id": "ySHJWpwbVvzX",
        "outputId": "7a8dfc99-d801-4b76-c890-e8f52dd92d5d"
      },
      "execution_count": null,
      "outputs": [
        {
          "output_type": "execute_result",
          "data": {
            "text/plain": [
              "idPrestamo                        object\n",
              "target                             int64\n",
              "monthly_debt_capacity            float64\n",
              "var_employment_time_in_months    float64\n",
              "approved_amount                   object\n",
              "approved_term                      int64\n",
              "approved_interest_amount          object\n",
              "var_net_income                   float64\n",
              "person_gender                     object\n",
              "credit_history_marital_status     object\n",
              "var_max_sbs_qual_12m              object\n",
              "person_degree_type_desc           object\n",
              "default_request_term               int64\n",
              "default_request_amount             int64\n",
              "dtype: object"
            ]
          },
          "metadata": {},
          "execution_count": 16
        }
      ]
    },
    {
      "cell_type": "code",
      "source": [
        "var=['monthly_debt_capacity','var_net_income','person_gender','person_degree_type_desc']"
      ],
      "metadata": {
        "id": "SSfWeFHgXowG"
      },
      "execution_count": null,
      "outputs": []
    },
    {
      "cell_type": "code",
      "source": [
        "df2=df[var].copy(deep=True)"
      ],
      "metadata": {
        "id": "IrWqDLwaVv17"
      },
      "execution_count": null,
      "outputs": []
    },
    {
      "cell_type": "code",
      "source": [
        "df2.head(3)"
      ],
      "metadata": {
        "colab": {
          "base_uri": "https://localhost:8080/",
          "height": 143
        },
        "id": "5u2ZTvQ3eMuV",
        "outputId": "cec50202-52c4-4b47-ec8f-bfacdebd6dbf"
      },
      "execution_count": null,
      "outputs": [
        {
          "output_type": "execute_result",
          "data": {
            "text/plain": [
              "   monthly_debt_capacity  var_net_income person_gender person_degree_type_desc\n",
              "0                 252.39     1140.125000          MALE              Secundaria\n",
              "1                 244.57     1061.375000        FEMALE              Secundaria\n",
              "2                 491.50     2082.196667        FEMALE              Secundaria"
            ],
            "text/html": [
              "\n",
              "  <div id=\"df-07018f42-38cb-4fb4-b0f8-bd5321e2d823\">\n",
              "    <div class=\"colab-df-container\">\n",
              "      <div>\n",
              "<style scoped>\n",
              "    .dataframe tbody tr th:only-of-type {\n",
              "        vertical-align: middle;\n",
              "    }\n",
              "\n",
              "    .dataframe tbody tr th {\n",
              "        vertical-align: top;\n",
              "    }\n",
              "\n",
              "    .dataframe thead th {\n",
              "        text-align: right;\n",
              "    }\n",
              "</style>\n",
              "<table border=\"1\" class=\"dataframe\">\n",
              "  <thead>\n",
              "    <tr style=\"text-align: right;\">\n",
              "      <th></th>\n",
              "      <th>monthly_debt_capacity</th>\n",
              "      <th>var_net_income</th>\n",
              "      <th>person_gender</th>\n",
              "      <th>person_degree_type_desc</th>\n",
              "    </tr>\n",
              "  </thead>\n",
              "  <tbody>\n",
              "    <tr>\n",
              "      <th>0</th>\n",
              "      <td>252.39</td>\n",
              "      <td>1140.125000</td>\n",
              "      <td>MALE</td>\n",
              "      <td>Secundaria</td>\n",
              "    </tr>\n",
              "    <tr>\n",
              "      <th>1</th>\n",
              "      <td>244.57</td>\n",
              "      <td>1061.375000</td>\n",
              "      <td>FEMALE</td>\n",
              "      <td>Secundaria</td>\n",
              "    </tr>\n",
              "    <tr>\n",
              "      <th>2</th>\n",
              "      <td>491.50</td>\n",
              "      <td>2082.196667</td>\n",
              "      <td>FEMALE</td>\n",
              "      <td>Secundaria</td>\n",
              "    </tr>\n",
              "  </tbody>\n",
              "</table>\n",
              "</div>\n",
              "      <button class=\"colab-df-convert\" onclick=\"convertToInteractive('df-07018f42-38cb-4fb4-b0f8-bd5321e2d823')\"\n",
              "              title=\"Convert this dataframe to an interactive table.\"\n",
              "              style=\"display:none;\">\n",
              "        \n",
              "  <svg xmlns=\"http://www.w3.org/2000/svg\" height=\"24px\"viewBox=\"0 0 24 24\"\n",
              "       width=\"24px\">\n",
              "    <path d=\"M0 0h24v24H0V0z\" fill=\"none\"/>\n",
              "    <path d=\"M18.56 5.44l.94 2.06.94-2.06 2.06-.94-2.06-.94-.94-2.06-.94 2.06-2.06.94zm-11 1L8.5 8.5l.94-2.06 2.06-.94-2.06-.94L8.5 2.5l-.94 2.06-2.06.94zm10 10l.94 2.06.94-2.06 2.06-.94-2.06-.94-.94-2.06-.94 2.06-2.06.94z\"/><path d=\"M17.41 7.96l-1.37-1.37c-.4-.4-.92-.59-1.43-.59-.52 0-1.04.2-1.43.59L10.3 9.45l-7.72 7.72c-.78.78-.78 2.05 0 2.83L4 21.41c.39.39.9.59 1.41.59.51 0 1.02-.2 1.41-.59l7.78-7.78 2.81-2.81c.8-.78.8-2.07 0-2.86zM5.41 20L4 18.59l7.72-7.72 1.47 1.35L5.41 20z\"/>\n",
              "  </svg>\n",
              "      </button>\n",
              "      \n",
              "  <style>\n",
              "    .colab-df-container {\n",
              "      display:flex;\n",
              "      flex-wrap:wrap;\n",
              "      gap: 12px;\n",
              "    }\n",
              "\n",
              "    .colab-df-convert {\n",
              "      background-color: #E8F0FE;\n",
              "      border: none;\n",
              "      border-radius: 50%;\n",
              "      cursor: pointer;\n",
              "      display: none;\n",
              "      fill: #1967D2;\n",
              "      height: 32px;\n",
              "      padding: 0 0 0 0;\n",
              "      width: 32px;\n",
              "    }\n",
              "\n",
              "    .colab-df-convert:hover {\n",
              "      background-color: #E2EBFA;\n",
              "      box-shadow: 0px 1px 2px rgba(60, 64, 67, 0.3), 0px 1px 3px 1px rgba(60, 64, 67, 0.15);\n",
              "      fill: #174EA6;\n",
              "    }\n",
              "\n",
              "    [theme=dark] .colab-df-convert {\n",
              "      background-color: #3B4455;\n",
              "      fill: #D2E3FC;\n",
              "    }\n",
              "\n",
              "    [theme=dark] .colab-df-convert:hover {\n",
              "      background-color: #434B5C;\n",
              "      box-shadow: 0px 1px 3px 1px rgba(0, 0, 0, 0.15);\n",
              "      filter: drop-shadow(0px 1px 2px rgba(0, 0, 0, 0.3));\n",
              "      fill: #FFFFFF;\n",
              "    }\n",
              "  </style>\n",
              "\n",
              "      <script>\n",
              "        const buttonEl =\n",
              "          document.querySelector('#df-07018f42-38cb-4fb4-b0f8-bd5321e2d823 button.colab-df-convert');\n",
              "        buttonEl.style.display =\n",
              "          google.colab.kernel.accessAllowed ? 'block' : 'none';\n",
              "\n",
              "        async function convertToInteractive(key) {\n",
              "          const element = document.querySelector('#df-07018f42-38cb-4fb4-b0f8-bd5321e2d823');\n",
              "          const dataTable =\n",
              "            await google.colab.kernel.invokeFunction('convertToInteractive',\n",
              "                                                     [key], {});\n",
              "          if (!dataTable) return;\n",
              "\n",
              "          const docLinkHtml = 'Like what you see? Visit the ' +\n",
              "            '<a target=\"_blank\" href=https://colab.research.google.com/notebooks/data_table.ipynb>data table notebook</a>'\n",
              "            + ' to learn more about interactive tables.';\n",
              "          element.innerHTML = '';\n",
              "          dataTable['output_type'] = 'display_data';\n",
              "          await google.colab.output.renderOutput(dataTable, element);\n",
              "          const docLink = document.createElement('div');\n",
              "          docLink.innerHTML = docLinkHtml;\n",
              "          element.appendChild(docLink);\n",
              "        }\n",
              "      </script>\n",
              "    </div>\n",
              "  </div>\n",
              "  "
            ]
          },
          "metadata": {},
          "execution_count": 19
        }
      ]
    },
    {
      "cell_type": "code",
      "source": [
        "df2.dtypes"
      ],
      "metadata": {
        "colab": {
          "base_uri": "https://localhost:8080/"
        },
        "id": "pVTs2PayYCsD",
        "outputId": "5cb37bd9-13bf-4b0c-f97b-5eb695306287"
      },
      "execution_count": null,
      "outputs": [
        {
          "output_type": "execute_result",
          "data": {
            "text/plain": [
              "monthly_debt_capacity      float64\n",
              "var_net_income             float64\n",
              "person_gender               object\n",
              "person_degree_type_desc     object\n",
              "dtype: object"
            ]
          },
          "metadata": {},
          "execution_count": 20
        }
      ]
    },
    {
      "cell_type": "code",
      "source": [
        "df2.monthly_debt_capacity=df2.monthly_debt_capacity.astype('float64')\n",
        "df2.var_net_income=df2.var_net_income.astype('float64')\n",
        "df2.person_gender=df2.person_gender.astype('category')\n",
        "df2.person_degree_type_desc=df2.person_degree_type_desc.astype('category')\n"
      ],
      "metadata": {
        "id": "BT7SznsNVv4t"
      },
      "execution_count": null,
      "outputs": []
    },
    {
      "cell_type": "code",
      "source": [
        "df2.dtypes"
      ],
      "metadata": {
        "colab": {
          "base_uri": "https://localhost:8080/"
        },
        "id": "wDIa-etTYU8H",
        "outputId": "e916e20f-65ad-4106-cdd8-a63b73350c13"
      },
      "execution_count": null,
      "outputs": [
        {
          "output_type": "execute_result",
          "data": {
            "text/plain": [
              "monthly_debt_capacity       float64\n",
              "var_net_income              float64\n",
              "person_gender              category\n",
              "person_degree_type_desc    category\n",
              "dtype: object"
            ]
          },
          "metadata": {},
          "execution_count": 22
        }
      ]
    },
    {
      "cell_type": "markdown",
      "source": [
        "#### 2 trabajar funciones"
      ],
      "metadata": {
        "id": "vNE2P_gwdHgz"
      }
    },
    {
      "cell_type": "code",
      "source": [
        "def univariado(df):\n",
        "    v0=pd.DataFrame({\"variable\": df.columns.values})\n",
        "    t0=pd.DataFrame({\"tipo\": df.dtypes.values})\n",
        "    meta = pd.concat([v0, t0], axis=1)\n",
        "    matplotlib.rcParams.update({'font.size': 14})\n",
        "    for i in range(len(meta)) :\n",
        "        plt.figure(figsize=(20,5))\n",
        "        v=meta.iloc[i].variable #print(meta.iloc[i].variable)\n",
        "        t=meta.iloc[i].tipo\n",
        "        if (t.__class__.__name__==\"CategoricalDtype\"):\n",
        "            fa=df[v].value_counts() \n",
        "            fr=fa/len(df[v]) \n",
        "            #Barras\n",
        "            plt.subplot(1,2,1)\n",
        "            plt.bar(fa.index,fa)\n",
        "            plt.xticks(fa.index)\n",
        "            plt.title(v)\n",
        "            #Pie\n",
        "            plt.subplot(1,2,2)\n",
        "            plt.pie(fr,autopct='%1.1f%%', shadow=True, startangle=90)\n",
        "            plt.legend(fr.index,loc=\"center left\",bbox_to_anchor=(1, 0, 0.5, 1))\n",
        "            plt.title(v)\n",
        "            #Guardar\n",
        "            #plt.savefig(v+\".jpg\")\n",
        "        else:\n",
        "            #Histograma\n",
        "            plt.subplot(1,2,1)\n",
        "            plt.hist(df[v].dropna())\n",
        "            plt.title(v)\n",
        "            #Boxplot\n",
        "            plt.subplot(1,2,2)\n",
        "            plt.boxplot(df[v])\n",
        "            plt.title(v)\n",
        "            #Guardar\n",
        "            #plt.savefig(v+\".jpg\")\n",
        "        plt.show()"
      ],
      "metadata": {
        "id": "Ve0QRW2vYXNs"
      },
      "execution_count": null,
      "outputs": []
    },
    {
      "cell_type": "markdown",
      "source": [
        "\n",
        "#### 3 usar las funciones"
      ],
      "metadata": {
        "id": "XqOfqlDUdNsT"
      }
    },
    {
      "cell_type": "code",
      "source": [
        "univariado(df2)"
      ],
      "metadata": {
        "colab": {
          "base_uri": "https://localhost:8080/",
          "height": 1000
        },
        "id": "93Mp1zxIYXP9",
        "outputId": "506f500c-e95d-45bd-b1dd-421a4342aa4b"
      },
      "execution_count": null,
      "outputs": [
        {
          "output_type": "display_data",
          "data": {
            "text/plain": [
              "<Figure size 1440x360 with 2 Axes>"
            ],
            "image/png": "[encoded data removed]"
          },
          "metadata": {
            "needs_background": "light"
          }
        },
        {
          "output_type": "display_data",
          "data": {
            "text/plain": [
              "<Figure size 1440x360 with 2 Axes>"
            ],
            "image/png": "[encoded data removed]"
          },
          "metadata": {
            "needs_background": "light"
          }
        },
        {
          "output_type": "display_data",
          "data": {
            "text/plain": [
              "<Figure size 1440x360 with 2 Axes>"
            ],
            "image/png": "[encoded data removed]"
          },
          "metadata": {
            "needs_background": "light"
          }
        },
        {
          "output_type": "display_data",
          "data": {
            "text/plain": [
              "<Figure size 1440x360 with 2 Axes>"
            ],
            "image/png": "[encoded data removed]"
          },
          "metadata": {
            "needs_background": "light"
          }
        }
      ]
    },
    {
      "cell_type": "code",
      "source": [
        "univariado(df2)"
      ],
      "metadata": {
        "id": "fHCE9wQ8YXSH"
      },
      "execution_count": null,
      "outputs": []
    },
    {
      "cell_type": "code",
      "source": [],
      "metadata": {
        "id": "CVIQ0RyVYXUQ"
      },
      "execution_count": null,
      "outputs": []
    }
  ]
}