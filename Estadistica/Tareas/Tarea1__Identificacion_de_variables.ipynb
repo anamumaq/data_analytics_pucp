{
  "nbformat": 4,
  "nbformat_minor": 0,
  "metadata": {
    "colab": {
      "provenance": [],
      "authorship_tag": "ABX9TyOM/arH1CKtr+JV59FUPCGp"
    },
    "kernelspec": {
      "name": "python3",
      "display_name": "Python 3"
    },
    "language_info": {
      "name": "python"
    }
  },
  "cells": [
    {
      "cell_type": "code",
      "source": [
        "# importando librerias\n",
        "import pandas as pd\n",
        "import numpy as np"
      ],
      "metadata": {
        "id": "7vRtfk7g4RQy"
      },
      "execution_count": null,
      "outputs": []
    },
    {
      "cell_type": "markdown",
      "source": [
        "## 1. Cargar el archivo csv (Base_financiera_1.csv)"
      ],
      "metadata": {
        "id": "uxlu3JTkECgg"
      }
    },
    {
      "cell_type": "code",
      "execution_count": null,
      "metadata": {
        "id": "gvQhYMnT3EJO"
      },
      "outputs": [],
      "source": [
        "df = pd.read_csv('Base_financiera_1.csv', sep=';')"
      ]
    },
    {
      "cell_type": "markdown",
      "source": [
        "## 2. identificar variables (2 categóricas y 2 numéricas) y extraer los principales indicadores vistos en clase"
      ],
      "metadata": {
        "id": "TeTZ3hZmEIue"
      }
    },
    {
      "cell_type": "code",
      "source": [
        "# Obteniendo Todas las variables de la base\n",
        "df.columns"
      ],
      "metadata": {
        "colab": {
          "base_uri": "https://localhost:8080/"
        },
        "id": "N_DkVACCC7AH",
        "outputId": "2614abc4-59c7-4af3-fee5-05981076c514"
      },
      "execution_count": null,
      "outputs": [
        {
          "output_type": "execute_result",
          "data": {
            "text/plain": [
              "Index(['ID', 'Edad', 'Estado_civil', 'Genero', 'Zona_geografica', 'Ingreso',\n",
              "       'Numero_entidades_sbs', 'Tenencia_Saldo_rcc', 'Tenencia_prestamos_rcc',\n",
              "       'Tenencia_hipotecario_rcc', 'Saldo_tc_rcc', 'Saldo_prestamo_rcc',\n",
              "       'Saldo_hipotecario_rcc', 'deuda_rcc', 'Tenencia_TC_rcc',\n",
              "       'Nro_bancos_tc_saldo', 'Cantidad_productos_rcc', 'Nro_bancos_pld',\n",
              "       'Nro_productos_activo_E1', 'Nro_productos_activo_E2',\n",
              "       'Nro_productos_activo_E3', 'Nro_productos_activo_E4',\n",
              "       'Nro_productos_activo_rcc', 'Antiguedad_cliente', 'Tenencia_ahorros',\n",
              "       'Tenencia_cts', 'Tenencia_depo_plazo', 'Tenencia_FFMM',\n",
              "       'Saldo_vehicular_prom', 'Saldo_hipot_prom', 'Flg_transacc_atm_3m',\n",
              "       'Flg_transacc_ventanilla_3m', 'Flg_transacc_bca_internet_3m',\n",
              "       'Flg_transacc_bca_telef_3m', 'Flg_ph', 'Antiguedad_ph',\n",
              "       'Antiguedad_ahorros', 'Antiguedad_depo_plazo', 'Antiguedad_cts',\n",
              "       'Antiguedad_pasivos', 'Nro_productos_pasivos', 'Antiguedad_pld',\n",
              "       'Antiguedad_activos', 'Nro_meses_rcc', 'Tenencia_ahorros_6m',\n",
              "       'Tenencia_depo_plazo_6m', 'Tenencia_cts_6m', 'Tenencia_FFMM_6m',\n",
              "       'Nro_meses_visitaOficina_5M', 'cant_vecesvisitaoficina_5m',\n",
              "       'Target_mora'],\n",
              "      dtype='object')"
            ]
          },
          "metadata": {},
          "execution_count": 26
        }
      ]
    },
    {
      "cell_type": "code",
      "source": [
        "## Seleccionando dos variables por tipo\n",
        "\n",
        "# Categoricas\n",
        "print('Variable Categorica 1: ', df['Estado_civil'].name)\n",
        "print('Variable Categorica 2: ', df['Zona_geografica'].name)\n",
        "\n",
        "# numericas\n",
        "print('Variable Numerica 1: ', df['Ingreso'].name)\n",
        "print('Variable Numerica 2: ', df['Antiguedad_cliente'].name)\n"
      ],
      "metadata": {
        "id": "7fldL31KDHWn",
        "colab": {
          "base_uri": "https://localhost:8080/"
        },
        "outputId": "a122dba0-0e16-4564-da00-16e59ac6bf97"
      },
      "execution_count": null,
      "outputs": [
        {
          "output_type": "stream",
          "name": "stdout",
          "text": [
            "Variable Categorica 1:  Estado_civil\n",
            "Variable Categorica 2:  Zona_geografica\n",
            "Variable Numerica 1:  Ingreso\n",
            "Variable Numerica 2:  Antiguedad_cliente\n"
          ]
        }
      ]
    },
    {
      "cell_type": "code",
      "source": [
        "# Visualizando todos los indicadores de las variables elegidas\n",
        "df[['Estado_civil', 'Zona_geografica', 'Ingreso', 'Antiguedad_cliente']].describe(include = 'all').T"
      ],
      "metadata": {
        "colab": {
          "base_uri": "https://localhost:8080/",
          "height": 175
        },
        "id": "MIZGOk3IS5ux",
        "outputId": "10f6c609-5cd6-4a24-9163-f0460ae58a13"
      },
      "execution_count": null,
      "outputs": [
        {
          "output_type": "execute_result",
          "data": {
            "text/plain": [
              "                      count unique           top  freq         mean  \\\n",
              "Estado_civil          10643      3        Casado  6109          NaN   \n",
              "Zona_geografica       10643     13  LIMA MODERNA  4654          NaN   \n",
              "Ingreso             10643.0    NaN           NaN   NaN  6540.684018   \n",
              "Antiguedad_cliente  10643.0    NaN           NaN   NaN   154.247111   \n",
              "\n",
              "                            std  min     25%     50%     75%        max  \n",
              "Estado_civil                NaN  NaN     NaN     NaN     NaN        NaN  \n",
              "Zona_geografica             NaN  NaN     NaN     NaN     NaN        NaN  \n",
              "Ingreso             19830.51634  0.0  1000.0  3500.0  8000.0  1287000.0  \n",
              "Antiguedad_cliente    87.501628  0.0    82.0   171.0   227.0      579.0  "
            ],
            "text/html": [
              "\n",
              "  <div id=\"df-4f4e48e0-fac8-4f0b-8987-84c5a1a8a8f4\">\n",
              "    <div class=\"colab-df-container\">\n",
              "      <div>\n",
              "<style scoped>\n",
              "    .dataframe tbody tr th:only-of-type {\n",
              "        vertical-align: middle;\n",
              "    }\n",
              "\n",
              "    .dataframe tbody tr th {\n",
              "        vertical-align: top;\n",
              "    }\n",
              "\n",
              "    .dataframe thead th {\n",
              "        text-align: right;\n",
              "    }\n",
              "</style>\n",
              "<table border=\"1\" class=\"dataframe\">\n",
              "  <thead>\n",
              "    <tr style=\"text-align: right;\">\n",
              "      <th></th>\n",
              "      <th>count</th>\n",
              "      <th>unique</th>\n",
              "      <th>top</th>\n",
              "      <th>freq</th>\n",
              "      <th>mean</th>\n",
              "      <th>std</th>\n",
              "      <th>min</th>\n",
              "      <th>25%</th>\n",
              "      <th>50%</th>\n",
              "      <th>75%</th>\n",
              "      <th>max</th>\n",
              "    </tr>\n",
              "  </thead>\n",
              "  <tbody>\n",
              "    <tr>\n",
              "      <th>Estado_civil</th>\n",
              "      <td>10643</td>\n",
              "      <td>3</td>\n",
              "      <td>Casado</td>\n",
              "      <td>6109</td>\n",
              "      <td>NaN</td>\n",
              "      <td>NaN</td>\n",
              "      <td>NaN</td>\n",
              "      <td>NaN</td>\n",
              "      <td>NaN</td>\n",
              "      <td>NaN</td>\n",
              "      <td>NaN</td>\n",
              "    </tr>\n",
              "    <tr>\n",
              "      <th>Zona_geografica</th>\n",
              "      <td>10643</td>\n",
              "      <td>13</td>\n",
              "      <td>LIMA MODERNA</td>\n",
              "      <td>4654</td>\n",
              "      <td>NaN</td>\n",
              "      <td>NaN</td>\n",
              "      <td>NaN</td>\n",
              "      <td>NaN</td>\n",
              "      <td>NaN</td>\n",
              "      <td>NaN</td>\n",
              "      <td>NaN</td>\n",
              "    </tr>\n",
              "    <tr>\n",
              "      <th>Ingreso</th>\n",
              "      <td>10643.0</td>\n",
              "      <td>NaN</td>\n",
              "      <td>NaN</td>\n",
              "      <td>NaN</td>\n",
              "      <td>6540.684018</td>\n",
              "      <td>19830.51634</td>\n",
              "      <td>0.0</td>\n",
              "      <td>1000.0</td>\n",
              "      <td>3500.0</td>\n",
              "      <td>8000.0</td>\n",
              "      <td>1287000.0</td>\n",
              "    </tr>\n",
              "    <tr>\n",
              "      <th>Antiguedad_cliente</th>\n",
              "      <td>10643.0</td>\n",
              "      <td>NaN</td>\n",
              "      <td>NaN</td>\n",
              "      <td>NaN</td>\n",
              "      <td>154.247111</td>\n",
              "      <td>87.501628</td>\n",
              "      <td>0.0</td>\n",
              "      <td>82.0</td>\n",
              "      <td>171.0</td>\n",
              "      <td>227.0</td>\n",
              "      <td>579.0</td>\n",
              "    </tr>\n",
              "  </tbody>\n",
              "</table>\n",
              "</div>\n",
              "      <button class=\"colab-df-convert\" onclick=\"convertToInteractive('df-4f4e48e0-fac8-4f0b-8987-84c5a1a8a8f4')\"\n",
              "              title=\"Convert this dataframe to an interactive table.\"\n",
              "              style=\"display:none;\">\n",
              "        \n",
              "  <svg xmlns=\"http://www.w3.org/2000/svg\" height=\"24px\"viewBox=\"0 0 24 24\"\n",
              "       width=\"24px\">\n",
              "    <path d=\"M0 0h24v24H0V0z\" fill=\"none\"/>\n",
              "    <path d=\"M18.56 5.44l.94 2.06.94-2.06 2.06-.94-2.06-.94-.94-2.06-.94 2.06-2.06.94zm-11 1L8.5 8.5l.94-2.06 2.06-.94-2.06-.94L8.5 2.5l-.94 2.06-2.06.94zm10 10l.94 2.06.94-2.06 2.06-.94-2.06-.94-.94-2.06-.94 2.06-2.06.94z\"/><path d=\"M17.41 7.96l-1.37-1.37c-.4-.4-.92-.59-1.43-.59-.52 0-1.04.2-1.43.59L10.3 9.45l-7.72 7.72c-.78.78-.78 2.05 0 2.83L4 21.41c.39.39.9.59 1.41.59.51 0 1.02-.2 1.41-.59l7.78-7.78 2.81-2.81c.8-.78.8-2.07 0-2.86zM5.41 20L4 18.59l7.72-7.72 1.47 1.35L5.41 20z\"/>\n",
              "  </svg>\n",
              "      </button>\n",
              "      \n",
              "  <style>\n",
              "    .colab-df-container {\n",
              "      display:flex;\n",
              "      flex-wrap:wrap;\n",
              "      gap: 12px;\n",
              "    }\n",
              "\n",
              "    .colab-df-convert {\n",
              "      background-color: #E8F0FE;\n",
              "      border: none;\n",
              "      border-radius: 50%;\n",
              "      cursor: pointer;\n",
              "      display: none;\n",
              "      fill: #1967D2;\n",
              "      height: 32px;\n",
              "      padding: 0 0 0 0;\n",
              "      width: 32px;\n",
              "    }\n",
              "\n",
              "    .colab-df-convert:hover {\n",
              "      background-color: #E2EBFA;\n",
              "      box-shadow: 0px 1px 2px rgba(60, 64, 67, 0.3), 0px 1px 3px 1px rgba(60, 64, 67, 0.15);\n",
              "      fill: #174EA6;\n",
              "    }\n",
              "\n",
              "    [theme=dark] .colab-df-convert {\n",
              "      background-color: #3B4455;\n",
              "      fill: #D2E3FC;\n",
              "    }\n",
              "\n",
              "    [theme=dark] .colab-df-convert:hover {\n",
              "      background-color: #434B5C;\n",
              "      box-shadow: 0px 1px 3px 1px rgba(0, 0, 0, 0.15);\n",
              "      filter: drop-shadow(0px 1px 2px rgba(0, 0, 0, 0.3));\n",
              "      fill: #FFFFFF;\n",
              "    }\n",
              "  </style>\n",
              "\n",
              "      <script>\n",
              "        const buttonEl =\n",
              "          document.querySelector('#df-4f4e48e0-fac8-4f0b-8987-84c5a1a8a8f4 button.colab-df-convert');\n",
              "        buttonEl.style.display =\n",
              "          google.colab.kernel.accessAllowed ? 'block' : 'none';\n",
              "\n",
              "        async function convertToInteractive(key) {\n",
              "          const element = document.querySelector('#df-4f4e48e0-fac8-4f0b-8987-84c5a1a8a8f4');\n",
              "          const dataTable =\n",
              "            await google.colab.kernel.invokeFunction('convertToInteractive',\n",
              "                                                     [key], {});\n",
              "          if (!dataTable) return;\n",
              "\n",
              "          const docLinkHtml = 'Like what you see? Visit the ' +\n",
              "            '<a target=\"_blank\" href=https://colab.research.google.com/notebooks/data_table.ipynb>data table notebook</a>'\n",
              "            + ' to learn more about interactive tables.';\n",
              "          element.innerHTML = '';\n",
              "          dataTable['output_type'] = 'display_data';\n",
              "          await google.colab.output.renderOutput(dataTable, element);\n",
              "          const docLink = document.createElement('div');\n",
              "          docLink.innerHTML = docLinkHtml;\n",
              "          element.appendChild(docLink);\n",
              "        }\n",
              "      </script>\n",
              "    </div>\n",
              "  </div>\n",
              "  "
            ]
          },
          "metadata": {},
          "execution_count": 28
        }
      ]
    },
    {
      "cell_type": "code",
      "source": [
        "# Libreria necesaria para encontrar la moda y cuartiles\n",
        "import statistics"
      ],
      "metadata": {
        "id": "uztRwvmq1xjM"
      },
      "execution_count": null,
      "outputs": []
    },
    {
      "cell_type": "markdown",
      "source": [
        "* Indicadores Variable **INGRESO**"
      ],
      "metadata": {
        "id": "E7cufs6ugf3S"
      }
    },
    {
      "cell_type": "code",
      "source": [
        "## Medidas de centralidad\n",
        "print('Mediana de ingreso: ', df['Ingreso'].median())\n",
        "print('Promedio de ingreso: ', df['Ingreso'].mean().round(2))\n",
        "print('Moda de ingreso: ', statistics.mode(df['Ingreso']))\n",
        "\n",
        "\n",
        "## Medidas de dispersion\n",
        "\n",
        "print('Máximo de ingreso: ', df['Ingreso'].max())\n",
        "print('Mínimo de ingreso: ', df['Ingreso'].min())\n",
        "print('Rango de ingreso: ', df['Ingreso'].max() - df['Ingreso'].min())\n",
        "print('Varianza de ingreso: ', df['Ingreso'].var().round(2))\n",
        "print('Desv Estandar de ingreso: ', df['Ingreso'].std().round(2))\n",
        "print('Cuartiles de ingreso: ',df['Ingreso'].quantile([0.10, 0.25, 0.5, 0.75, 0.90]))"
      ],
      "metadata": {
        "colab": {
          "base_uri": "https://localhost:8080/"
        },
        "id": "XAN7O99rgqKI",
        "outputId": "d088bed4-3584-498b-f1be-24d33db8d108"
      },
      "execution_count": null,
      "outputs": [
        {
          "output_type": "stream",
          "name": "stdout",
          "text": [
            "Mediana de ingreso:  3500.0\n",
            "Promedio de ingreso:  6540.68\n",
            "Moda de ingreso:  500\n",
            "Máximo de ingreso:  1287000\n",
            "Mínimo de ingreso:  0\n",
            "Rango de ingreso:  1287000\n",
            "Varianza de ingreso:  393249378.3\n",
            "Desv Estandar de ingreso:  19830.52\n",
            "Cuartiles de ingreso:  0.10      500.0\n",
            "0.25     1000.0\n",
            "0.50     3500.0\n",
            "0.75     8000.0\n",
            "0.90    14000.0\n",
            "Name: Ingreso, dtype: float64\n"
          ]
        }
      ]
    },
    {
      "cell_type": "markdown",
      "source": [
        "* Indicadores Variable **Antiguedad Cliente**"
      ],
      "metadata": {
        "id": "5MuVmUj2n-cN"
      }
    },
    {
      "cell_type": "code",
      "source": [
        "## Medidas de centralidad\n",
        "print('Mediana de Antiguedad_cliente:', df['Antiguedad_cliente'].median())\n",
        "print('Promedio de Antiguedad_cliente: ', df['Antiguedad_cliente'].mean().round(2))\n",
        "print('Moda de Antiguedad_cliente: ', statistics.mode(df['Antiguedad_cliente']))\n",
        "\n",
        "\n",
        "## Medidas de dispersion\n",
        "\n",
        "print('Máximo de Antiguedad_cliente: ', df['Antiguedad_cliente'].max())\n",
        "print('Mínimo de Antiguedad_cliente: ', df['Antiguedad_cliente'].min())\n",
        "print('Rango de Antiguedad_cliente: ', df['Antiguedad_cliente'].max() - df['Antiguedad_cliente'].min())\n",
        "print('Varianza de Antiguedad_cliente: ', df['Antiguedad_cliente'].var().round(2))\n",
        "print('Desv Estandar de Antiguedad_cliente: ', df['Antiguedad_cliente'].std().round(2))\n",
        "print('Cuartiles de Antiguedad_cliente: ',df['Antiguedad_cliente'].quantile([0.10, 0.25, 0.5, 0.75, 0.90]))"
      ],
      "metadata": {
        "colab": {
          "base_uri": "https://localhost:8080/"
        },
        "id": "DJ4Fc1nnoGV2",
        "outputId": "056d3eb5-cf01-4294-c0cf-e5aa410fedf4"
      },
      "execution_count": null,
      "outputs": [
        {
          "output_type": "stream",
          "name": "stdout",
          "text": [
            "Mediana de Antiguedad_cliente: 171.0\n",
            "Promedio de Antiguedad_cliente:  154.25\n",
            "Moda de Antiguedad_cliente:  0\n",
            "Máximo de Antiguedad_cliente:  579\n",
            "Mínimo de Antiguedad_cliente:  0\n",
            "Rango de Antiguedad_cliente:  579\n",
            "Varianza de Antiguedad_cliente:  7656.53\n",
            "Desv Estandar de Antiguedad_cliente:  87.5\n",
            "Cuartiles de Antiguedad_cliente:  0.10     31.0\n",
            "0.25     82.0\n",
            "0.50    171.0\n",
            "0.75    227.0\n",
            "0.90    244.0\n",
            "Name: Antiguedad_cliente, dtype: float64\n"
          ]
        }
      ]
    },
    {
      "cell_type": "markdown",
      "source": [
        "* Indicadores  Variable  **Estado_civil**"
      ],
      "metadata": {
        "id": "oKTF51bf5hhP"
      }
    },
    {
      "cell_type": "code",
      "source": [
        "# Distribución por variable\n",
        "(df['Estado_civil'].value_counts() / df['Estado_civil'].shape[0]).round(2) *100"
      ],
      "metadata": {
        "colab": {
          "base_uri": "https://localhost:8080/"
        },
        "id": "8SSCciiVYGmX",
        "outputId": "474688d7-276a-4384-8f23-e67ba5294a61"
      },
      "execution_count": null,
      "outputs": [
        {
          "output_type": "execute_result",
          "data": {
            "text/plain": [
              "Casado     57.0\n",
              "Soltero    41.0\n",
              "Otro        2.0\n",
              "Name: Estado_civil, dtype: float64"
            ]
          },
          "metadata": {},
          "execution_count": 32
        }
      ]
    },
    {
      "cell_type": "code",
      "source": [
        "print('Moda de Estado_civil: ', statistics.mode(df['Estado_civil']))"
      ],
      "metadata": {
        "colab": {
          "base_uri": "https://localhost:8080/"
        },
        "id": "h1rBl7RO5skD",
        "outputId": "a6720d2d-536d-4457-a660-bb5e81003a41"
      },
      "execution_count": null,
      "outputs": [
        {
          "output_type": "stream",
          "name": "stdout",
          "text": [
            "Moda de Estado_civil:  Casado\n"
          ]
        }
      ]
    },
    {
      "cell_type": "markdown",
      "source": [
        "* Indicadores de **Zona_geografica**"
      ],
      "metadata": {
        "id": "Zv7nbQUV5x6H"
      }
    },
    {
      "cell_type": "code",
      "source": [
        "# Distribución por variable\n",
        "(df['Zona_geografica'].value_counts() / df['Zona_geografica'].shape[0]).round(2) *100"
      ],
      "metadata": {
        "colab": {
          "base_uri": "https://localhost:8080/"
        },
        "id": "_VMZeNJ2Y_Mn",
        "outputId": "62d964aa-0a1e-4a55-bcdc-581ca45aecb4"
      },
      "execution_count": null,
      "outputs": [
        {
          "output_type": "execute_result",
          "data": {
            "text/plain": [
              "LIMA MODERNA      44.0\n",
              "NORTE             11.0\n",
              "LIMA CENTRO        8.0\n",
              "SUR                7.0\n",
              "CENTRO             6.0\n",
              "LIMA NORTE         5.0\n",
              "LIMA ESTE          5.0\n",
              "ORIENTE            5.0\n",
              "LIMA SUR           4.0\n",
              "CALLAO             2.0\n",
              "SIERRA CENTRAL     2.0\n",
              "LIMA PROVINCIA     1.0\n",
              "                   0.0\n",
              "Name: Zona_geografica, dtype: float64"
            ]
          },
          "metadata": {},
          "execution_count": 34
        }
      ]
    },
    {
      "cell_type": "code",
      "source": [
        "print('Moda de Zona_geografica: ', statistics.mode(df['Zona_geografica']))"
      ],
      "metadata": {
        "colab": {
          "base_uri": "https://localhost:8080/"
        },
        "id": "AomRumIP58WK",
        "outputId": "e3be5e47-034b-498c-9c49-0ee01efe3c86"
      },
      "execution_count": null,
      "outputs": [
        {
          "output_type": "stream",
          "name": "stdout",
          "text": [
            "Moda de Zona_geografica:  LIMA MODERNA\n"
          ]
        }
      ]
    },
    {
      "cell_type": "markdown",
      "source": [
        "## 3.interpetaInterpretar los indicadores extraídos en el jupyter "
      ],
      "metadata": {
        "id": "qdMsGN6hGDcf"
      }
    },
    {
      "cell_type": "markdown",
      "source": [
        "* Variable **Ingreso**:\n",
        "  *  El promedio de ingresos es MAYOR a la mediana, lo que nos dice que hay mas personas con ingresos menores al promedio\n",
        "  * La mayor cantidad de personas gana 500\n",
        "  * Hay ingresos mínimos registrados como 0, lo que genera un rango de 1 287 mil, por ser este el monto máximo de ingresos\n",
        "  * Tiene una desviación estandar bastante alta debido a la diferencia de ingresos y los valores registrados como 0\n",
        "\n",
        "* Variable **Antiguedad Cliente**:\n",
        "  * El promedio antiguedad es MENOR a la mediana, lo que nos dice que hay más personas con antiguedades mas altas\n",
        "  * La antiguedad más recurrente es de 0\n",
        "  * Hay antiguedades mínimas registradas como 0, lo que genera un rango de 579, por ser esta la antiguedad mas alta\n",
        "  * Tiene una desviación estandar de 87 debido a la diferencia de antiguedades y los valores registrados como 0\n",
        "\n",
        "* Variable **Estado Civil**:\n",
        "  * El estado civil más recurrente es el de Casado\n",
        "\n",
        "* Variable **Zona Geográfica**:\n",
        "  * El estado civil más recurrente es el de Lima Moderna"
      ],
      "metadata": {
        "id": "cpRiQdkVdf8R"
      }
    },
    {
      "cell_type": "markdown",
      "source": [
        "## 4. Generar gráficos que mejor expliquen cada uno de las 4 variable"
      ],
      "metadata": {
        "id": "zVDRXnEBGqff"
      }
    },
    {
      "cell_type": "code",
      "source": [
        "# Librerias necesarias para graficar\n",
        "import seaborn as sns\n",
        "import matplotlib as plt"
      ],
      "metadata": {
        "id": "SUfjTU8VyRG6"
      },
      "execution_count": null,
      "outputs": []
    },
    {
      "cell_type": "markdown",
      "source": [
        "1. Variable Ingresos"
      ],
      "metadata": {
        "id": "pnjRdjFf8fO1"
      }
    },
    {
      "cell_type": "code",
      "source": [
        "# Ingresos\n",
        "sns.set_palette('tab10')\n",
        "sns.histplot(df['Ingreso']).set(title='Histograma de la variable Ingresos')\n"
      ],
      "metadata": {
        "id": "eWG2IgI2GwVb",
        "colab": {
          "base_uri": "https://localhost:8080/",
          "height": 312
        },
        "outputId": "f26d23c6-9af6-442d-dcef-12a4807aef78"
      },
      "execution_count": null,
      "outputs": [
        {
          "output_type": "execute_result",
          "data": {
            "text/plain": [
              "[Text(0.5, 1.0, 'Histograma de la variable Ingresos')]"
            ]
          },
          "metadata": {},
          "execution_count": 37
        },
        {
          "output_type": "display_data",
          "data": {
            "text/plain": [
              "<Figure size 432x288 with 1 Axes>"
            ],
            "image/png": "[encoded data removed]"
          },
          "metadata": {
            "needs_background": "light"
          }
        }
      ]
    },
    {
      "cell_type": "markdown",
      "source": [
        "2. Variable Antiguedad Cliente"
      ],
      "metadata": {
        "id": "edet3l_08jpZ"
      }
    },
    {
      "cell_type": "code",
      "source": [
        "sns.set_palette('tab10')\n",
        "sns.histplot(df['Antiguedad_cliente']).set(title='Distribución de la variable Antiguedad de Cliente')"
      ],
      "metadata": {
        "colab": {
          "base_uri": "https://localhost:8080/",
          "height": 313
        },
        "id": "VENyBeTOyl9e",
        "outputId": "5276fe36-154d-4df3-eba6-3c83d5b0ad81"
      },
      "execution_count": null,
      "outputs": [
        {
          "output_type": "execute_result",
          "data": {
            "text/plain": [
              "[Text(0.5, 1.0, 'Distribución de la variable Antiguedad de Cliente')]"
            ]
          },
          "metadata": {},
          "execution_count": 38
        },
        {
          "output_type": "display_data",
          "data": {
            "text/plain": [
              "<Figure size 432x288 with 1 Axes>"
            ],
            "image/png": "[encoded data removed]"
          },
          "metadata": {
            "needs_background": "light"
          }
        }
      ]
    },
    {
      "cell_type": "markdown",
      "source": [
        "3. Relación entre antiguedad e ingreso"
      ],
      "metadata": {
        "id": "kRfn2LEm8npb"
      }
    },
    {
      "cell_type": "code",
      "source": [
        "sns.set_palette('tab10')\n",
        "dist = sns.jointplot(data = df,x = 'Antiguedad_cliente', y = 'Ingreso')\n",
        "dist.fig.suptitle('Antiguedad por Ingresos', y= 1)\n"
      ],
      "metadata": {
        "colab": {
          "base_uri": "https://localhost:8080/",
          "height": 469
        },
        "id": "1vhlzs648rJ9",
        "outputId": "a6def100-079e-483f-834f-6259aeabd5d6"
      },
      "execution_count": null,
      "outputs": [
        {
          "output_type": "execute_result",
          "data": {
            "text/plain": [
              "Text(0.5, 1, 'Antiguedad por Ingresos')"
            ]
          },
          "metadata": {},
          "execution_count": 39
        },
        {
          "output_type": "display_data",
          "data": {
            "text/plain": [
              "<Figure size 432x432 with 3 Axes>"
            ],
            "image/png": "[encoded data removed]"
          },
          "metadata": {
            "needs_background": "light"
          }
        }
      ]
    },
    {
      "cell_type": "markdown",
      "source": [
        "4. Variable Estado Civil"
      ],
      "metadata": {
        "id": "NIQ8uNgL85rb"
      }
    },
    {
      "cell_type": "code",
      "source": [
        "ec = df.groupby(by='Estado_civil', as_index=False).agg(n = ('ID', 'count')).sort_values(by='n', ascending=False)\n",
        "\n",
        "# Grafico\n",
        "sns.set_palette('tab10')\n",
        "sns.barplot(data = ec, x = 'Estado_civil', y = 'n').set(title='Estado civil de clientes')"
      ],
      "metadata": {
        "colab": {
          "base_uri": "https://localhost:8080/",
          "height": 313
        },
        "id": "MTcV05B610Si",
        "outputId": "cca31c57-32a8-444d-b291-2f50a4881327"
      },
      "execution_count": null,
      "outputs": [
        {
          "output_type": "execute_result",
          "data": {
            "text/plain": [
              "[Text(0.5, 1.0, 'Estado civil de clientes')]"
            ]
          },
          "metadata": {},
          "execution_count": 40
        },
        {
          "output_type": "display_data",
          "data": {
            "text/plain": [
              "<Figure size 432x288 with 1 Axes>"
            ],
            "image/png": "[encoded data removed]"
          },
          "metadata": {
            "needs_background": "light"
          }
        }
      ]
    },
    {
      "cell_type": "markdown",
      "source": [
        "5. Variable Zona Geográfica"
      ],
      "metadata": {
        "id": "yQn9MSPp8an-"
      }
    },
    {
      "cell_type": "code",
      "source": [
        "zg = df.groupby(by='Zona_geografica', as_index=False).agg(n = ('ID', 'count')).sort_values(by='n', ascending=False)\n",
        "\n",
        "# Grafico\n",
        "sns.set_palette('tab10')\n",
        "sns.barplot(data = zg, y = 'Zona_geografica', x = 'n').set(title='Zona Geográfica de los clientes')"
      ],
      "metadata": {
        "colab": {
          "base_uri": "https://localhost:8080/",
          "height": 312
        },
        "id": "R3PNHJRt1vXp",
        "outputId": "061546ff-0d68-4915-cb15-ac53b324bd40"
      },
      "execution_count": null,
      "outputs": [
        {
          "output_type": "execute_result",
          "data": {
            "text/plain": [
              "[Text(0.5, 1.0, 'Zona Geográfica de los clientes')]"
            ]
          },
          "metadata": {},
          "execution_count": 41
        },
        {
          "output_type": "display_data",
          "data": {
            "text/plain": [
              "<Figure size 432x288 with 1 Axes>"
            ],
            "image/png": "[encoded data removed]"
          },
          "metadata": {
            "needs_background": "light"
          }
        }
      ]
    },
    {
      "cell_type": "markdown",
      "source": [
        "## 5. Interpretar cada grafico dentro del jupyter"
      ],
      "metadata": {
        "id": "CwSrSXliGvyu"
      }
    },
    {
      "cell_type": "markdown",
      "source": [
        "1. Gráfico **Ingreso**:\n",
        "  *  Se ve una distribución bastante desviada, pues los valores extralos son muy altos\n",
        "  * Hay un pico elevado entre cero y mil, lo que nos mostraria la moda\n",
        "\n",
        "2. Gráfico **Antiguedad Cliente**:\n",
        "  * El gráfico no tiene un comportamiento normal, pues tiene varios picos en diferentes valores\n",
        "  * Después de 250 las antiguedades reducen su frecuencia\n",
        "\n",
        "3. Gráfico **Antiguedad Cliente**  VS **Ingreso**:\n",
        "  * Al parecer no se encuentra una relación entre la antiguedad y el ingreso de los clientes.\n",
        "  * Esta relación puede verse manchada por la gran cantidad de ingresos registrados como 0\n",
        "\n",
        "4. Gráfico **Estado Civil**:\n",
        "  * Se muestra visualmente que después de Casado, el estado civil más recurrente es el soltero\n",
        "\n",
        "5. Gráfico **Zona Geográfica**:\n",
        "  * Además de Lima Moderna, Norte y Lima Centro están en el top 3 de zonas con mayor clientes\n",
        "  * La zona donde hay menos clientes es Lima Provincia"
      ],
      "metadata": {
        "id": "45ITf78v9y60"
      }
    },
    {
      "cell_type": "code",
      "source": [],
      "metadata": {
        "id": "kdn4Tk0nA3GL"
      },
      "execution_count": null,
      "outputs": []
    }
  ]
}