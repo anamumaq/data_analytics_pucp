{
  "nbformat": 4,
  "nbformat_minor": 0,
  "metadata": {
    "colab": {
      "provenance": []
    },
    "kernelspec": {
      "name": "python3",
      "display_name": "Python 3"
    },
    "language_info": {
      "name": "python"
    }
  },
  "cells": [
    {
      "cell_type": "markdown",
      "source": [
        "<img src=\"https://www.python.org/static/img/python-logo.png\" width=\"300\" alt=\"Python logo\"  />\n",
        "<font color='blue'>\n",
        "$\\Large\\text{Pontificia Universidad Católica del Perú}$</font>"
      ],
      "metadata": {
        "id": "asFiW1FPxdid"
      }
    },
    {
      "cell_type": "markdown",
      "source": [
        "$$\\Large \\textit{Estadística Aplicada}$$\n",
        "\n",
        "$$\\large\\textbf{Modelos de probabilidad continua, Fundamentosde inferencia}$$\n",
        "\n",
        "_Integrantes:_\n",
        "\n",
        "*   Alumno1\n",
        "*   Alumno2\n",
        "*   Alumno3\n",
        "___"
      ],
      "metadata": {
        "id": "lPfUyzulvj_S"
      }
    },
    {
      "cell_type": "markdown",
      "source": [
        "### **Actividad grupal**\n",
        "\n",
        "Total de puntos (20 ptos)\n",
        "\n",
        "\n",
        "\n"
      ],
      "metadata": {
        "id": "M-O5yttcOZaz"
      }
    },
    {
      "cell_type": "markdown",
      "source": [
        "**Ejercicio 1**\n",
        "\n",
        "El peso de las gallinas en una granja sigue una distribución normal con una media de 2.1 kg y una desviacion estandar de 0.5 kg. \n",
        "\n",
        "**a) (1 punto)** Determine el porcentaje de gallinas cuyo peso es mayor a 3 kg\n",
        "\n",
        "**b) (2 puntos)** Determine el porcentaje de gallinas cuyo peso esta entre 2 kg a 2.5 kg"
      ],
      "metadata": {
        "id": "ruiCRgYG8o1y"
      }
    },
    {
      "cell_type": "code",
      "source": [],
      "metadata": {
        "id": "Hfe2UuMG2fIx"
      },
      "execution_count": null,
      "outputs": []
    },
    {
      "cell_type": "markdown",
      "source": [
        "**Ejercicio 2**\n",
        "\n",
        "La duración de un televisor, en años, es una v.a. que se distribuye según una distribución normal con una media de 4.1 años y una desviación estandar de 1.3 años. Este televisor tiene garantia de 1 año \n",
        "\n",
        "**a) (1 punto)** ¿Cuál es la probabilidad de que el televisor se malogre durante el periodo de garantia? \n",
        "\n",
        "**b) (2 puntos)** ¿Cuál es la probabilidad de que el televisor funcione entre 9 a 10 años?"
      ],
      "metadata": {
        "id": "Hx9W5FPDaEQv"
      }
    },
    {
      "cell_type": "code",
      "source": [],
      "metadata": {
        "id": "rpSplw1jaDrP"
      },
      "execution_count": null,
      "outputs": []
    },
    {
      "cell_type": "markdown",
      "source": [
        "**Ejercicio 3**\n",
        "\n",
        "El tiempo que demora restaurar una obra de arte tiene una distribución aproximadamente exponencial, con media 5 semanas.\n",
        "\n",
        "**a) (1 punto)** Hallar la probabilidad de que el tiempo de restauración sea mayor que diez semanas.\n",
        "\n",
        "**b) (3 puntos)** El sueldo del restaurador es de 1500 soles por semana o fracción mas un costo fijo de 500 soles por proyecto. ¿Cuál es la probabilidad de que la restauración de una obra de arte cueste 23000 soles?"
      ],
      "metadata": {
        "id": "s93TYsQ64lgb"
      }
    },
    {
      "cell_type": "code",
      "source": [],
      "metadata": {
        "id": "oQ7IPhI80OqM"
      },
      "execution_count": null,
      "outputs": []
    },
    {
      "cell_type": "markdown",
      "source": [
        "## **Fundamentos de Inferencia**\n",
        "\n",
        "Caso de estudio: **\"Base_financiera_1\"**\n",
        "\n",
        "Para los siguientes ejercicios, usar esta base de datos que contiene información financiera de un grupo de clientes. \n"
      ],
      "metadata": {
        "id": "J1tj0ChbGFI4"
      }
    },
    {
      "cell_type": "markdown",
      "source": [
        "**Ejercicio 4**\n",
        "\n",
        "A partir de la base entregada desarrolle los siguientes procesos:\n",
        "\n",
        "**a) (1 punto)** Extraiga una muestra del 20% de la población (con reemplazo). ¿Cuántos registros repetidos se encuentran en esta muestra? \n",
        "\n",
        "**b) (2 puntos)** Extraiga una muestra del 30% de la población (sin reemplazo). ¿Cuántos registros repetidos se encuentran en esta muestra? \n",
        "\n",
        "**c) (2 puntos)** Elige una variable categórica en la base de datos. Luego calcula la distribución porcentual de esta variable en la muestra sin reemplazo versus su distribución en la población. ¿Qué diferencias o similitudes observas?, ¿Qué puedes concluir a partir de lo observado?\n",
        "\n"
      ],
      "metadata": {
        "id": "JrTqQ9uXw76Z"
      }
    },
    {
      "cell_type": "code",
      "source": [],
      "metadata": {
        "id": "I8TeyFfUG8Q4"
      },
      "execution_count": null,
      "outputs": []
    },
    {
      "cell_type": "markdown",
      "source": [
        "\n",
        "**Ejercicio 5**\n",
        "\n",
        "**a) (2 puntos)** Usa la misma variable categórica del ejercicio 4 para que sirva como estrato dentro de la base de datos. Luego realiza un muestreo estratificado en función de de esta variable.\n",
        "\n",
        "**b) (3 puntos)** Usa esta misma variable categórica para calcular la distribución porcentual de esta variable en la muestra obtenida versus su distribución en la población. ¿Qué diferencias o similitudes observas?, ¿Qué puedes concluir a partir de lo observado?\n"
      ],
      "metadata": {
        "id": "ccMX3vaD078a"
      }
    },
    {
      "cell_type": "code",
      "source": [
        "# "
      ],
      "metadata": {
        "id": "iOpaXIvLG9_Y"
      },
      "execution_count": null,
      "outputs": []
    }
  ]
}